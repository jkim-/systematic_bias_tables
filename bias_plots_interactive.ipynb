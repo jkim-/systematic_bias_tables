{
 "cells": [
  {
   "cell_type": "code",
   "execution_count": 1,
   "metadata": {
    "collapsed": false
   },
   "outputs": [
    {
     "data": {
      "text/html": [
       "<script>var waitForPlotly = setInterval( function() {if( typeof(window.Plotly) !== \"undefined\" ){MathJax.Hub.Config({ SVG: { font: \"STIX-Web\" }, displayAlign: \"center\" });MathJax.Hub.Queue([\"setRenderer\", MathJax.Hub, \"SVG\"]);clearInterval(waitForPlotly);}}, 250 );</script>"
      ],
      "text/plain": [
       "<IPython.core.display.HTML object>"
      ]
     },
     "metadata": {},
     "output_type": "display_data"
    },
    {
     "data": {
      "text/html": [
       "<script>requirejs.config({paths: { 'plotly': ['https://cdn.plot.ly/plotly-latest.min']},});if(!window.Plotly) {{require(['plotly'],function(plotly) {window.Plotly=plotly;});}}</script>"
      ],
      "text/vnd.plotly.v1+html": [
       "<script>requirejs.config({paths: { 'plotly': ['https://cdn.plot.ly/plotly-latest.min']},});if(!window.Plotly) {{require(['plotly'],function(plotly) {window.Plotly=plotly;});}}</script>"
      ]
     },
     "metadata": {},
     "output_type": "display_data"
    }
   ],
   "source": [
    "import numpy as np\n",
    "import plotly\n",
    "import plotly.offline as py\n",
    "import plotly.graph_objs as go\n",
    "import colorlover as cl\n",
    "from IPython.core.display import display, HTML\n",
    "\n",
    "display(HTML(\n",
    "    '<script>'\n",
    "        'var waitForPlotly = setInterval( function() {'\n",
    "            'if( typeof(window.Plotly) !== \"undefined\" ){'\n",
    "                'MathJax.Hub.Config({ SVG: { font: \"STIX-Web\" }, displayAlign: \"center\" });'\n",
    "                'MathJax.Hub.Queue([\"setRenderer\", MathJax.Hub, \"SVG\"]);'\n",
    "                'clearInterval(waitForPlotly);'\n",
    "            '}}, 250 );'\n",
    "    '</script>'\n",
    "))\n",
    "\n",
    "py.init_notebook_mode(connected=True)\n",
    "\n",
    "from utils.get_bias import get_bias"
   ]
  },
  {
   "cell_type": "code",
   "execution_count": 2,
   "metadata": {
    "collapsed": true
   },
   "outputs": [],
   "source": [
    "dirs = ['mc.brf.drho.down', 'mc.brf.drho.up',\n",
    "        'mc.brf.dss.down', 'mc.brf.dss.up', \n",
    "        'mc.brf.dstara.down', 'mc.brf.dstara.up', \n",
    "        'mc.brf.rdss',\n",
    "        'mc.brf.sl.p0.down', 'mc.brf.sl.p0.up',\n",
    "        'mc.brf.sl.p1.down', 'mc.brf.sl.p1.up',\n",
    "        'mc.brf.strange.down', 'mc.brf.strange.up',\n",
    "        'mc.ff.llswb2',\n",
    "        'mc.ff.p0.down', 'mc.ff.p0.up',\n",
    "        'mc.ff.p1.down', 'mc.ff.p1.up',\n",
    "        'mc.ff.p2.down', 'mc.ff.p2.up',\n",
    "        'mc.ff.rho2.down', 'mc.ff.rho2.up',\n",
    "        'mc.crosscheck',\n",
    "        'mc.dssdpipi',\n",
    "        'mc.lumi.down', 'mc.lumi.up',\n",
    "        'mc.sideband.comb',\n",
    "        'mc.brf.drho.down.twosigma', 'mc.brf.drho.up.twosigma',\n",
    "        'mc.brf.dss.down.twosigma', 'mc.brf.dss.up.twosigma', \n",
    "        'mc.brf.dstara.down.twosigma', 'mc.brf.dstara.up.twosigma', \n",
    "        'mc.brf.sl.p0.down.twosigma', 'mc.brf.sl.p0.up.twosigma',\n",
    "        'mc.brf.sl.p1.down.twosigma', 'mc.brf.sl.p1.up.twosigma',\n",
    "        'mc.brf.strange.down.twosigma', 'mc.brf.strange.up.twosigma',\n",
    "       ]\n",
    "\n",
    "input_fnames = ['results.0.0.csv', 'results.1.0.csv', 'results.2.0.csv', 'results.3.0.csv', 'results.4.0.csv',\n",
    "                'results.0.5.csv', 'results.1.5.csv', 'results.2.5.csv', 'results.3.5.csv', 'results.4.5.csv']\n",
    "\n",
    "central_input_fnames = ['results.0.0.csv', 'results.1.0.csv', 'results.2.0.csv', 'results.3.0.csv', 'results.4.0.csv',\n",
    "                        'results.0.59.csv', 'results.1.59.csv', 'results.2.59.csv', 'results.3.59.csv', 'results.4.59.csv']"
   ]
  },
  {
   "cell_type": "code",
   "execution_count": 3,
   "metadata": {
    "collapsed": false
   },
   "outputs": [],
   "source": [
    "bias_table_dict = {}\n",
    "for dir in dirs:\n",
    "    data = []\n",
    "    for fname in input_fnames:\n",
    "        data.append(np.append(*get_bias('{}/{}'.format(dir, fname))))\n",
    "    data = np.array(data)\n",
    "    ind = np.lexsort((data[:,0], data[:,1]))\n",
    "    data = data[ind]\n",
    "    if dir not in bias_table_dict:\n",
    "        bias_table_dict[dir] = data\n",
    "    else:\n",
    "        raise ValueError()\n",
    "        \n",
    "# Central\n",
    "data = []\n",
    "for fname in central_input_fnames:\n",
    "    data.append(np.append(*get_bias('/home/jkim/Analysis/Plots/data/five_comp_no_tuning/{}'.format(fname))))\n",
    "data = np.array(data)\n",
    "ind = np.lexsort((data[:,0], data[:,1]))\n",
    "data = data[ind]\n",
    "bias_table_dict['central'] = data"
   ]
  },
  {
   "cell_type": "code",
   "execution_count": 4,
   "metadata": {
    "collapsed": true
   },
   "outputs": [],
   "source": [
    "data_proportions_dict = {\n",
    "    'mc.brf.drho.down': [ 0.01080102, 0.00088028],\n",
    "    'mc.brf.drho.up': [ 0.00492946, 0.0010851 ],\n",
    "    'mc.brf.dss.down': [ 0.00550215, 0.00076478],\n",
    "    'mc.brf.dss.up': [ 0.00488512, 0.00073582],\n",
    "    'mc.brf.dstara.down': [ 0.00455433, 0.0007872],\n",
    "    'mc.brf.dstara.up': [ 0.00615502, 0.00121103],\n",
    "    'mc.brf.rdss': [ 0.01011556, 0.00084755],\n",
    "    'mc.brf.sl.p0.down': [ 0.00385612, 0.00067616],\n",
    "    'mc.brf.sl.p0.up': [ 0.0044154 , 0.00066221],\n",
    "    'mc.brf.sl.p1.down': [ 0.00278224, 0.00498911],\n",
    "    'mc.brf.sl.p1.up': [ 0.01093976, 0.00050138],\n",
    "    'mc.brf.strange.down': [ 0.0056667, 0.0008341],\n",
    "    'mc.brf.strange.up': [ 0.0061267 , 0.00197759],\n",
    "    'mc.ff.llswb2': [ 0.01057984, 0.00126754],\n",
    "    'mc.ff.p0.down': [ 0.00266511, 0.00078978],\n",
    "    'mc.ff.p0.up': [ 0.00359724, 0.00301348],\n",
    "    'mc.ff.p1.down': [ 0.00364635, 0.00103257],\n",
    "    'mc.ff.p1.up': [ 0.00532162, 0.00099917],\n",
    "    'mc.ff.p2.down': [ 0.00251653, 0.00326492],\n",
    "    'mc.ff.p2.up': [ 0.00417491, 0.0007019 ],\n",
    "    'mc.ff.rho2.down': [ 0.00509759, 0.00133563],\n",
    "    'mc.ff.rho2.up': [ 0.00280695, 0.00315691],\n",
    "    'mc.crosscheck': [ 0.00417864, 0.00084034],\n",
    "    'mc.dssdpipi': [ 0.00473568, 0.00090092],\n",
    "    'mc.lumi.down': [ 0.0043235 , 0.00077588],\n",
    "    'mc.lumi.up': [ 0.00331081, 0.00573217],\n",
    "    'mc.sideband.comb': [ 0.00254552, 0.00096591],\n",
    "    'mc.brf.drho.down.twosigma': [ 0.00320697, 0.00109837],\n",
    "    'mc.brf.drho.up.twosigma': [ 0.01402308, 0.00101813],\n",
    "    'mc.brf.dss.down.twosigma': [ 0.00566856, 0.00099194],\n",
    "    'mc.brf.dss.up.twosigma': [ 0.00351873, 0.0007786 ],\n",
    "    'mc.brf.dstara.down.twosigma': [ 0.00320874, 0.00066874],\n",
    "    'mc.brf.dstara.up.twosigma': [ 0.00670481, 0.00091242],\n",
    "    'mc.brf.sl.p0.down.twosigma': [ 0.00490012, 0.00076539],\n",
    "    'mc.brf.sl.p0.up.twosigma': [ 0.00567584, 0.0008871 ],\n",
    "    'mc.brf.sl.p1.down.twosigma': [ 0.00501981, 0.00105989],\n",
    "    'mc.brf.sl.p1.up.twosigma': [ 0.00606192, 0.00065665],\n",
    "    'mc.brf.strange.down.twosigma': [ 0.00326381, 0.00081584],\n",
    "    'mc.brf.strange.up.twosigma': [ 0.00775344, 0.00109663],\n",
    "    'central': [0.00512954, 0.00090702]\n",
    "}\n",
    "\n",
    "# central_data_extracted_proportions = [0.00512954, 0.00090702]"
   ]
  },
  {
   "cell_type": "code",
   "execution_count": 5,
   "metadata": {
    "collapsed": false,
    "scrolled": false
   },
   "outputs": [
    {
     "data": {
      "application/vnd.plotly.v1+json": {
       "data": [
        {
         "hoverinfo": "text",
         "marker": {
          "color": "black",
          "line": {
           "color": "black",
           "width": 0.8
          }
         },
         "mode": "markers",
         "name": "central",
         "text": [
          "(0.0018,0.0008)<br>True: (0.0000,0.0000)<br>central",
          "(0.0029,0.0017)<br>True: (0.0100,0.0000)<br>central",
          "(0.0056,0.0031)<br>True: (0.0200,0.0000)<br>central",
          "(0.0123,0.0040)<br>True: (0.0300,0.0000)<br>central",
          "(0.0197,0.0046)<br>True: (0.0400,0.0000)<br>central",
          "(0.0020,0.0016)<br>True: (0.0000,0.0059)<br>central",
          "(0.0038,0.0037)<br>True: (0.0100,0.0059)<br>central",
          "(0.0091,0.0052)<br>True: (0.0200,0.0059)<br>central",
          "(0.0147,0.0068)<br>True: (0.0300,0.0059)<br>central",
          "(0.0227,0.0077)<br>True: (0.0400,0.0059)<br>central"
         ],
         "type": "scatter",
         "x": [
          0.0017794295000000005,
          0.0029142250000000003,
          0.00563408575,
          0.01230960075,
          0.019745399499999997,
          0.00196355,
          0.0038342709999999993,
          0.009115469,
          0.014669792749999999,
          0.0227244995
         ],
         "y": [
          0.000847743,
          0.0016839582499999992,
          0.003132707250000001,
          0.00403463425,
          0.0046153745,
          0.0016330575000000009,
          0.0037253664999999992,
          0.005247472,
          0.006838373,
          0.007714710750000001
         ]
        },
        {
         "hoverinfo": "text",
         "marker": {
          "color": "black",
          "line": {
           "color": "black",
           "width": 0.8
          },
          "size": 20,
          "symbol": "star"
         },
         "mode": "markers",
         "name": "central Data",
         "text": "(0.0051,0.0009)<br>central Data",
         "type": "scatter",
         "x": [
          0.00512954
         ],
         "y": [
          0.00090702
         ]
        },
        {
         "hoverinfo": "text",
         "marker": {
          "color": "hsl(45.641025641, 98.2051282051%, 78.0256410256%)",
          "line": {
           "color": "black",
           "width": 0.8
          }
         },
         "mode": "markers",
         "name": "mc.brf.drho.down",
         "text": [
          "(0.0059,0.0005)<br>True: (0.0000,0.0000)<br>mc.brf.drho.down",
          "(0.0087,0.0010)<br>True: (0.0100,0.0000)<br>mc.brf.drho.down",
          "(0.0129,0.0019)<br>True: (0.0200,0.0000)<br>mc.brf.drho.down",
          "(0.0194,0.0015)<br>True: (0.0300,0.0000)<br>mc.brf.drho.down",
          "(0.0249,0.0032)<br>True: (0.0400,0.0000)<br>mc.brf.drho.down",
          "(0.0076,0.0011)<br>True: (0.0000,0.0050)<br>mc.brf.drho.down",
          "(0.0108,0.0020)<br>True: (0.0100,0.0050)<br>mc.brf.drho.down",
          "(0.0157,0.0027)<br>True: (0.0200,0.0050)<br>mc.brf.drho.down",
          "(0.0212,0.0040)<br>True: (0.0300,0.0050)<br>mc.brf.drho.down",
          "(0.0278,0.0047)<br>True: (0.0400,0.0050)<br>mc.brf.drho.down"
         ],
         "type": "scatter",
         "x": [
          0.005949336749999998,
          0.008684893,
          0.012943696499999999,
          0.019357035999999998,
          0.024882680499999997,
          0.00756899825,
          0.010800082749999999,
          0.015702369,
          0.021177940999999995,
          0.02776392550000001
         ],
         "y": [
          0.0005145094999999999,
          0.0010316255000000002,
          0.0019232485000000004,
          0.0015283555000000003,
          0.003221519499999999,
          0.0011275950000000003,
          0.0020174662499999997,
          0.00272044375,
          0.003954324249999999,
          0.004717886250000001
         ]
        },
        {
         "hoverinfo": "text",
         "marker": {
          "color": "hsl(45.641025641, 98.2051282051%, 78.0256410256%)",
          "line": {
           "color": "black",
           "width": 0.8
          },
          "size": 20,
          "symbol": "star"
         },
         "mode": "markers",
         "name": "mc.brf.drho.down Data",
         "text": "(0.0108,0.0009)<br>mc.brf.drho.down Data",
         "type": "scatter",
         "x": [
          0.01080102
         ],
         "y": [
          0.00088028
         ]
        },
        {
         "hoverinfo": "text",
         "marker": {
          "color": "hsl(18.6153846154, 90.7692307692%, 62.4615384615%)",
          "line": {
           "color": "black",
           "width": 0.8
          }
         },
         "mode": "markers",
         "name": "mc.brf.drho.down.twosigma",
         "text": [
          "(-0.0004,0.0016)<br>True: (0.0000,0.0000)<br>mc.brf.drho.down.twosigma",
          "(-0.0000,0.0025)<br>True: (0.0100,0.0000)<br>mc.brf.drho.down.twosigma",
          "(0.0035,0.0040)<br>True: (0.0200,0.0000)<br>mc.brf.drho.down.twosigma",
          "(0.0084,0.0057)<br>True: (0.0300,0.0000)<br>mc.brf.drho.down.twosigma",
          "(0.0153,0.0068)<br>True: (0.0400,0.0000)<br>mc.brf.drho.down.twosigma",
          "(-0.0004,0.0026)<br>True: (0.0000,0.0050)<br>mc.brf.drho.down.twosigma",
          "(0.0019,0.0040)<br>True: (0.0100,0.0050)<br>mc.brf.drho.down.twosigma",
          "(0.0035,0.0071)<br>True: (0.0200,0.0050)<br>mc.brf.drho.down.twosigma",
          "(0.0104,0.0087)<br>True: (0.0300,0.0050)<br>mc.brf.drho.down.twosigma",
          "(0.0178,0.0096)<br>True: (0.0400,0.0050)<br>mc.brf.drho.down.twosigma"
         ],
         "type": "scatter",
         "x": [
          -0.00044604325,
          -3.151875000000082e-05,
          0.00350901675,
          0.0083619895,
          0.015295827999999994,
          -0.0004112672499999999,
          0.0018558422499999998,
          0.0034605574999999993,
          0.010448684000000003,
          0.01779563675
         ],
         "y": [
          0.0016034065000000003,
          0.0025207199999999997,
          0.003956817999999999,
          0.00567490825,
          0.006772481249999997,
          0.0026264317499999994,
          0.00404846225,
          0.00710922175,
          0.008714839249999998,
          0.009595509999999998
         ]
        },
        {
         "hoverinfo": "text",
         "marker": {
          "color": "hsl(18.6153846154, 90.7692307692%, 62.4615384615%)",
          "line": {
           "color": "black",
           "width": 0.8
          },
          "size": 20,
          "symbol": "star"
         },
         "mode": "markers",
         "name": "mc.brf.drho.down.twosigma Data",
         "text": "(0.0032,0.0011)<br>mc.brf.drho.down.twosigma Data",
         "type": "scatter",
         "x": [
          0.00320697
         ],
         "y": [
          0.00109837
         ]
        },
        {
         "hoverinfo": "text",
         "marker": {
          "color": "hsl(108.692307692, 47.8461538462%, 75.1538461538%)",
          "line": {
           "color": "black",
           "width": 0.8
          }
         },
         "mode": "markers",
         "name": "mc.brf.drho.up",
         "text": [
          "(0.0000,0.0016)<br>True: (0.0000,0.0000)<br>mc.brf.drho.up",
          "(0.0008,0.0028)<br>True: (0.0100,0.0000)<br>mc.brf.drho.up",
          "(0.0037,0.0049)<br>True: (0.0200,0.0000)<br>mc.brf.drho.up",
          "(0.0080,0.0065)<br>True: (0.0300,0.0000)<br>mc.brf.drho.up",
          "(0.0160,0.0079)<br>True: (0.0400,0.0000)<br>mc.brf.drho.up",
          "(0.0010,0.0024)<br>True: (0.0000,0.0050)<br>mc.brf.drho.up",
          "(0.0027,0.0043)<br>True: (0.0100,0.0050)<br>mc.brf.drho.up",
          "(0.0050,0.0075)<br>True: (0.0200,0.0050)<br>mc.brf.drho.up",
          "(0.0104,0.0099)<br>True: (0.0300,0.0050)<br>mc.brf.drho.up",
          "(0.0168,0.0110)<br>True: (0.0400,0.0050)<br>mc.brf.drho.up"
         ],
         "type": "scatter",
         "x": [
          2.828649999999998e-05,
          0.00081636075,
          0.00372355475,
          0.008045632999999996,
          0.01598072525,
          0.00095879625,
          0.002675795,
          0.0050126469999999985,
          0.010360802750000002,
          0.01676337775000001
         ],
         "y": [
          0.0015907539999999998,
          0.0028394217500000004,
          0.0048628722500000015,
          0.006527718750000001,
          0.007887538499999997,
          0.0023748757500000003,
          0.004307717000000001,
          0.007520219749999997,
          0.009922445249999998,
          0.011015997500000001
         ]
        },
        {
         "hoverinfo": "text",
         "marker": {
          "color": "hsl(108.692307692, 47.8461538462%, 75.1538461538%)",
          "line": {
           "color": "black",
           "width": 0.8
          },
          "size": 20,
          "symbol": "star"
         },
         "mode": "markers",
         "name": "mc.brf.drho.up Data",
         "text": "(0.0049,0.0011)<br>mc.brf.drho.up Data",
         "type": "scatter",
         "x": [
          0.00492946
         ],
         "y": [
          0.0010851
         ]
        },
        {
         "hoverinfo": "text",
         "marker": {
          "color": "hsl(344.307692308, 64.6153846154%, 53.1794871795%)",
          "line": {
           "color": "black",
           "width": 0.8
          }
         },
         "mode": "markers",
         "name": "mc.brf.drho.up.twosigma",
         "text": [
          "(0.0036,0.0004)<br>True: (0.0000,0.0000)<br>mc.brf.drho.up.twosigma",
          "(0.0055,0.0015)<br>True: (0.0100,0.0000)<br>mc.brf.drho.up.twosigma",
          "(0.0086,0.0030)<br>True: (0.0200,0.0000)<br>mc.brf.drho.up.twosigma",
          "(0.0134,0.0048)<br>True: (0.0300,0.0000)<br>mc.brf.drho.up.twosigma",
          "(0.0194,0.0064)<br>True: (0.0400,0.0000)<br>mc.brf.drho.up.twosigma",
          "(0.0041,0.0018)<br>True: (0.0000,0.0050)<br>mc.brf.drho.up.twosigma",
          "(0.0063,0.0029)<br>True: (0.0100,0.0050)<br>mc.brf.drho.up.twosigma",
          "(0.0107,0.0054)<br>True: (0.0200,0.0050)<br>mc.brf.drho.up.twosigma",
          "(0.0150,0.0079)<br>True: (0.0300,0.0050)<br>mc.brf.drho.up.twosigma",
          "(0.0203,0.0099)<br>True: (0.0400,0.0050)<br>mc.brf.drho.up.twosigma"
         ],
         "type": "scatter",
         "x": [
          0.00362284,
          0.0055334595,
          0.00856039825,
          0.013398251,
          0.019415425000000004,
          0.0040796272500000005,
          0.00634014775,
          0.010652373499999998,
          0.015046309499999997,
          0.02034039575
         ],
         "y": [
          0.00043246824999999996,
          0.001471955,
          0.00300968575,
          0.004792392750000001,
          0.006360791749999999,
          0.0017842852499999995,
          0.00294263225,
          0.005387052999999998,
          0.00791051475,
          0.009884029749999999
         ]
        },
        {
         "hoverinfo": "text",
         "marker": {
          "color": "hsl(344.307692308, 64.6153846154%, 53.1794871795%)",
          "line": {
           "color": "black",
           "width": 0.8
          },
          "size": 20,
          "symbol": "star"
         },
         "mode": "markers",
         "name": "mc.brf.drho.up.twosigma Data",
         "text": "(0.0140,0.0010)<br>mc.brf.drho.up.twosigma Data",
         "type": "scatter",
         "x": [
          0.01402308
         ],
         "y": [
          0.00101813
         ]
        },
        {
         "hoverinfo": "text",
         "marker": {
          "color": "hsl(53.8461538462, 99.2307692308%, 83.1538461538%)",
          "line": {
           "color": "black",
           "width": 0.8
          }
         },
         "mode": "markers",
         "name": "mc.brf.dss.down",
         "text": [
          "(-0.0000,-0.0002)<br>True: (0.0000,0.0000)<br>mc.brf.dss.down",
          "(0.0019,0.0011)<br>True: (0.0100,0.0000)<br>mc.brf.dss.down",
          "(0.0067,0.0022)<br>True: (0.0200,0.0000)<br>mc.brf.dss.down",
          "(0.0132,0.0036)<br>True: (0.0300,0.0000)<br>mc.brf.dss.down",
          "(0.0217,0.0039)<br>True: (0.0400,0.0000)<br>mc.brf.dss.down",
          "(0.0003,0.0010)<br>True: (0.0000,0.0050)<br>mc.brf.dss.down",
          "(0.0037,0.0028)<br>True: (0.0100,0.0050)<br>mc.brf.dss.down",
          "(0.0086,0.0050)<br>True: (0.0200,0.0050)<br>mc.brf.dss.down",
          "(0.0165,0.0053)<br>True: (0.0300,0.0050)<br>mc.brf.dss.down",
          "(0.0236,0.0070)<br>True: (0.0400,0.0050)<br>mc.brf.dss.down"
         ],
         "type": "scatter",
         "x": [
          -4.790124999999993e-05,
          0.001929384499999999,
          0.006748574249999998,
          0.013152361250000001,
          0.02172993125,
          0.0002933397499999999,
          0.00367428375,
          0.00860603725,
          0.01652503,
          0.023550498250000003
         ],
         "y": [
          -0.00015016824999999995,
          0.0011229622500000002,
          0.002224923,
          0.003589962000000001,
          0.00389296575,
          0.0009741935000000005,
          0.0027725797500000007,
          0.004977406499999999,
          0.005267179500000001,
          0.00702415925
         ]
        },
        {
         "hoverinfo": "text",
         "marker": {
          "color": "hsl(53.8461538462, 99.2307692308%, 83.1538461538%)",
          "line": {
           "color": "black",
           "width": 0.8
          },
          "size": 20,
          "symbol": "star"
         },
         "mode": "markers",
         "name": "mc.brf.dss.down Data",
         "text": "(0.0055,0.0008)<br>mc.brf.dss.down Data",
         "type": "scatter",
         "x": [
          0.00550215
         ],
         "y": [
          0.00076478
         ]
        },
        {
         "hoverinfo": "text",
         "marker": {
          "color": "hsl(120.794871795, 44.4615384615%, 71.9487179487%)",
          "line": {
           "color": "black",
           "width": 0.8
          }
         },
         "mode": "markers",
         "name": "mc.brf.dss.down.twosigma",
         "text": [
          "(0.0012,0.0014)<br>True: (0.0000,0.0000)<br>mc.brf.dss.down.twosigma",
          "(0.0018,0.0026)<br>True: (0.0100,0.0000)<br>mc.brf.dss.down.twosigma",
          "(0.0047,0.0042)<br>True: (0.0200,0.0000)<br>mc.brf.dss.down.twosigma",
          "(0.0090,0.0065)<br>True: (0.0300,0.0000)<br>mc.brf.dss.down.twosigma",
          "(0.0165,0.0074)<br>True: (0.0400,0.0000)<br>mc.brf.dss.down.twosigma",
          "(0.0013,0.0021)<br>True: (0.0000,0.0050)<br>mc.brf.dss.down.twosigma",
          "(0.0031,0.0042)<br>True: (0.0100,0.0050)<br>mc.brf.dss.down.twosigma",
          "(0.0059,0.0069)<br>True: (0.0200,0.0050)<br>mc.brf.dss.down.twosigma",
          "(0.0115,0.0088)<br>True: (0.0300,0.0050)<br>mc.brf.dss.down.twosigma",
          "(0.0175,0.0107)<br>True: (0.0400,0.0050)<br>mc.brf.dss.down.twosigma"
         ],
         "type": "scatter",
         "x": [
          0.0011785145,
          0.0017991055000000002,
          0.004671548749999999,
          0.00902811425,
          0.01650483125,
          0.0012816865,
          0.00306195475,
          0.00594340525,
          0.011545830750000003,
          0.01748659375
         ],
         "y": [
          0.00135475925,
          0.0025886532499999992,
          0.004180740250000001,
          0.006502961999999999,
          0.007411775749999999,
          0.0021006245000000003,
          0.004245856,
          0.00693302425,
          0.008799209499999999,
          0.010668459749999998
         ]
        },
        {
         "hoverinfo": "text",
         "marker": {
          "color": "hsl(120.794871795, 44.4615384615%, 71.9487179487%)",
          "line": {
           "color": "black",
           "width": 0.8
          },
          "size": 20,
          "symbol": "star"
         },
         "mode": "markers",
         "name": "mc.brf.dss.down.twosigma Data",
         "text": "(0.0057,0.0010)<br>mc.brf.dss.down.twosigma Data",
         "type": "scatter",
         "x": [
          0.00566856
         ],
         "y": [
          0.00099194
         ]
        },
        {
         "hoverinfo": "text",
         "marker": {
          "color": "hsl(201.923076923, 40.1538461538%, 46.7435897436%)",
          "line": {
           "color": "black",
           "width": 0.8
          }
         },
         "mode": "markers",
         "name": "mc.brf.dss.up",
         "text": [
          "(0.0003,-0.0002)<br>True: (0.0000,0.0000)<br>mc.brf.dss.up",
          "(0.0015,0.0014)<br>True: (0.0100,0.0000)<br>mc.brf.dss.up",
          "(0.0037,0.0030)<br>True: (0.0200,0.0000)<br>mc.brf.dss.up",
          "(0.0107,0.0050)<br>True: (0.0300,0.0000)<br>mc.brf.dss.up",
          "(0.0175,0.0059)<br>True: (0.0400,0.0000)<br>mc.brf.dss.up",
          "(0.0001,0.0017)<br>True: (0.0000,0.0050)<br>mc.brf.dss.up",
          "(0.0024,0.0034)<br>True: (0.0100,0.0050)<br>mc.brf.dss.up",
          "(0.0060,0.0058)<br>True: (0.0200,0.0050)<br>mc.brf.dss.up",
          "(0.0122,0.0078)<br>True: (0.0300,0.0050)<br>mc.brf.dss.up",
          "(0.0193,0.0085)<br>True: (0.0400,0.0050)<br>mc.brf.dss.up"
         ],
         "type": "scatter",
         "x": [
          0.00030727975000000013,
          0.0015035854999999997,
          0.0036598322500000016,
          0.010684549250000001,
          0.01753324825,
          0.00010297749999999997,
          0.00236764475,
          0.0060343257500000014,
          0.012245858249999998,
          0.019345713000000004
         ],
         "y": [
          -0.00016193850000000007,
          0.00135324925,
          0.00297699075,
          0.0050050222499999995,
          0.00591117975,
          0.00168232675,
          0.003441673500000001,
          0.005832926000000001,
          0.007793596750000001,
          0.008502250250000004
         ]
        },
        {
         "hoverinfo": "text",
         "marker": {
          "color": "hsl(201.923076923, 40.1538461538%, 46.7435897436%)",
          "line": {
           "color": "black",
           "width": 0.8
          },
          "size": 20,
          "symbol": "star"
         },
         "mode": "markers",
         "name": "mc.brf.dss.up Data",
         "text": "(0.0049,0.0007)<br>mc.brf.dss.up Data",
         "type": "scatter",
         "x": [
          0.00488512
         ],
         "y": [
          0.00073582
         ]
        },
        {
         "hoverinfo": "text",
         "marker": {
          "color": "hsl(41.6923076923, 97.8461538462%, 75.6153846154%)",
          "line": {
           "color": "black",
           "width": 0.8
          }
         },
         "mode": "markers",
         "name": "mc.brf.dss.up.twosigma",
         "text": [
          "(-0.0005,0.0001)<br>True: (0.0000,0.0000)<br>mc.brf.dss.up.twosigma",
          "(0.0006,0.0012)<br>True: (0.0100,0.0000)<br>mc.brf.dss.up.twosigma",
          "(0.0031,0.0028)<br>True: (0.0200,0.0000)<br>mc.brf.dss.up.twosigma",
          "(0.0069,0.0048)<br>True: (0.0300,0.0000)<br>mc.brf.dss.up.twosigma",
          "(0.0134,0.0068)<br>True: (0.0400,0.0000)<br>mc.brf.dss.up.twosigma",
          "(-0.0002,0.0013)<br>True: (0.0000,0.0050)<br>mc.brf.dss.up.twosigma",
          "(0.0008,0.0035)<br>True: (0.0100,0.0050)<br>mc.brf.dss.up.twosigma",
          "(0.0041,0.0055)<br>True: (0.0200,0.0050)<br>mc.brf.dss.up.twosigma",
          "(0.0082,0.0092)<br>True: (0.0300,0.0050)<br>mc.brf.dss.up.twosigma",
          "(0.0157,0.0093)<br>True: (0.0400,0.0050)<br>mc.brf.dss.up.twosigma"
         ],
         "type": "scatter",
         "x": [
          -0.0004978754999999999,
          0.0005849452499999998,
          0.003145548249999998,
          0.006861127249999998,
          0.013372943249999998,
          -0.00024129950000000003,
          0.0007908807500000004,
          0.0041427077499999986,
          0.008160675499999999,
          0.015671710250000002
         ],
         "y": [
          6.889575e-05,
          0.0011674884999999997,
          0.0027900077499999998,
          0.004752668749999999,
          0.00680950275,
          0.0012822475,
          0.0035385290000000008,
          0.00545004875,
          0.009223586500000002,
          0.00930333275
         ]
        },
        {
         "hoverinfo": "text",
         "marker": {
          "color": "hsl(41.6923076923, 97.8461538462%, 75.6153846154%)",
          "line": {
           "color": "black",
           "width": 0.8
          },
          "size": 20,
          "symbol": "star"
         },
         "mode": "markers",
         "name": "mc.brf.dss.up.twosigma Data",
         "text": "(0.0035,0.0008)<br>mc.brf.dss.up.twosigma Data",
         "type": "scatter",
         "x": [
          0.00351873
         ],
         "y": [
          0.0007786
         ]
        },
        {
         "hoverinfo": "text",
         "marker": {
          "color": "hsl(97.6666666667, 57.3333333333%, 75.6666666667%)",
          "line": {
           "color": "black",
           "width": 0.8
          }
         },
         "mode": "markers",
         "name": "mc.brf.dstara.down",
         "text": [
          "(0.0010,0.0001)<br>True: (0.0000,0.0000)<br>mc.brf.dstara.down",
          "(0.0019,0.0015)<br>True: (0.0100,0.0000)<br>mc.brf.dstara.down",
          "(0.0062,0.0022)<br>True: (0.0200,0.0000)<br>mc.brf.dstara.down",
          "(0.0124,0.0032)<br>True: (0.0300,0.0000)<br>mc.brf.dstara.down",
          "(0.0194,0.0041)<br>True: (0.0400,0.0000)<br>mc.brf.dstara.down",
          "(0.0014,0.0015)<br>True: (0.0000,0.0050)<br>mc.brf.dstara.down",
          "(0.0041,0.0023)<br>True: (0.0100,0.0050)<br>mc.brf.dstara.down",
          "(0.0086,0.0042)<br>True: (0.0200,0.0050)<br>mc.brf.dstara.down",
          "(0.0148,0.0056)<br>True: (0.0300,0.0050)<br>mc.brf.dstara.down",
          "(0.0224,0.0073)<br>True: (0.0400,0.0050)<br>mc.brf.dstara.down"
         ],
         "type": "scatter",
         "x": [
          0.0009539687500000002,
          0.00193889425,
          0.006237468500000001,
          0.012387587500000002,
          0.019358572499999997,
          0.0014234097500000005,
          0.004052684500000001,
          0.008569216499999997,
          0.014835632499999998,
          0.022373188750000002
         ],
         "y": [
          0.00012916574999999997,
          0.0014740997500000005,
          0.00220925725,
          0.0031829050000000006,
          0.0040657575,
          0.0015400362499999997,
          0.0023325177499999997,
          0.004161378499999999,
          0.005560963250000002,
          0.007285269749999999
         ]
        },
        {
         "hoverinfo": "text",
         "marker": {
          "color": "hsl(97.6666666667, 57.3333333333%, 75.6666666667%)",
          "line": {
           "color": "black",
           "width": 0.8
          },
          "size": 20,
          "symbol": "star"
         },
         "mode": "markers",
         "name": "mc.brf.dstara.down Data",
         "text": "(0.0046,0.0008)<br>mc.brf.dstara.down Data",
         "type": "scatter",
         "x": [
          0.00455433
         ],
         "y": [
          0.0007872
         ]
        },
        {
         "hoverinfo": "text",
         "marker": {
          "color": "hsl(86.641025641, 66.8205128205%, 76.1794871795%)",
          "line": {
           "color": "black",
           "width": 0.8
          }
         },
         "mode": "markers",
         "name": "mc.brf.dstara.down.twosigma",
         "text": [
          "(0.0006,0.0007)<br>True: (0.0000,0.0000)<br>mc.brf.dstara.down.twosigma",
          "(0.0013,0.0016)<br>True: (0.0100,0.0000)<br>mc.brf.dstara.down.twosigma",
          "(0.0050,0.0031)<br>True: (0.0200,0.0000)<br>mc.brf.dstara.down.twosigma",
          "(0.0096,0.0044)<br>True: (0.0300,0.0000)<br>mc.brf.dstara.down.twosigma",
          "(0.0172,0.0056)<br>True: (0.0400,0.0000)<br>mc.brf.dstara.down.twosigma",
          "(0.0010,0.0014)<br>True: (0.0000,0.0050)<br>mc.brf.dstara.down.twosigma",
          "(0.0031,0.0031)<br>True: (0.0100,0.0050)<br>mc.brf.dstara.down.twosigma",
          "(0.0067,0.0053)<br>True: (0.0200,0.0050)<br>mc.brf.dstara.down.twosigma",
          "(0.0123,0.0075)<br>True: (0.0300,0.0050)<br>mc.brf.dstara.down.twosigma",
          "(0.0186,0.0093)<br>True: (0.0400,0.0050)<br>mc.brf.dstara.down.twosigma"
         ],
         "type": "scatter",
         "x": [
          0.0006066902499999999,
          0.0012748085000000003,
          0.005022473249999999,
          0.009562500249999998,
          0.017230037,
          0.0009656815000000003,
          0.0031391617499999993,
          0.00670481725,
          0.01231905375,
          0.018598836750000004
         ],
         "y": [
          0.0006648407500000001,
          0.0016018175000000006,
          0.00309618925,
          0.00440743925,
          0.0056497892499999995,
          0.0013812137499999997,
          0.0031119187500000004,
          0.00531370875,
          0.007517627000000001,
          0.009336090999999998
         ]
        },
        {
         "hoverinfo": "text",
         "marker": {
          "color": "hsl(86.641025641, 66.8205128205%, 76.1794871795%)",
          "line": {
           "color": "black",
           "width": 0.8
          },
          "size": 20,
          "symbol": "star"
         },
         "mode": "markers",
         "name": "mc.brf.dstara.down.twosigma Data",
         "text": "(0.0032,0.0007)<br>mc.brf.dstara.down.twosigma Data",
         "type": "scatter",
         "x": [
          0.00320874
         ],
         "y": [
          0.00066874
         ]
        },
        {
         "hoverinfo": "text",
         "marker": {
          "color": "hsl(26.3076923077, 95.3846153846%, 66.5641025641%)",
          "line": {
           "color": "black",
           "width": 0.8
          }
         },
         "mode": "markers",
         "name": "mc.brf.dstara.up",
         "text": [
          "(0.0006,0.0011)<br>True: (0.0000,0.0000)<br>mc.brf.dstara.up",
          "(0.0015,0.0026)<br>True: (0.0100,0.0000)<br>mc.brf.dstara.up",
          "(0.0047,0.0039)<br>True: (0.0200,0.0000)<br>mc.brf.dstara.up",
          "(0.0107,0.0057)<br>True: (0.0300,0.0000)<br>mc.brf.dstara.up",
          "(0.0182,0.0062)<br>True: (0.0400,0.0000)<br>mc.brf.dstara.up",
          "(0.0009,0.0015)<br>True: (0.0000,0.0050)<br>mc.brf.dstara.up",
          "(0.0038,0.0032)<br>True: (0.0100,0.0050)<br>mc.brf.dstara.up",
          "(0.0065,0.0065)<br>True: (0.0200,0.0050)<br>mc.brf.dstara.up",
          "(0.0127,0.0084)<br>True: (0.0300,0.0050)<br>mc.brf.dstara.up",
          "(0.0205,0.0089)<br>True: (0.0400,0.0050)<br>mc.brf.dstara.up"
         ],
         "type": "scatter",
         "x": [
          0.0005903584999999999,
          0.0014740432499999994,
          0.004677454500000001,
          0.01066312375,
          0.018241135,
          0.000889009,
          0.003770049249999999,
          0.006505091249999999,
          0.0126876585,
          0.020528139000000004
         ],
         "y": [
          0.0010701774999999998,
          0.002565334499999999,
          0.003945362249999999,
          0.005718432,
          0.00615486875,
          0.001530061,
          0.0032263180000000015,
          0.006472035500000001,
          0.008378453499999999,
          0.008944788750000002
         ]
        },
        {
         "hoverinfo": "text",
         "marker": {
          "color": "hsl(26.3076923077, 95.3846153846%, 66.5641025641%)",
          "line": {
           "color": "black",
           "width": 0.8
          },
          "size": 20,
          "symbol": "star"
         },
         "mode": "markers",
         "name": "mc.brf.dstara.up Data",
         "text": "(0.0062,0.0012)<br>mc.brf.dstara.up Data",
         "type": "scatter",
         "x": [
          0.00615502
         ],
         "y": [
          0.00121103
         ]
        },
        {
         "hoverinfo": "text",
         "marker": {
          "color": "hsl(145.923076923, 42.9230769231%, 63.2307692308%)",
          "line": {
           "color": "black",
           "width": 0.8
          }
         },
         "mode": "markers",
         "name": "mc.brf.dstara.up.twosigma",
         "text": [
          "(-0.0006,0.0013)<br>True: (0.0000,0.0000)<br>mc.brf.dstara.up.twosigma",
          "(0.0007,0.0021)<br>True: (0.0100,0.0000)<br>mc.brf.dstara.up.twosigma",
          "(0.0035,0.0035)<br>True: (0.0200,0.0000)<br>mc.brf.dstara.up.twosigma",
          "(0.0101,0.0044)<br>True: (0.0300,0.0000)<br>mc.brf.dstara.up.twosigma",
          "(0.0175,0.0049)<br>True: (0.0400,0.0000)<br>mc.brf.dstara.up.twosigma",
          "(-0.0010,0.0025)<br>True: (0.0000,0.0050)<br>mc.brf.dstara.up.twosigma",
          "(-0.0000,0.0045)<br>True: (0.0100,0.0050)<br>mc.brf.dstara.up.twosigma",
          "(0.0058,0.0057)<br>True: (0.0200,0.0050)<br>mc.brf.dstara.up.twosigma",
          "(0.0117,0.0075)<br>True: (0.0300,0.0050)<br>mc.brf.dstara.up.twosigma",
          "(0.0197,0.0083)<br>True: (0.0400,0.0050)<br>mc.brf.dstara.up.twosigma"
         ],
         "type": "scatter",
         "x": [
          -0.0005906769999999998,
          0.0007388529999999994,
          0.003512321750000002,
          0.01005464625,
          0.0174682095,
          -0.0010207120000000004,
          -4.024424999999991e-05,
          0.00577062125,
          0.0117198165,
          0.0196875495
         ],
         "y": [
          0.0012863935,
          0.0020816942499999997,
          0.00353142725,
          0.0044001445,
          0.004932387000000001,
          0.0025046102500000007,
          0.004501293500000001,
          0.005704159000000001,
          0.0075073514999999995,
          0.008252961250000001
         ]
        },
        {
         "hoverinfo": "text",
         "marker": {
          "color": "hsl(145.923076923, 42.9230769231%, 63.2307692308%)",
          "line": {
           "color": "black",
           "width": 0.8
          },
          "size": 20,
          "symbol": "star"
         },
         "mode": "markers",
         "name": "mc.brf.dstara.up.twosigma Data",
         "text": "(0.0067,0.0009)<br>mc.brf.dstara.up.twosigma Data",
         "type": "scatter",
         "x": [
          0.00670481
         ],
         "y": [
          0.00091242
         ]
        },
        {
         "hoverinfo": "text",
         "marker": {
          "color": "hsl(167.564102564, 45.2820512821%, 55.5384615385%)",
          "line": {
           "color": "black",
           "width": 0.8
          }
         },
         "mode": "markers",
         "name": "mc.brf.rdss",
         "text": [
          "(0.0049,0.0005)<br>True: (0.0000,0.0000)<br>mc.brf.rdss",
          "(0.0076,0.0014)<br>True: (0.0100,0.0000)<br>mc.brf.rdss",
          "(0.0115,0.0022)<br>True: (0.0200,0.0000)<br>mc.brf.rdss",
          "(0.0170,0.0030)<br>True: (0.0300,0.0000)<br>mc.brf.rdss",
          "(0.0234,0.0048)<br>True: (0.0400,0.0000)<br>mc.brf.rdss",
          "(0.0058,0.0014)<br>True: (0.0000,0.0050)<br>mc.brf.rdss",
          "(0.0093,0.0025)<br>True: (0.0100,0.0050)<br>mc.brf.rdss",
          "(0.0134,0.0045)<br>True: (0.0200,0.0050)<br>mc.brf.rdss",
          "(0.0192,0.0054)<br>True: (0.0300,0.0050)<br>mc.brf.rdss",
          "(0.0252,0.0074)<br>True: (0.0400,0.0050)<br>mc.brf.rdss"
         ],
         "type": "scatter",
         "x": [
          0.0049163265,
          0.007624602750000001,
          0.011493279000000002,
          0.016969665249999998,
          0.023412699999999998,
          0.005775158000000001,
          0.009255742,
          0.013387943499999999,
          0.019184062000000005,
          0.0251846285
         ],
         "y": [
          0.00049486975,
          0.0013619042499999996,
          0.0022300962500000003,
          0.0029697737500000002,
          0.004833065999999999,
          0.0013919952499999995,
          0.0024680895000000007,
          0.0045269895,
          0.005400285249999999,
          0.007393755249999997
         ]
        },
        {
         "hoverinfo": "text",
         "marker": {
          "color": "hsl(167.564102564, 45.2820512821%, 55.5384615385%)",
          "line": {
           "color": "black",
           "width": 0.8
          },
          "size": 20,
          "symbol": "star"
         },
         "mode": "markers",
         "name": "mc.brf.rdss Data",
         "text": "(0.0101,0.0008)<br>mc.brf.rdss Data",
         "type": "scatter",
         "x": [
          0.01011556
         ],
         "y": [
          0.00084755
         ]
        },
        {
         "hoverinfo": "text",
         "marker": {
          "color": "hsl(34.0, 97.3333333333%, 71.0%)",
          "line": {
           "color": "black",
           "width": 0.8
          }
         },
         "mode": "markers",
         "name": "mc.brf.sl.p0.down",
         "text": [
          "(-0.0001,0.0002)<br>True: (0.0000,0.0000)<br>mc.brf.sl.p0.down",
          "(0.0013,0.0010)<br>True: (0.0100,0.0000)<br>mc.brf.sl.p0.down",
          "(0.0058,0.0015)<br>True: (0.0200,0.0000)<br>mc.brf.sl.p0.down",
          "(0.0110,0.0035)<br>True: (0.0300,0.0000)<br>mc.brf.sl.p0.down",
          "(0.0189,0.0045)<br>True: (0.0400,0.0000)<br>mc.brf.sl.p0.down",
          "(0.0010,0.0010)<br>True: (0.0000,0.0050)<br>mc.brf.sl.p0.down",
          "(0.0031,0.0024)<br>True: (0.0100,0.0050)<br>mc.brf.sl.p0.down",
          "(0.0070,0.0047)<br>True: (0.0200,0.0050)<br>mc.brf.sl.p0.down",
          "(0.0128,0.0063)<br>True: (0.0300,0.0050)<br>mc.brf.sl.p0.down",
          "(0.0197,0.0081)<br>True: (0.0400,0.0050)<br>mc.brf.sl.p0.down"
         ],
         "type": "scatter",
         "x": [
          -5.318899999999997e-05,
          0.0013085904999999998,
          0.00575531275,
          0.010985117999999999,
          0.018931779250000003,
          0.0009998097500000002,
          0.003115734500000001,
          0.007013390500000001,
          0.012810047999999997,
          0.019688877499999997
         ],
         "y": [
          0.00024246975000000005,
          0.0009683582499999998,
          0.0015204745,
          0.0034716505000000003,
          0.0045412395000000005,
          0.0009869617500000002,
          0.0023761395000000004,
          0.004734606,
          0.006271290749999998,
          0.008117223500000001
         ]
        },
        {
         "hoverinfo": "text",
         "marker": {
          "color": "hsl(34.0, 97.3333333333%, 71.0%)",
          "line": {
           "color": "black",
           "width": 0.8
          },
          "size": 20,
          "symbol": "star"
         },
         "mode": "markers",
         "name": "mc.brf.sl.p0.down Data",
         "text": "(0.0039,0.0007)<br>mc.brf.sl.p0.down Data",
         "type": "scatter",
         "x": [
          0.00385612
         ],
         "y": [
          0.00067616
         ]
        },
        {
         "hoverinfo": "text",
         "marker": {
          "color": "hsl(183.974358974, 53.4871794872%, 49.3846153846%)",
          "line": {
           "color": "black",
           "width": 0.8
          }
         },
         "mode": "markers",
         "name": "mc.brf.sl.p0.down.twosigma",
         "text": [
          "(-0.0005,0.0011)<br>True: (0.0000,0.0000)<br>mc.brf.sl.p0.down.twosigma",
          "(0.0008,0.0022)<br>True: (0.0100,0.0000)<br>mc.brf.sl.p0.down.twosigma",
          "(0.0050,0.0034)<br>True: (0.0200,0.0000)<br>mc.brf.sl.p0.down.twosigma",
          "(0.0116,0.0048)<br>True: (0.0300,0.0000)<br>mc.brf.sl.p0.down.twosigma",
          "(0.0188,0.0050)<br>True: (0.0400,0.0000)<br>mc.brf.sl.p0.down.twosigma",
          "(-0.0006,0.0026)<br>True: (0.0000,0.0050)<br>mc.brf.sl.p0.down.twosigma",
          "(0.0017,0.0040)<br>True: (0.0100,0.0050)<br>mc.brf.sl.p0.down.twosigma",
          "(0.0066,0.0060)<br>True: (0.0200,0.0050)<br>mc.brf.sl.p0.down.twosigma",
          "(0.0138,0.0072)<br>True: (0.0300,0.0050)<br>mc.brf.sl.p0.down.twosigma",
          "(0.0203,0.0085)<br>True: (0.0400,0.0050)<br>mc.brf.sl.p0.down.twosigma"
         ],
         "type": "scatter",
         "x": [
          -0.0004738912499999997,
          0.0008473727500000004,
          0.005002861000000001,
          0.011553917249999997,
          0.018849031000000002,
          -0.0006158067499999999,
          0.001667532250000001,
          0.006583450500000001,
          0.013768353,
          0.020312406749999998
         ],
         "y": [
          0.0011491130000000002,
          0.00222396875,
          0.0034131587500000012,
          0.004828132749999999,
          0.005034732,
          0.00263139775,
          0.0040041795,
          0.006047888500000001,
          0.0071776425,
          0.0085013735
         ]
        },
        {
         "hoverinfo": "text",
         "marker": {
          "color": "hsl(183.974358974, 53.4871794872%, 49.3846153846%)",
          "line": {
           "color": "black",
           "width": 0.8
          },
          "size": 20,
          "symbol": "star"
         },
         "mode": "markers",
         "name": "mc.brf.sl.p0.down.twosigma Data",
         "text": "(0.0049,0.0008)<br>mc.brf.sl.p0.down.twosigma Data",
         "type": "scatter",
         "x": [
          0.00490012
         ],
         "y": [
          0.00076539
         ]
        },
        {
         "hoverinfo": "text",
         "marker": {
          "color": "hsl(205.0, 34.0%, 47.0%)",
          "line": {
           "color": "black",
           "width": 0.8
          }
         },
         "mode": "markers",
         "name": "mc.brf.sl.p0.up",
         "text": [
          "(0.0001,0.0009)<br>True: (0.0000,0.0000)<br>mc.brf.sl.p0.up",
          "(0.0014,0.0016)<br>True: (0.0100,0.0000)<br>mc.brf.sl.p0.up",
          "(0.0038,0.0031)<br>True: (0.0200,0.0000)<br>mc.brf.sl.p0.up",
          "(0.0090,0.0049)<br>True: (0.0300,0.0000)<br>mc.brf.sl.p0.up",
          "(0.0176,0.0049)<br>True: (0.0400,0.0000)<br>mc.brf.sl.p0.up",
          "(-0.0004,0.0021)<br>True: (0.0000,0.0050)<br>mc.brf.sl.p0.up",
          "(0.0020,0.0030)<br>True: (0.0100,0.0050)<br>mc.brf.sl.p0.up",
          "(0.0063,0.0046)<br>True: (0.0200,0.0050)<br>mc.brf.sl.p0.up",
          "(0.0118,0.0072)<br>True: (0.0300,0.0050)<br>mc.brf.sl.p0.up",
          "(0.0187,0.0093)<br>True: (0.0400,0.0050)<br>mc.brf.sl.p0.up"
         ],
         "type": "scatter",
         "x": [
          0.00010340025000000002,
          0.0014128400000000003,
          0.003820938999999999,
          0.00898462275,
          0.017577797,
          -0.00038512075,
          0.0019919132499999995,
          0.006299467499999999,
          0.011787548750000001,
          0.018710046999999997
         ],
         "y": [
          0.0009430659999999999,
          0.0016061152499999998,
          0.0031090005,
          0.00487389625,
          0.004937287,
          0.0021444242499999997,
          0.0030426295,
          0.0046298797499999995,
          0.007174956999999998,
          0.009286147500000001
         ]
        },
        {
         "hoverinfo": "text",
         "marker": {
          "color": "hsl(205.0, 34.0%, 47.0%)",
          "line": {
           "color": "black",
           "width": 0.8
          },
          "size": 20,
          "symbol": "star"
         },
         "mode": "markers",
         "name": "mc.brf.sl.p0.up Data",
         "text": "(0.0044,0.0007)<br>mc.brf.sl.p0.up Data",
         "type": "scatter",
         "x": [
          0.0044154
         ],
         "y": [
          0.00066221
         ]
        },
        {
         "hoverinfo": "text",
         "marker": {
          "color": "hsl(198.846153846, 46.3076923077%, 46.4871794872%)",
          "line": {
           "color": "black",
           "width": 0.8
          }
         },
         "mode": "markers",
         "name": "mc.brf.sl.p0.up.twosigma",
         "text": [
          "(-0.0005,0.0008)<br>True: (0.0000,0.0000)<br>mc.brf.sl.p0.up.twosigma",
          "(0.0013,0.0016)<br>True: (0.0100,0.0000)<br>mc.brf.sl.p0.up.twosigma",
          "(0.0049,0.0031)<br>True: (0.0200,0.0000)<br>mc.brf.sl.p0.up.twosigma",
          "(0.0118,0.0039)<br>True: (0.0300,0.0000)<br>mc.brf.sl.p0.up.twosigma",
          "(0.0200,0.0046)<br>True: (0.0400,0.0000)<br>mc.brf.sl.p0.up.twosigma",
          "(0.0003,0.0019)<br>True: (0.0000,0.0050)<br>mc.brf.sl.p0.up.twosigma",
          "(0.0036,0.0034)<br>True: (0.0100,0.0050)<br>mc.brf.sl.p0.up.twosigma",
          "(0.0079,0.0050)<br>True: (0.0200,0.0050)<br>mc.brf.sl.p0.up.twosigma",
          "(0.0140,0.0070)<br>True: (0.0300,0.0050)<br>mc.brf.sl.p0.up.twosigma",
          "(0.0214,0.0078)<br>True: (0.0400,0.0050)<br>mc.brf.sl.p0.up.twosigma"
         ],
         "type": "scatter",
         "x": [
          -0.00049968525,
          0.0012686552500000003,
          0.0049218000000000005,
          0.011788988,
          0.019962885,
          0.00025484575,
          0.0036188700000000015,
          0.0079095735,
          0.014011593750000002,
          0.0214144145
         ],
         "y": [
          0.0008097749999999999,
          0.0016308370000000002,
          0.0031465732499999987,
          0.0038738835,
          0.00455169475,
          0.0018723930000000004,
          0.0033978182500000002,
          0.005018314999999999,
          0.007024069749999999,
          0.007772959500000001
         ]
        },
        {
         "hoverinfo": "text",
         "marker": {
          "color": "hsl(198.846153846, 46.3076923077%, 46.4871794872%)",
          "line": {
           "color": "black",
           "width": 0.8
          },
          "size": 20,
          "symbol": "star"
         },
         "mode": "markers",
         "name": "mc.brf.sl.p0.up.twosigma Data",
         "text": "(0.0057,0.0009)<br>mc.brf.sl.p0.up.twosigma Data",
         "type": "scatter",
         "x": [
          0.00567584
         ],
         "y": [
          0.0008871
         ]
        },
        {
         "hoverinfo": "text",
         "marker": {
          "color": "hsl(257.384615385, 70.7692307692%, 54.9743589744%)",
          "line": {
           "color": "black",
           "width": 0.8
          }
         },
         "mode": "markers",
         "name": "mc.brf.sl.p1.down",
         "text": [
          "(-0.0007,0.0044)<br>True: (0.0000,0.0000)<br>mc.brf.sl.p1.down",
          "(-0.0007,0.0067)<br>True: (0.0100,0.0000)<br>mc.brf.sl.p1.down",
          "(0.0010,0.0089)<br>True: (0.0200,0.0000)<br>mc.brf.sl.p1.down",
          "(0.0052,0.0108)<br>True: (0.0300,0.0000)<br>mc.brf.sl.p1.down",
          "(0.0111,0.0127)<br>True: (0.0400,0.0000)<br>mc.brf.sl.p1.down",
          "(-0.0012,0.0064)<br>True: (0.0000,0.0050)<br>mc.brf.sl.p1.down",
          "(-0.0004,0.0089)<br>True: (0.0100,0.0050)<br>mc.brf.sl.p1.down",
          "(0.0026,0.0116)<br>True: (0.0200,0.0050)<br>mc.brf.sl.p1.down",
          "(0.0073,0.0133)<br>True: (0.0300,0.0050)<br>mc.brf.sl.p1.down",
          "(0.0137,0.0155)<br>True: (0.0400,0.0050)<br>mc.brf.sl.p1.down"
         ],
         "type": "scatter",
         "x": [
          -0.00072225675,
          -0.0007422582500000007,
          0.0010320477500000008,
          0.0051657994999999984,
          0.01105277525,
          -0.00117658925,
          -0.0003523515000000005,
          0.002640907750000001,
          0.00729205275,
          0.013698732499999998
         ],
         "y": [
          0.004379091,
          0.006736516499999999,
          0.008927974499999998,
          0.010802395499999997,
          0.012741809500000001,
          0.0064245167499999995,
          0.008858335249999998,
          0.011557909000000002,
          0.013258797250000006,
          0.015477646249999998
         ]
        },
        {
         "hoverinfo": "text",
         "marker": {
          "color": "hsl(257.384615385, 70.7692307692%, 54.9743589744%)",
          "line": {
           "color": "black",
           "width": 0.8
          },
          "size": 20,
          "symbol": "star"
         },
         "mode": "markers",
         "name": "mc.brf.sl.p1.down Data",
         "text": "(0.0028,0.0050)<br>mc.brf.sl.p1.down Data",
         "type": "scatter",
         "x": [
          0.00278224
         ],
         "y": [
          0.00498911
         ]
        },
        {
         "hoverinfo": "text",
         "marker": {
          "color": "hsl(339.615384615, 89.2820512821%, 36.641025641%)",
          "line": {
           "color": "black",
           "width": 0.8
          }
         },
         "mode": "markers",
         "name": "mc.brf.sl.p1.down.twosigma",
         "text": [
          "(-0.0009,0.0013)<br>True: (0.0000,0.0000)<br>mc.brf.sl.p1.down.twosigma",
          "(0.0003,0.0025)<br>True: (0.0100,0.0000)<br>mc.brf.sl.p1.down.twosigma",
          "(0.0030,0.0044)<br>True: (0.0200,0.0000)<br>mc.brf.sl.p1.down.twosigma",
          "(0.0088,0.0059)<br>True: (0.0300,0.0000)<br>mc.brf.sl.p1.down.twosigma",
          "(0.0164,0.0066)<br>True: (0.0400,0.0000)<br>mc.brf.sl.p1.down.twosigma",
          "(-0.0015,0.0030)<br>True: (0.0000,0.0050)<br>mc.brf.sl.p1.down.twosigma",
          "(0.0014,0.0042)<br>True: (0.0100,0.0050)<br>mc.brf.sl.p1.down.twosigma",
          "(0.0053,0.0069)<br>True: (0.0200,0.0050)<br>mc.brf.sl.p1.down.twosigma",
          "(0.0110,0.0083)<br>True: (0.0300,0.0050)<br>mc.brf.sl.p1.down.twosigma",
          "(0.0193,0.0094)<br>True: (0.0400,0.0050)<br>mc.brf.sl.p1.down.twosigma"
         ],
         "type": "scatter",
         "x": [
          -0.0009101865000000003,
          0.0002549619999999992,
          0.0029737175000000005,
          0.00883617825,
          0.016422170750000003,
          -0.0014933897500000002,
          0.0013603932499999995,
          0.005306731249999998,
          0.010993753250000002,
          0.01926881675
         ],
         "y": [
          0.00132910025,
          0.0025059500000000007,
          0.00443603825,
          0.00588800075,
          0.006642708250000001,
          0.00304188525,
          0.00421854225,
          0.006916770250000001,
          0.008346012499999998,
          0.0094174085
         ]
        },
        {
         "hoverinfo": "text",
         "marker": {
          "color": "hsl(339.615384615, 89.2820512821%, 36.641025641%)",
          "line": {
           "color": "black",
           "width": 0.8
          },
          "size": 20,
          "symbol": "star"
         },
         "mode": "markers",
         "name": "mc.brf.sl.p1.down.twosigma Data",
         "text": "(0.0050,0.0011)<br>mc.brf.sl.p1.down.twosigma Data",
         "type": "scatter",
         "x": [
          0.00501981
         ],
         "y": [
          0.00105989
         ]
        },
        {
         "hoverinfo": "text",
         "marker": {
          "color": "hsl(158.487179487, 42.1538461538%, 58.8717948718%)",
          "line": {
           "color": "black",
           "width": 0.8
          }
         },
         "mode": "markers",
         "name": "mc.brf.sl.p1.up",
         "text": [
          "(0.0061,-0.0006)<br>True: (0.0000,0.0000)<br>mc.brf.sl.p1.up",
          "(0.0089,-0.0004)<br>True: (0.0100,0.0000)<br>mc.brf.sl.p1.up",
          "(0.0134,0.0000)<br>True: (0.0200,0.0000)<br>mc.brf.sl.p1.up",
          "(0.0179,0.0012)<br>True: (0.0300,0.0000)<br>mc.brf.sl.p1.up",
          "(0.0251,0.0021)<br>True: (0.0400,0.0000)<br>mc.brf.sl.p1.up",
          "(0.0071,0.0003)<br>True: (0.0000,0.0050)<br>mc.brf.sl.p1.up",
          "(0.0108,0.0006)<br>True: (0.0100,0.0050)<br>mc.brf.sl.p1.up",
          "(0.0161,0.0010)<br>True: (0.0200,0.0050)<br>mc.brf.sl.p1.up",
          "(0.0209,0.0027)<br>True: (0.0300,0.0050)<br>mc.brf.sl.p1.up",
          "(0.0279,0.0038)<br>True: (0.0400,0.0050)<br>mc.brf.sl.p1.up"
         ],
         "type": "scatter",
         "x": [
          0.0060864346153846165,
          0.008904526749999999,
          0.013408712999999994,
          0.017928336250000003,
          0.02510015525,
          0.00714454375,
          0.010829658249999999,
          0.016095419499999996,
          0.020890849749999996,
          0.027862914749999995
         ],
         "y": [
          -0.0005562766666666666,
          -0.00043855475,
          3.462174999999997e-05,
          0.0012241309999999996,
          0.00210949825,
          0.00032780124999999983,
          0.0005825830000000002,
          0.00097251525,
          0.0026595167500000003,
          0.0038390799999999995
         ]
        },
        {
         "hoverinfo": "text",
         "marker": {
          "color": "hsl(158.487179487, 42.1538461538%, 58.8717948718%)",
          "line": {
           "color": "black",
           "width": 0.8
          },
          "size": 20,
          "symbol": "star"
         },
         "mode": "markers",
         "name": "mc.brf.sl.p1.up Data",
         "text": "(0.0109,0.0005)<br>mc.brf.sl.p1.up Data",
         "type": "scatter",
         "x": [
          0.01093976
         ],
         "y": [
          0.00050138
         ]
        },
        {
         "hoverinfo": "text",
         "marker": {
          "color": "hsl(344.230769231, 80.5641025641%, 42.2820512821%)",
          "line": {
           "color": "black",
           "width": 0.8
          }
         },
         "mode": "markers",
         "name": "mc.brf.sl.p1.up.twosigma",
         "text": [
          "(0.0001,-0.0000)<br>True: (0.0000,0.0000)<br>mc.brf.sl.p1.up.twosigma",
          "(0.0017,0.0020)<br>True: (0.0100,0.0000)<br>mc.brf.sl.p1.up.twosigma",
          "(0.0057,0.0028)<br>True: (0.0200,0.0000)<br>mc.brf.sl.p1.up.twosigma",
          "(0.0130,0.0040)<br>True: (0.0300,0.0000)<br>mc.brf.sl.p1.up.twosigma",
          "(0.0205,0.0044)<br>True: (0.0400,0.0000)<br>mc.brf.sl.p1.up.twosigma",
          "(-0.0000,0.0024)<br>True: (0.0000,0.0050)<br>mc.brf.sl.p1.up.twosigma",
          "(0.0030,0.0040)<br>True: (0.0100,0.0050)<br>mc.brf.sl.p1.up.twosigma",
          "(0.0073,0.0059)<br>True: (0.0200,0.0050)<br>mc.brf.sl.p1.up.twosigma",
          "(0.0134,0.0074)<br>True: (0.0300,0.0050)<br>mc.brf.sl.p1.up.twosigma",
          "(0.0227,0.0076)<br>True: (0.0400,0.0050)<br>mc.brf.sl.p1.up.twosigma"
         ],
         "type": "scatter",
         "x": [
          0.00011068899999999989,
          0.0017383320000000004,
          0.00574304575,
          0.012952332500000004,
          0.020543190500000003,
          -2.8789250000000016e-05,
          0.003035347,
          0.00734130975,
          0.013406237249999998,
          0.022704008250000005
         ],
         "y": [
          -3.275024999999999e-05,
          0.002048146250000001,
          0.0028083645,
          0.00403189775,
          0.00440605575,
          0.0023645869999999996,
          0.0039727027499999994,
          0.00594206425,
          0.007387914999999999,
          0.007564692499999999
         ]
        },
        {
         "hoverinfo": "text",
         "marker": {
          "color": "hsl(344.230769231, 80.5641025641%, 42.2820512821%)",
          "line": {
           "color": "black",
           "width": 0.8
          },
          "size": 20,
          "symbol": "star"
         },
         "mode": "markers",
         "name": "mc.brf.sl.p1.up.twosigma Data",
         "text": "(0.0061,0.0007)<br>mc.brf.sl.p1.up.twosigma Data",
         "type": "scatter",
         "x": [
          0.00606192
         ],
         "y": [
          0.00065665
         ]
        },
        {
         "hoverinfo": "text",
         "marker": {
          "color": "hsl(65.7692307692, 88.4615384615%, 80.5897435897%)",
          "line": {
           "color": "black",
           "width": 0.8
          }
         },
         "mode": "markers",
         "name": "mc.brf.strange.down",
         "text": [
          "(0.0000,0.0011)<br>True: (0.0000,0.0000)<br>mc.brf.strange.down",
          "(0.0018,0.0022)<br>True: (0.0100,0.0000)<br>mc.brf.strange.down",
          "(0.0062,0.0034)<br>True: (0.0200,0.0000)<br>mc.brf.strange.down",
          "(0.0121,0.0042)<br>True: (0.0300,0.0000)<br>mc.brf.strange.down",
          "(0.0193,0.0056)<br>True: (0.0400,0.0000)<br>mc.brf.strange.down",
          "(0.0010,0.0022)<br>True: (0.0000,0.0050)<br>mc.brf.strange.down",
          "(0.0029,0.0043)<br>True: (0.0100,0.0050)<br>mc.brf.strange.down",
          "(0.0081,0.0059)<br>True: (0.0200,0.0050)<br>mc.brf.strange.down",
          "(0.0138,0.0073)<br>True: (0.0300,0.0050)<br>mc.brf.strange.down",
          "(0.0220,0.0082)<br>True: (0.0400,0.0050)<br>mc.brf.strange.down"
         ],
         "type": "scatter",
         "x": [
          6.6609999999999825e-06,
          0.00183585675,
          0.0062364477500000005,
          0.012131335,
          0.019328775000000003,
          0.0010406890000000002,
          0.00292980625,
          0.008093749249999999,
          0.013796978500000008,
          0.022008754499999998
         ],
         "y": [
          0.0011435239999999997,
          0.0021890740000000005,
          0.0033978597500000005,
          0.0041641647499999985,
          0.005613024750000001,
          0.0021584160000000007,
          0.004315099,
          0.0058635300000000005,
          0.007288618249999999,
          0.008158775000000002
         ]
        },
        {
         "hoverinfo": "text",
         "marker": {
          "color": "hsl(65.7692307692, 88.4615384615%, 80.5897435897%)",
          "line": {
           "color": "black",
           "width": 0.8
          },
          "size": 20,
          "symbol": "star"
         },
         "mode": "markers",
         "name": "mc.brf.strange.down Data",
         "text": "(0.0057,0.0008)<br>mc.brf.strange.down Data",
         "type": "scatter",
         "x": [
          0.0056667
         ],
         "y": [
          0.0008341
         ]
        },
        {
         "hoverinfo": "text",
         "marker": {
          "color": "hsl(49.7435897436, 98.7179487179%, 80.5897435897%)",
          "line": {
           "color": "black",
           "width": 0.8
          }
         },
         "mode": "markers",
         "name": "mc.brf.strange.down.twosigma",
         "text": [
          "(0.0003,0.0002)<br>True: (0.0000,0.0000)<br>mc.brf.strange.down.twosigma",
          "(0.0010,0.0018)<br>True: (0.0100,0.0000)<br>mc.brf.strange.down.twosigma",
          "(0.0029,0.0034)<br>True: (0.0200,0.0000)<br>mc.brf.strange.down.twosigma",
          "(0.0085,0.0053)<br>True: (0.0300,0.0000)<br>mc.brf.strange.down.twosigma",
          "(0.0156,0.0062)<br>True: (0.0400,0.0000)<br>mc.brf.strange.down.twosigma",
          "(-0.0001,0.0017)<br>True: (0.0000,0.0050)<br>mc.brf.strange.down.twosigma",
          "(0.0021,0.0033)<br>True: (0.0100,0.0050)<br>mc.brf.strange.down.twosigma",
          "(0.0048,0.0061)<br>True: (0.0200,0.0050)<br>mc.brf.strange.down.twosigma",
          "(0.0107,0.0081)<br>True: (0.0300,0.0050)<br>mc.brf.strange.down.twosigma",
          "(0.0178,0.0095)<br>True: (0.0400,0.0050)<br>mc.brf.strange.down.twosigma"
         ],
         "type": "scatter",
         "x": [
          0.00033723524999999994,
          0.0010169459999999995,
          0.002886424250000002,
          0.008471463500000002,
          0.015577462,
          -8.160874999999997e-05,
          0.00213824925,
          0.00475162875,
          0.010698967250000004,
          0.017834837749999992
         ],
         "y": [
          0.0002024939999999999,
          0.0017525607499999998,
          0.0033717634999999996,
          0.005295964249999999,
          0.006182934249999998,
          0.0017290597500000003,
          0.0032858964999999997,
          0.006113575749999999,
          0.008071982000000002,
          0.009533008499999999
         ]
        },
        {
         "hoverinfo": "text",
         "marker": {
          "color": "hsl(49.7435897436, 98.7179487179%, 80.5897435897%)",
          "line": {
           "color": "black",
           "width": 0.8
          },
          "size": 20,
          "symbol": "star"
         },
         "mode": "markers",
         "name": "mc.brf.strange.down.twosigma Data",
         "text": "(0.0033,0.0008)<br>mc.brf.strange.down.twosigma Data",
         "type": "scatter",
         "x": [
          0.00326381
         ],
         "y": [
          0.00081584
         ]
        },
        {
         "hoverinfo": "text",
         "marker": {
          "color": "hsl(37.8461538462, 97.5897435897%, 73.3076923077%)",
          "line": {
           "color": "black",
           "width": 0.8
          }
         },
         "mode": "markers",
         "name": "mc.brf.strange.up",
         "text": [
          "(0.0006,0.0019)<br>True: (0.0000,0.0000)<br>mc.brf.strange.up",
          "(0.0016,0.0031)<br>True: (0.0100,0.0000)<br>mc.brf.strange.up",
          "(0.0032,0.0054)<br>True: (0.0200,0.0000)<br>mc.brf.strange.up",
          "(0.0071,0.0071)<br>True: (0.0300,0.0000)<br>mc.brf.strange.up",
          "(0.0139,0.0082)<br>True: (0.0400,0.0000)<br>mc.brf.strange.up",
          "(0.0006,0.0029)<br>True: (0.0000,0.0050)<br>mc.brf.strange.up",
          "(0.0008,0.0056)<br>True: (0.0100,0.0050)<br>mc.brf.strange.up",
          "(0.0036,0.0083)<br>True: (0.0200,0.0050)<br>mc.brf.strange.up",
          "(0.0086,0.0105)<br>True: (0.0300,0.0050)<br>mc.brf.strange.up",
          "(0.0153,0.0122)<br>True: (0.0400,0.0050)<br>mc.brf.strange.up"
         ],
         "type": "scatter",
         "x": [
          0.00058839275,
          0.0015559467500000004,
          0.003180530000000001,
          0.00709264075,
          0.013883198750000002,
          0.0006059662499999999,
          0.0008051512500000003,
          0.003641349500000002,
          0.008610383000000003,
          0.015349492250000003
         ],
         "y": [
          0.0019115247500000002,
          0.0030829509999999996,
          0.005422831249999999,
          0.007104487,
          0.008160582250000003,
          0.0029144837500000003,
          0.0055593844999999985,
          0.00833563825,
          0.010479846749999999,
          0.012162445999999999
         ]
        },
        {
         "hoverinfo": "text",
         "marker": {
          "color": "hsl(37.8461538462, 97.5897435897%, 73.3076923077%)",
          "line": {
           "color": "black",
           "width": 0.8
          },
          "size": 20,
          "symbol": "star"
         },
         "mode": "markers",
         "name": "mc.brf.strange.up Data",
         "text": "(0.0061,0.0020)<br>mc.brf.strange.up Data",
         "type": "scatter",
         "x": [
          0.0061267
         ],
         "y": [
          0.00197759
         ]
        },
        {
         "hoverinfo": "text",
         "marker": {
          "color": "hsl(83.5384615385, 83.0769230769%, 58.5641025641%)",
          "line": {
           "color": "black",
           "width": 0.8
          }
         },
         "mode": "markers",
         "name": "mc.brf.strange.up.twosigma",
         "text": [
          "(0.0007,0.0022)<br>True: (0.0000,0.0000)<br>mc.brf.strange.up.twosigma",
          "(0.0020,0.0034)<br>True: (0.0100,0.0000)<br>mc.brf.strange.up.twosigma",
          "(0.0055,0.0051)<br>True: (0.0200,0.0000)<br>mc.brf.strange.up.twosigma",
          "(0.0125,0.0058)<br>True: (0.0300,0.0000)<br>mc.brf.strange.up.twosigma",
          "(0.0198,0.0063)<br>True: (0.0400,0.0000)<br>mc.brf.strange.up.twosigma",
          "(-0.0001,0.0040)<br>True: (0.0000,0.0050)<br>mc.brf.strange.up.twosigma",
          "(0.0028,0.0056)<br>True: (0.0100,0.0050)<br>mc.brf.strange.up.twosigma",
          "(0.0079,0.0073)<br>True: (0.0200,0.0050)<br>mc.brf.strange.up.twosigma",
          "(0.0144,0.0088)<br>True: (0.0300,0.0050)<br>mc.brf.strange.up.twosigma",
          "(0.0217,0.0094)<br>True: (0.0400,0.0050)<br>mc.brf.strange.up.twosigma"
         ],
         "type": "scatter",
         "x": [
          0.00070671,
          0.0020460722499999993,
          0.00550790575,
          0.012484593499999998,
          0.019770938999999998,
          -0.00010671450000000003,
          0.002818515999999999,
          0.007903696500000001,
          0.014367671750000002,
          0.02166438975
         ],
         "y": [
          0.00218731775,
          0.00336252275,
          0.005093703250000001,
          0.005849028500000001,
          0.00627016225,
          0.0040388907499999994,
          0.005584392249999999,
          0.007274227250000001,
          0.008832705750000001,
          0.00944094125
         ]
        },
        {
         "hoverinfo": "text",
         "marker": {
          "color": "hsl(83.5384615385, 83.0769230769%, 58.5641025641%)",
          "line": {
           "color": "black",
           "width": 0.8
          },
          "size": 20,
          "symbol": "star"
         },
         "mode": "markers",
         "name": "mc.brf.strange.up.twosigma Data",
         "text": "(0.0078,0.0011)<br>mc.brf.strange.up.twosigma Data",
         "type": "scatter",
         "x": [
          0.00775344
         ],
         "y": [
          0.00109663
         ]
        },
        {
         "hoverinfo": "text",
         "marker": {
          "color": "hsl(30.1538461538, 97.0769230769%, 68.6923076923%)",
          "line": {
           "color": "black",
           "width": 0.8
          }
         },
         "mode": "markers",
         "name": "mc.crosscheck",
         "text": [
          "(-0.0007,0.0013)<br>True: (0.0000,0.0000)<br>mc.crosscheck",
          "(0.0011,0.0021)<br>True: (0.0100,0.0000)<br>mc.crosscheck",
          "(0.0039,0.0029)<br>True: (0.0200,0.0000)<br>mc.crosscheck",
          "(0.0113,0.0037)<br>True: (0.0300,0.0000)<br>mc.crosscheck",
          "(0.0189,0.0043)<br>True: (0.0400,0.0000)<br>mc.crosscheck",
          "(-0.0001,0.0020)<br>True: (0.0000,0.0050)<br>mc.crosscheck",
          "(0.0020,0.0033)<br>True: (0.0100,0.0050)<br>mc.crosscheck",
          "(0.0069,0.0048)<br>True: (0.0200,0.0050)<br>mc.crosscheck",
          "(0.0143,0.0057)<br>True: (0.0300,0.0050)<br>mc.crosscheck",
          "(0.0224,0.0065)<br>True: (0.0400,0.0050)<br>mc.crosscheck"
         ],
         "type": "scatter",
         "x": [
          -0.0006989032499999999,
          0.001093852000000001,
          0.003907770250000001,
          0.011295434,
          0.01886941275,
          -7.715049999999996e-05,
          0.0019704625000000007,
          0.006861365000000001,
          0.01425908575,
          0.022371203500000006
         ],
         "y": [
          0.0013241684999999999,
          0.00213146475,
          0.0028504255000000004,
          0.0036631122500000004,
          0.004342099999999999,
          0.002017113,
          0.0032571085000000005,
          0.00483900325,
          0.005692096750000002,
          0.00648687075
         ]
        },
        {
         "hoverinfo": "text",
         "marker": {
          "color": "hsl(30.1538461538, 97.0769230769%, 68.6923076923%)",
          "line": {
           "color": "black",
           "width": 0.8
          },
          "size": 20,
          "symbol": "star"
         },
         "mode": "markers",
         "name": "mc.crosscheck Data",
         "text": "(0.0042,0.0008)<br>mc.crosscheck Data",
         "type": "scatter",
         "x": [
          0.00417864
         ],
         "y": [
          0.00084034
         ]
        },
        {
         "hoverinfo": "text",
         "marker": {
          "color": "hsl(61.1538461538, 97.6923076923%, 85.7179487179%)",
          "line": {
           "color": "black",
           "width": 0.8
          }
         },
         "mode": "markers",
         "name": "mc.dssdpipi",
         "text": [
          "(0.0010,0.0005)<br>True: (0.0000,0.0000)<br>mc.dssdpipi",
          "(0.0024,0.0013)<br>True: (0.0100,0.0000)<br>mc.dssdpipi",
          "(0.0051,0.0029)<br>True: (0.0200,0.0000)<br>mc.dssdpipi",
          "(0.0112,0.0041)<br>True: (0.0300,0.0000)<br>mc.dssdpipi",
          "(0.0171,0.0062)<br>True: (0.0400,0.0000)<br>mc.dssdpipi",
          "(0.0013,0.0012)<br>True: (0.0000,0.0050)<br>mc.dssdpipi",
          "(0.0028,0.0037)<br>True: (0.0100,0.0050)<br>mc.dssdpipi",
          "(0.0071,0.0057)<br>True: (0.0200,0.0050)<br>mc.dssdpipi",
          "(0.0125,0.0079)<br>True: (0.0300,0.0050)<br>mc.dssdpipi",
          "(0.0184,0.0093)<br>True: (0.0400,0.0050)<br>mc.dssdpipi"
         ],
         "type": "scatter",
         "x": [
          0.0010356465,
          0.0024159232500000002,
          0.005066323000000001,
          0.011176247500000003,
          0.0171108445,
          0.0013329307500000002,
          0.0028168505,
          0.0071391079999999964,
          0.012495964999999998,
          0.01841945425
         ],
         "y": [
          0.0005002892500000001,
          0.0013172175,
          0.002918201,
          0.004050650000000001,
          0.006168491249999999,
          0.0012470839999999999,
          0.0036813155000000007,
          0.00572296575,
          0.007928466249999998,
          0.009281799999999998
         ]
        },
        {
         "hoverinfo": "text",
         "marker": {
          "color": "hsl(61.1538461538, 97.6923076923%, 85.7179487179%)",
          "line": {
           "color": "black",
           "width": 0.8
          },
          "size": 20,
          "symbol": "star"
         },
         "mode": "markers",
         "name": "mc.dssdpipi Data",
         "text": "(0.0047,0.0009)<br>mc.dssdpipi Data",
         "type": "scatter",
         "x": [
          0.00473568
         ],
         "y": [
          0.00090092
         ]
        },
        {
         "hoverinfo": "text",
         "marker": {
          "color": "hsl(195.769230769, 52.4615384615%, 46.2307692308%)",
          "line": {
           "color": "black",
           "width": 0.8
          }
         },
         "mode": "markers",
         "name": "mc.ff.llswb2",
         "text": [
          "(0.0011,0.0051)<br>True: (0.0000,0.0000)<br>mc.ff.llswb2",
          "(0.0032,0.0056)<br>True: (0.0100,0.0000)<br>mc.ff.llswb2",
          "(0.0070,0.0069)<br>True: (0.0200,0.0000)<br>mc.ff.llswb2",
          "(0.0132,0.0070)<br>True: (0.0300,0.0000)<br>mc.ff.llswb2",
          "(0.0215,0.0073)<br>True: (0.0400,0.0000)<br>mc.ff.llswb2",
          "(0.0010,0.0056)<br>True: (0.0000,0.0050)<br>mc.ff.llswb2",
          "(0.0040,0.0069)<br>True: (0.0100,0.0050)<br>mc.ff.llswb2",
          "(0.0093,0.0076)<br>True: (0.0200,0.0050)<br>mc.ff.llswb2",
          "(0.0163,0.0083)<br>True: (0.0300,0.0050)<br>mc.ff.llswb2",
          "(0.0229,0.0095)<br>True: (0.0400,0.0050)<br>mc.ff.llswb2"
         ],
         "type": "scatter",
         "x": [
          0.0010609547500000003,
          0.0032464195,
          0.006963737249999999,
          0.013246631999999998,
          0.021487207749999997,
          0.0010342814999999997,
          0.004009938000000001,
          0.00926319725,
          0.016324632,
          0.02285418175
         ],
         "y": [
          0.005077441750000001,
          0.0056135594999999995,
          0.00689882825,
          0.007008336250000001,
          0.007288570249999998,
          0.005614783,
          0.00691586025,
          0.007564548500000001,
          0.00834509425,
          0.009478661500000003
         ]
        },
        {
         "hoverinfo": "text",
         "marker": {
          "color": "hsl(195.769230769, 52.4615384615%, 46.2307692308%)",
          "line": {
           "color": "black",
           "width": 0.8
          },
          "size": 20,
          "symbol": "star"
         },
         "mode": "markers",
         "name": "mc.ff.llswb2 Data",
         "text": "(0.0106,0.0013)<br>mc.ff.llswb2 Data",
         "type": "scatter",
         "x": [
          0.01057984
         ],
         "y": [
          0.00126754
         ]
        },
        {
         "hoverinfo": "text",
         "marker": {
          "color": "hsl(170.461538462, 76.9230769231%, 56.7692307692%)",
          "line": {
           "color": "black",
           "width": 0.8
          }
         },
         "mode": "markers",
         "name": "mc.ff.p0.down",
         "text": [
          "(0.0002,0.0009)<br>True: (0.0000,0.0000)<br>mc.ff.p0.down",
          "(0.0013,0.0018)<br>True: (0.0100,0.0000)<br>mc.ff.p0.down",
          "(0.0047,0.0030)<br>True: (0.0200,0.0000)<br>mc.ff.p0.down",
          "(0.0103,0.0042)<br>True: (0.0300,0.0000)<br>mc.ff.p0.down",
          "(0.0174,0.0055)<br>True: (0.0400,0.0000)<br>mc.ff.p0.down",
          "(0.0010,0.0012)<br>True: (0.0000,0.0050)<br>mc.ff.p0.down",
          "(0.0029,0.0023)<br>True: (0.0100,0.0050)<br>mc.ff.p0.down",
          "(0.0068,0.0047)<br>True: (0.0200,0.0050)<br>mc.ff.p0.down",
          "(0.0129,0.0069)<br>True: (0.0300,0.0050)<br>mc.ff.p0.down",
          "(0.0199,0.0079)<br>True: (0.0400,0.0050)<br>mc.ff.p0.down"
         ],
         "type": "scatter",
         "x": [
          0.00023073625,
          0.0013342682499999994,
          0.0047190489999999995,
          0.010343310249999998,
          0.017445849999999995,
          0.0009694020000000001,
          0.00288340575,
          0.006810686999999999,
          0.012937604500000002,
          0.019924865499999993
         ],
         "y": [
          0.00087120925,
          0.0018135377499999994,
          0.00302950375,
          0.004160212750000001,
          0.00553117275,
          0.0012050464999999997,
          0.0023250937500000008,
          0.004745613000000001,
          0.006877571499999999,
          0.007947203750000003
         ]
        },
        {
         "hoverinfo": "text",
         "marker": {
          "color": "hsl(170.461538462, 76.9230769231%, 56.7692307692%)",
          "line": {
           "color": "black",
           "width": 0.8
          },
          "size": 20,
          "symbol": "star"
         },
         "mode": "markers",
         "name": "mc.ff.p0.down Data",
         "text": "(0.0027,0.0008)<br>mc.ff.p0.down Data",
         "type": "scatter",
         "x": [
          0.00266511
         ],
         "y": [
          0.00078978
         ]
        },
        {
         "hoverinfo": "text",
         "marker": {
          "color": "hsl(68.0769230769, 83.8461538462%, 78.0256410256%)",
          "line": {
           "color": "black",
           "width": 0.8
          }
         },
         "mode": "markers",
         "name": "mc.ff.p0.up",
         "text": [
          "(-0.0002,0.0029)<br>True: (0.0000,0.0000)<br>mc.ff.p0.up",
          "(0.0001,0.0044)<br>True: (0.0100,0.0000)<br>mc.ff.p0.up",
          "(0.0013,0.0068)<br>True: (0.0200,0.0000)<br>mc.ff.p0.up",
          "(0.0052,0.0088)<br>True: (0.0300,0.0000)<br>mc.ff.p0.up",
          "(0.0103,0.0107)<br>True: (0.0400,0.0000)<br>mc.ff.p0.up",
          "(-0.0008,0.0045)<br>True: (0.0000,0.0050)<br>mc.ff.p0.up",
          "(0.0004,0.0070)<br>True: (0.0100,0.0050)<br>mc.ff.p0.up",
          "(0.0028,0.0094)<br>True: (0.0200,0.0050)<br>mc.ff.p0.up",
          "(0.0061,0.0121)<br>True: (0.0300,0.0050)<br>mc.ff.p0.up",
          "(0.0128,0.0131)<br>True: (0.0400,0.0050)<br>mc.ff.p0.up"
         ],
         "type": "scatter",
         "x": [
          -0.00021489025000000006,
          8.758099999999977e-05,
          0.0013230772499999988,
          0.005155429250000003,
          0.010336383249999997,
          -0.0007847432500000002,
          0.0004258447499999995,
          0.0027987470000000007,
          0.006069078749999998,
          0.0128288345
         ],
         "y": [
          0.002922210249999999,
          0.0043702557500000004,
          0.006835503499999998,
          0.008779005500000001,
          0.010743959749999999,
          0.0044890225,
          0.00697862525,
          0.009447228,
          0.01205295475,
          0.013124002
         ]
        },
        {
         "hoverinfo": "text",
         "marker": {
          "color": "hsl(68.0769230769, 83.8461538462%, 78.0256410256%)",
          "line": {
           "color": "black",
           "width": 0.8
          },
          "size": 20,
          "symbol": "star"
         },
         "mode": "markers",
         "name": "mc.ff.p0.up Data",
         "text": "(0.0036,0.0030)<br>mc.ff.p0.up Data",
         "type": "scatter",
         "x": [
          0.00359724
         ],
         "y": [
          0.00301348
         ]
        },
        {
         "hoverinfo": "text",
         "marker": {
          "color": "hsl(192.179487179, 57.5897435897%, 46.3076923077%)",
          "line": {
           "color": "black",
           "width": 0.8
          }
         },
         "mode": "markers",
         "name": "mc.ff.p1.down",
         "text": [
          "(0.0001,0.0008)<br>True: (0.0000,0.0000)<br>mc.ff.p1.down",
          "(0.0017,0.0016)<br>True: (0.0100,0.0000)<br>mc.ff.p1.down",
          "(0.0034,0.0037)<br>True: (0.0200,0.0000)<br>mc.ff.p1.down",
          "(0.0070,0.0065)<br>True: (0.0300,0.0000)<br>mc.ff.p1.down",
          "(0.0135,0.0086)<br>True: (0.0400,0.0000)<br>mc.ff.p1.down",
          "(0.0007,0.0018)<br>True: (0.0000,0.0050)<br>mc.ff.p1.down",
          "(0.0017,0.0040)<br>True: (0.0100,0.0050)<br>mc.ff.p1.down",
          "(0.0044,0.0066)<br>True: (0.0200,0.0050)<br>mc.ff.p1.down",
          "(0.0085,0.0097)<br>True: (0.0300,0.0050)<br>mc.ff.p1.down",
          "(0.0146,0.0121)<br>True: (0.0400,0.0050)<br>mc.ff.p1.down"
         ],
         "type": "scatter",
         "x": [
          7.577850000000004e-05,
          0.0016687077499999998,
          0.003401758250000001,
          0.00697157,
          0.013537783250000004,
          0.0006565995,
          0.0017202850000000002,
          0.00442296025,
          0.008534595750000002,
          0.014583500999999995
         ],
         "y": [
          0.0008353544999999999,
          0.0015737325000000004,
          0.003716169999999999,
          0.006538589750000001,
          0.008589521999999997,
          0.0018282077500000001,
          0.004046365249999999,
          0.006564871500000001,
          0.00973598225,
          0.012085174749999998
         ]
        },
        {
         "hoverinfo": "text",
         "marker": {
          "color": "hsl(192.179487179, 57.5897435897%, 46.3076923077%)",
          "line": {
           "color": "black",
           "width": 0.8
          },
          "size": 20,
          "symbol": "star"
         },
         "mode": "markers",
         "name": "mc.ff.p1.down Data",
         "text": "(0.0036,0.0010)<br>mc.ff.p1.down Data",
         "type": "scatter",
         "x": [
          0.00364635
         ],
         "y": [
          0.00103257
         ]
        },
        {
         "hoverinfo": "text",
         "marker": {
          "color": "hsl(175.769230769, 49.3846153846%, 52.4615384615%)",
          "line": {
           "color": "black",
           "width": 0.8
          }
         },
         "mode": "markers",
         "name": "mc.ff.p1.up",
         "text": [
          "(-0.0003,0.0006)<br>True: (0.0000,0.0000)<br>mc.ff.p1.up",
          "(0.0021,0.0015)<br>True: (0.0100,0.0000)<br>mc.ff.p1.up",
          "(0.0055,0.0035)<br>True: (0.0200,0.0000)<br>mc.ff.p1.up",
          "(0.0116,0.0043)<br>True: (0.0300,0.0000)<br>mc.ff.p1.up",
          "(0.0194,0.0055)<br>True: (0.0400,0.0000)<br>mc.ff.p1.up",
          "(0.0003,0.0019)<br>True: (0.0000,0.0050)<br>mc.ff.p1.up",
          "(0.0033,0.0038)<br>True: (0.0100,0.0050)<br>mc.ff.p1.up",
          "(0.0073,0.0059)<br>True: (0.0200,0.0050)<br>mc.ff.p1.up",
          "(0.0147,0.0075)<br>True: (0.0300,0.0050)<br>mc.ff.p1.up",
          "(0.0199,0.0096)<br>True: (0.0400,0.0050)<br>mc.ff.p1.up"
         ],
         "type": "scatter",
         "x": [
          -0.00032861450000000014,
          0.0020907324999999994,
          0.005497649,
          0.011608019750000004,
          0.019364271249999995,
          0.00028833875,
          0.0032991920000000003,
          0.007283198499999999,
          0.01472470175,
          0.019902232750000005
         ],
         "y": [
          0.0006220832500000001,
          0.0014706340000000002,
          0.0035447540000000007,
          0.004328675000000001,
          0.005469404750000002,
          0.001932858,
          0.0037957485000000004,
          0.005946973249999999,
          0.007516218250000001,
          0.009599268749999997
         ]
        },
        {
         "hoverinfo": "text",
         "marker": {
          "color": "hsl(175.769230769, 49.3846153846%, 52.4615384615%)",
          "line": {
           "color": "black",
           "width": 0.8
          },
          "size": 20,
          "symbol": "star"
         },
         "mode": "markers",
         "name": "mc.ff.p1.up Data",
         "text": "(0.0053,0.0010)<br>mc.ff.p1.up Data",
         "type": "scatter",
         "x": [
          0.00532162
         ],
         "y": [
          0.00099917
         ]
        },
        {
         "hoverinfo": "text",
         "marker": {
          "color": "hsl(22.4615384615, 93.0769230769%, 64.5128205128%)",
          "line": {
           "color": "black",
           "width": 0.8
          }
         },
         "mode": "markers",
         "name": "mc.ff.p2.down",
         "text": [
          "(-0.0001,0.0027)<br>True: (0.0000,0.0000)<br>mc.ff.p2.down",
          "(-0.0000,0.0042)<br>True: (0.0100,0.0000)<br>mc.ff.p2.down",
          "(0.0019,0.0064)<br>True: (0.0200,0.0000)<br>mc.ff.p2.down",
          "(0.0055,0.0090)<br>True: (0.0300,0.0000)<br>mc.ff.p2.down",
          "(0.0105,0.0107)<br>True: (0.0400,0.0000)<br>mc.ff.p2.down",
          "(-0.0003,0.0042)<br>True: (0.0000,0.0050)<br>mc.ff.p2.down",
          "(0.0013,0.0064)<br>True: (0.0100,0.0050)<br>mc.ff.p2.down",
          "(0.0023,0.0096)<br>True: (0.0200,0.0050)<br>mc.ff.p2.down",
          "(0.0060,0.0122)<br>True: (0.0300,0.0050)<br>mc.ff.p2.down",
          "(0.0119,0.0145)<br>True: (0.0400,0.0050)<br>mc.ff.p2.down"
         ],
         "type": "scatter",
         "x": [
          -0.00011125649999999999,
          -3.57737500000007e-05,
          0.0018899377500000009,
          0.005461049500000002,
          0.010466900000000001,
          -0.0002639525000000001,
          0.0012578015000000008,
          0.0023280767500000014,
          0.006021424500000001,
          0.011945471500000002
         ],
         "y": [
          0.002688957999999999,
          0.0041979245,
          0.006447087999999999,
          0.008997643500000001,
          0.010737352249999997,
          0.004214687500000001,
          0.006428305749999999,
          0.0095894015,
          0.01218883825,
          0.0144662245
         ]
        },
        {
         "hoverinfo": "text",
         "marker": {
          "color": "hsl(22.4615384615, 93.0769230769%, 64.5128205128%)",
          "line": {
           "color": "black",
           "width": 0.8
          },
          "size": 20,
          "symbol": "star"
         },
         "mode": "markers",
         "name": "mc.ff.p2.down Data",
         "text": "(0.0025,0.0033)<br>mc.ff.p2.down Data",
         "type": "scatter",
         "x": [
          0.00251653
         ],
         "y": [
          0.00326492
         ]
        },
        {
         "hoverinfo": "text",
         "marker": {
          "color": "hsl(57.9487179487, 99.7435897436%, 85.7179487179%)",
          "line": {
           "color": "black",
           "width": 0.8
          }
         },
         "mode": "markers",
         "name": "mc.ff.p2.up",
         "text": [
          "(0.0003,0.0005)<br>True: (0.0000,0.0000)<br>mc.ff.p2.up",
          "(0.0003,0.0020)<br>True: (0.0100,0.0000)<br>mc.ff.p2.up",
          "(0.0043,0.0026)<br>True: (0.0200,0.0000)<br>mc.ff.p2.up",
          "(0.0090,0.0048)<br>True: (0.0300,0.0000)<br>mc.ff.p2.up",
          "(0.0164,0.0055)<br>True: (0.0400,0.0000)<br>mc.ff.p2.up",
          "(0.0003,0.0013)<br>True: (0.0000,0.0050)<br>mc.ff.p2.up",
          "(0.0019,0.0033)<br>True: (0.0100,0.0050)<br>mc.ff.p2.up",
          "(0.0053,0.0054)<br>True: (0.0200,0.0050)<br>mc.ff.p2.up",
          "(0.0116,0.0069)<br>True: (0.0300,0.0050)<br>mc.ff.p2.up",
          "(0.0174,0.0090)<br>True: (0.0400,0.0050)<br>mc.ff.p2.up"
         ],
         "type": "scatter",
         "x": [
          0.00031660750000000006,
          0.00029721025000000074,
          0.004263826000000002,
          0.009003521999999996,
          0.016406164,
          0.0002697757500000001,
          0.0018888967500000006,
          0.005255649500000001,
          0.01161580325,
          0.017389104250000002
         ],
         "y": [
          0.0004864785000000001,
          0.0019988809999999997,
          0.0026468565,
          0.00484367125,
          0.005491561249999999,
          0.0013120477499999998,
          0.0033385845000000005,
          0.005374762,
          0.006891027499999998,
          0.008955405000000001
         ]
        },
        {
         "hoverinfo": "text",
         "marker": {
          "color": "hsl(57.9487179487, 99.7435897436%, 85.7179487179%)",
          "line": {
           "color": "black",
           "width": 0.8
          },
          "size": 20,
          "symbol": "star"
         },
         "mode": "markers",
         "name": "mc.ff.p2.up Data",
         "text": "(0.0042,0.0007)<br>mc.ff.p2.up Data",
         "type": "scatter",
         "x": [
          0.00417491
         ],
         "y": [
          0.0007019
         ]
        },
        {
         "hoverinfo": "text",
         "marker": {
          "color": "hsl(63.4615384615, 93.0769230769%, 83.1538461538%)",
          "line": {
           "color": "black",
           "width": 0.8
          }
         },
         "mode": "markers",
         "name": "mc.ff.rho2.down",
         "text": [
          "(0.0006,0.0015)<br>True: (0.0000,0.0000)<br>mc.ff.rho2.down",
          "(0.0015,0.0027)<br>True: (0.0100,0.0000)<br>mc.ff.rho2.down",
          "(0.0048,0.0036)<br>True: (0.0200,0.0000)<br>mc.ff.rho2.down",
          "(0.0096,0.0060)<br>True: (0.0300,0.0000)<br>mc.ff.rho2.down",
          "(0.0185,0.0061)<br>True: (0.0400,0.0000)<br>mc.ff.rho2.down",
          "(0.0010,0.0025)<br>True: (0.0000,0.0050)<br>mc.ff.rho2.down",
          "(0.0032,0.0039)<br>True: (0.0100,0.0050)<br>mc.ff.rho2.down",
          "(0.0068,0.0063)<br>True: (0.0200,0.0050)<br>mc.ff.rho2.down",
          "(0.0126,0.0080)<br>True: (0.0300,0.0050)<br>mc.ff.rho2.down",
          "(0.0193,0.0087)<br>True: (0.0400,0.0050)<br>mc.ff.rho2.down"
         ],
         "type": "scatter",
         "x": [
          0.0006192979999999999,
          0.0015328394999999991,
          0.004753690250000001,
          0.009589715749999998,
          0.018480722749999998,
          0.00102852875,
          0.0031873974999999995,
          0.006792177500000001,
          0.01264134825,
          0.019290105999999998
         ],
         "y": [
          0.0014805270000000001,
          0.0026722042500000004,
          0.0035701227500000007,
          0.005975180250000001,
          0.006124335250000002,
          0.0024860767500000007,
          0.003855401,
          0.006324116,
          0.008014448999999996,
          0.00867974925
         ]
        },
        {
         "hoverinfo": "text",
         "marker": {
          "color": "hsl(63.4615384615, 93.0769230769%, 83.1538461538%)",
          "line": {
           "color": "black",
           "width": 0.8
          },
          "size": 20,
          "symbol": "star"
         },
         "mode": "markers",
         "name": "mc.ff.rho2.down Data",
         "text": "(0.0051,0.0013)<br>mc.ff.rho2.down Data",
         "type": "scatter",
         "x": [
          0.00509759
         ],
         "y": [
          0.00133563
         ]
        },
        {
         "hoverinfo": "text",
         "marker": {
          "color": "hsl(335.0, 98.0%, 31.0%)",
          "line": {
           "color": "black",
           "width": 0.8
          }
         },
         "mode": "markers",
         "name": "mc.ff.rho2.up",
         "text": [
          "(0.0005,0.0031)<br>True: (0.0000,0.0000)<br>mc.ff.rho2.up",
          "(0.0008,0.0041)<br>True: (0.0100,0.0000)<br>mc.ff.rho2.up",
          "(0.0027,0.0066)<br>True: (0.0200,0.0000)<br>mc.ff.rho2.up",
          "(0.0049,0.0088)<br>True: (0.0300,0.0000)<br>mc.ff.rho2.up",
          "(0.0105,0.0108)<br>True: (0.0400,0.0000)<br>mc.ff.rho2.up",
          "(0.0008,0.0040)<br>True: (0.0000,0.0050)<br>mc.ff.rho2.up",
          "(0.0018,0.0059)<br>True: (0.0100,0.0050)<br>mc.ff.rho2.up",
          "(0.0032,0.0090)<br>True: (0.0200,0.0050)<br>mc.ff.rho2.up",
          "(0.0070,0.0119)<br>True: (0.0300,0.0050)<br>mc.ff.rho2.up",
          "(0.0117,0.0137)<br>True: (0.0400,0.0050)<br>mc.ff.rho2.up"
         ],
         "type": "scatter",
         "x": [
          0.0004785682499999997,
          0.0008105660000000004,
          0.0027049430000000013,
          0.004885081499999999,
          0.010514916999999999,
          0.0008305587499999999,
          0.0018077844999999995,
          0.003165659500000001,
          0.007023230499999998,
          0.01168446075
         ],
         "y": [
          0.00306734575,
          0.004133649499999999,
          0.006572826999999999,
          0.008788556499999997,
          0.01075198225,
          0.003968113249999998,
          0.005942662999999999,
          0.008987289999999998,
          0.011905192749999998,
          0.013719212249999998
         ]
        },
        {
         "hoverinfo": "text",
         "marker": {
          "color": "hsl(335.0, 98.0%, 31.0%)",
          "line": {
           "color": "black",
           "width": 0.8
          },
          "size": 20,
          "symbol": "star"
         },
         "mode": "markers",
         "name": "mc.ff.rho2.up Data",
         "text": "(0.0028,0.0032)<br>mc.ff.rho2.up Data",
         "type": "scatter",
         "x": [
          0.00280695
         ],
         "y": [
          0.00315691
         ]
        },
        {
         "hoverinfo": "text",
         "marker": {
          "color": "hsl(14.7692307692, 88.4615384615%, 60.4102564103%)",
          "line": {
           "color": "black",
           "width": 0.8
          }
         },
         "mode": "markers",
         "name": "mc.lumi.down",
         "text": [
          "(-0.0004,0.0012)<br>True: (0.0000,0.0000)<br>mc.lumi.down",
          "(0.0008,0.0016)<br>True: (0.0100,0.0000)<br>mc.lumi.down",
          "(0.0041,0.0027)<br>True: (0.0200,0.0000)<br>mc.lumi.down",
          "(0.0095,0.0047)<br>True: (0.0300,0.0000)<br>mc.lumi.down",
          "(0.0176,0.0052)<br>True: (0.0400,0.0000)<br>mc.lumi.down",
          "(0.0000,0.0017)<br>True: (0.0000,0.0050)<br>mc.lumi.down",
          "(0.0016,0.0036)<br>True: (0.0100,0.0050)<br>mc.lumi.down",
          "(0.0050,0.0060)<br>True: (0.0200,0.0050)<br>mc.lumi.down",
          "(0.0109,0.0079)<br>True: (0.0300,0.0050)<br>mc.lumi.down",
          "(0.0177,0.0094)<br>True: (0.0400,0.0050)<br>mc.lumi.down"
         ],
         "type": "scatter",
         "x": [
          -0.0004127557500000001,
          0.0007869877500000007,
          0.00407197175,
          0.00954397475,
          0.017605768749999997,
          4.895924999999998e-05,
          0.0016299915000000005,
          0.00496334,
          0.010899958250000001,
          0.017662865750000006
         ],
         "y": [
          0.00116140075,
          0.0015930050000000002,
          0.0027445615,
          0.0046765455,
          0.00515125375,
          0.0017042792500000003,
          0.003640518,
          0.006045911249999999,
          0.007885097499999997,
          0.0094394335
         ]
        },
        {
         "hoverinfo": "text",
         "marker": {
          "color": "hsl(14.7692307692, 88.4615384615%, 60.4102564103%)",
          "line": {
           "color": "black",
           "width": 0.8
          },
          "size": 20,
          "symbol": "star"
         },
         "mode": "markers",
         "name": "mc.lumi.down Data",
         "text": "(0.0043,0.0008)<br>mc.lumi.down Data",
         "type": "scatter",
         "x": [
          0.0043235
         ],
         "y": [
          0.00077588
         ]
        },
        {
         "hoverinfo": "text",
         "marker": {
          "color": "hsl(348.846153846, 71.8461538462%, 47.9230769231%)",
          "line": {
           "color": "black",
           "width": 0.8
          }
         },
         "mode": "markers",
         "name": "mc.lumi.up",
         "text": [
          "(0.0002,0.0065)<br>True: (0.0000,0.0000)<br>mc.lumi.up",
          "(0.0012,0.0079)<br>True: (0.0100,0.0000)<br>mc.lumi.up",
          "(0.0012,0.0112)<br>True: (0.0200,0.0000)<br>mc.lumi.up",
          "(0.0040,0.0135)<br>True: (0.0300,0.0000)<br>mc.lumi.up",
          "(0.0096,0.0154)<br>True: (0.0400,0.0000)<br>mc.lumi.up",
          "(0.0002,0.0080)<br>True: (0.0000,0.0050)<br>mc.lumi.up",
          "(0.0011,0.0110)<br>True: (0.0100,0.0050)<br>mc.lumi.up",
          "(0.0029,0.0132)<br>True: (0.0200,0.0050)<br>mc.lumi.up",
          "(0.0050,0.0163)<br>True: (0.0300,0.0050)<br>mc.lumi.up",
          "(0.0106,0.0187)<br>True: (0.0400,0.0050)<br>mc.lumi.up"
         ],
         "type": "scatter",
         "x": [
          0.00024925775000000005,
          0.0011582009999999993,
          0.0012480052499999998,
          0.0040096687500000006,
          0.00958700275,
          0.000186671,
          0.0011407262499999998,
          0.0029446904999999995,
          0.005028771250000001,
          0.010633378749999998
         ],
         "y": [
          0.006523006500000002,
          0.007942446500000002,
          0.011214807,
          0.013498950000000001,
          0.015357890000000003,
          0.00801332925,
          0.011036115499999997,
          0.013241341249999997,
          0.016260313,
          0.018679142500000002
         ]
        },
        {
         "hoverinfo": "text",
         "marker": {
          "color": "hsl(348.846153846, 71.8461538462%, 47.9230769231%)",
          "line": {
           "color": "black",
           "width": 0.8
          },
          "size": 20,
          "symbol": "star"
         },
         "mode": "markers",
         "name": "mc.lumi.up Data",
         "text": "(0.0033,0.0057)<br>mc.lumi.up Data",
         "type": "scatter",
         "x": [
          0.00331081
         ],
         "y": [
          0.00573217
         ]
        },
        {
         "hoverinfo": "text",
         "marker": {
          "color": "hsl(75.6153846154, 76.3076923077%, 76.6923076923%)",
          "line": {
           "color": "black",
           "width": 0.8
          }
         },
         "mode": "markers",
         "name": "mc.sideband.comb",
         "text": [
          "(-0.0002,0.0007)<br>True: (0.0000,0.0000)<br>mc.sideband.comb",
          "(0.0018,0.0015)<br>True: (0.0100,0.0000)<br>mc.sideband.comb",
          "(0.0052,0.0026)<br>True: (0.0200,0.0000)<br>mc.sideband.comb",
          "(0.0117,0.0034)<br>True: (0.0300,0.0000)<br>mc.sideband.comb",
          "(0.0197,0.0040)<br>True: (0.0400,0.0000)<br>mc.sideband.comb",
          "(0.0008,0.0018)<br>True: (0.0000,0.0050)<br>mc.sideband.comb",
          "(0.0030,0.0028)<br>True: (0.0100,0.0050)<br>mc.sideband.comb",
          "(0.0081,0.0041)<br>True: (0.0200,0.0050)<br>mc.sideband.comb",
          "(0.0143,0.0058)<br>True: (0.0300,0.0050)<br>mc.sideband.comb",
          "(0.0219,0.0066)<br>True: (0.0400,0.0050)<br>mc.sideband.comb"
         ],
         "type": "scatter",
         "x": [
          -0.00015332375000000003,
          0.0017655912500000003,
          0.005178663499999998,
          0.011741390749999997,
          0.019699201000000003,
          0.0008035410000000002,
          0.00302240275,
          0.008125616499999998,
          0.014276684499999998,
          0.0219012995
         ],
         "y": [
          0.00071477375,
          0.0015298712499999998,
          0.0025863695000000004,
          0.0034314607499999995,
          0.00401240575,
          0.0018063952500000004,
          0.00280050975,
          0.0041274745000000005,
          0.0058169385,
          0.0066346159999999986
         ]
        },
        {
         "hoverinfo": "text",
         "marker": {
          "color": "hsl(75.6153846154, 76.3076923077%, 76.6923076923%)",
          "line": {
           "color": "black",
           "width": 0.8
          },
          "size": 20,
          "symbol": "star"
         },
         "mode": "markers",
         "name": "mc.sideband.comb Data",
         "text": "(0.0025,0.0010)<br>mc.sideband.comb Data",
         "type": "scatter",
         "x": [
          0.00254552
         ],
         "y": [
          0.00096591
         ]
        }
       ],
       "layout": {
        "hovermode": "closest",
        "xaxis": {
         "range": [
          -0.01,
          0.03
         ],
         "title": "$\\text{Extracted } D\\tau \\text{ Proportion}$"
        },
        "yaxis": {
         "range": [
          -0.005,
          0.025
         ],
         "title": "$\\text{Extracted } D^*\\tau \\text{ Proportion}$"
        }
       }
      },
      "text/html": [
       "<div id=\"cc1a8fac-a495-426e-9fcf-bb79830b2dde\" style=\"height: 525px; width: 100%;\" class=\"plotly-graph-div\"></div><script type=\"text/javascript\">require([\"plotly\"], function(Plotly) { window.PLOTLYENV=window.PLOTLYENV || {};window.PLOTLYENV.BASE_URL=\"https://plot.ly\";Plotly.newPlot(\"cc1a8fac-a495-426e-9fcf-bb79830b2dde\", [{\"name\": \"central\", \"text\": [\"(0.0018,0.0008)<br>True: (0.0000,0.0000)<br>central\", \"(0.0029,0.0017)<br>True: (0.0100,0.0000)<br>central\", \"(0.0056,0.0031)<br>True: (0.0200,0.0000)<br>central\", \"(0.0123,0.0040)<br>True: (0.0300,0.0000)<br>central\", \"(0.0197,0.0046)<br>True: (0.0400,0.0000)<br>central\", \"(0.0020,0.0016)<br>True: (0.0000,0.0059)<br>central\", \"(0.0038,0.0037)<br>True: (0.0100,0.0059)<br>central\", \"(0.0091,0.0052)<br>True: (0.0200,0.0059)<br>central\", \"(0.0147,0.0068)<br>True: (0.0300,0.0059)<br>central\", \"(0.0227,0.0077)<br>True: (0.0400,0.0059)<br>central\"], \"marker\": {\"color\": \"black\", \"line\": {\"color\": \"black\", \"width\": 0.8}}, \"mode\": \"markers\", \"hoverinfo\": \"text\", \"y\": [0.000847743, 0.0016839582499999992, 0.003132707250000001, 0.00403463425, 0.0046153745, 0.0016330575000000009, 0.0037253664999999992, 0.005247472, 0.006838373, 0.007714710750000001], \"x\": [0.0017794295000000005, 0.0029142250000000003, 0.00563408575, 0.01230960075, 0.019745399499999997, 0.00196355, 0.0038342709999999993, 0.009115469, 0.014669792749999999, 0.0227244995], \"type\": \"scatter\"}, {\"name\": \"central Data\", \"text\": \"(0.0051,0.0009)<br>central Data\", \"marker\": {\"color\": \"black\", \"symbol\": \"star\", \"line\": {\"color\": \"black\", \"width\": 0.8}, \"size\": 20}, \"mode\": \"markers\", \"hoverinfo\": \"text\", \"y\": [0.00090702], \"x\": [0.00512954], \"type\": \"scatter\"}, {\"name\": \"mc.brf.drho.down\", \"text\": [\"(0.0059,0.0005)<br>True: (0.0000,0.0000)<br>mc.brf.drho.down\", \"(0.0087,0.0010)<br>True: (0.0100,0.0000)<br>mc.brf.drho.down\", \"(0.0129,0.0019)<br>True: (0.0200,0.0000)<br>mc.brf.drho.down\", \"(0.0194,0.0015)<br>True: (0.0300,0.0000)<br>mc.brf.drho.down\", \"(0.0249,0.0032)<br>True: (0.0400,0.0000)<br>mc.brf.drho.down\", \"(0.0076,0.0011)<br>True: (0.0000,0.0050)<br>mc.brf.drho.down\", \"(0.0108,0.0020)<br>True: (0.0100,0.0050)<br>mc.brf.drho.down\", \"(0.0157,0.0027)<br>True: (0.0200,0.0050)<br>mc.brf.drho.down\", \"(0.0212,0.0040)<br>True: (0.0300,0.0050)<br>mc.brf.drho.down\", \"(0.0278,0.0047)<br>True: (0.0400,0.0050)<br>mc.brf.drho.down\"], \"marker\": {\"color\": \"hsl(45.641025641, 98.2051282051%, 78.0256410256%)\", \"line\": {\"color\": \"black\", \"width\": 0.8}}, \"mode\": \"markers\", \"hoverinfo\": \"text\", \"y\": [0.0005145094999999999, 0.0010316255000000002, 0.0019232485000000004, 0.0015283555000000003, 0.003221519499999999, 0.0011275950000000003, 0.0020174662499999997, 0.00272044375, 0.003954324249999999, 0.004717886250000001], \"x\": [0.005949336749999998, 0.008684893, 0.012943696499999999, 0.019357035999999998, 0.024882680499999997, 0.00756899825, 0.010800082749999999, 0.015702369, 0.021177940999999995, 0.02776392550000001], \"type\": \"scatter\"}, {\"name\": \"mc.brf.drho.down Data\", \"text\": \"(0.0108,0.0009)<br>mc.brf.drho.down Data\", \"marker\": {\"color\": \"hsl(45.641025641, 98.2051282051%, 78.0256410256%)\", \"symbol\": \"star\", \"line\": {\"color\": \"black\", \"width\": 0.8}, \"size\": 20}, \"mode\": \"markers\", \"hoverinfo\": \"text\", \"y\": [0.00088028], \"x\": [0.01080102], \"type\": \"scatter\"}, {\"name\": \"mc.brf.drho.down.twosigma\", \"text\": [\"(-0.0004,0.0016)<br>True: (0.0000,0.0000)<br>mc.brf.drho.down.twosigma\", \"(-0.0000,0.0025)<br>True: (0.0100,0.0000)<br>mc.brf.drho.down.twosigma\", \"(0.0035,0.0040)<br>True: (0.0200,0.0000)<br>mc.brf.drho.down.twosigma\", \"(0.0084,0.0057)<br>True: (0.0300,0.0000)<br>mc.brf.drho.down.twosigma\", \"(0.0153,0.0068)<br>True: (0.0400,0.0000)<br>mc.brf.drho.down.twosigma\", \"(-0.0004,0.0026)<br>True: (0.0000,0.0050)<br>mc.brf.drho.down.twosigma\", \"(0.0019,0.0040)<br>True: (0.0100,0.0050)<br>mc.brf.drho.down.twosigma\", \"(0.0035,0.0071)<br>True: (0.0200,0.0050)<br>mc.brf.drho.down.twosigma\", \"(0.0104,0.0087)<br>True: (0.0300,0.0050)<br>mc.brf.drho.down.twosigma\", \"(0.0178,0.0096)<br>True: (0.0400,0.0050)<br>mc.brf.drho.down.twosigma\"], \"marker\": {\"color\": \"hsl(18.6153846154, 90.7692307692%, 62.4615384615%)\", \"line\": {\"color\": \"black\", \"width\": 0.8}}, \"mode\": \"markers\", \"hoverinfo\": \"text\", \"y\": [0.0016034065000000003, 0.0025207199999999997, 0.003956817999999999, 0.00567490825, 0.006772481249999997, 0.0026264317499999994, 0.00404846225, 0.00710922175, 0.008714839249999998, 0.009595509999999998], \"x\": [-0.00044604325, -3.151875000000082e-05, 0.00350901675, 0.0083619895, 0.015295827999999994, -0.0004112672499999999, 0.0018558422499999998, 0.0034605574999999993, 0.010448684000000003, 0.01779563675], \"type\": \"scatter\"}, {\"name\": \"mc.brf.drho.down.twosigma Data\", \"text\": \"(0.0032,0.0011)<br>mc.brf.drho.down.twosigma Data\", \"marker\": {\"color\": \"hsl(18.6153846154, 90.7692307692%, 62.4615384615%)\", \"symbol\": \"star\", \"line\": {\"color\": \"black\", \"width\": 0.8}, \"size\": 20}, \"mode\": \"markers\", \"hoverinfo\": \"text\", \"y\": [0.00109837], \"x\": [0.00320697], \"type\": \"scatter\"}, {\"name\": \"mc.brf.drho.up\", \"text\": [\"(0.0000,0.0016)<br>True: (0.0000,0.0000)<br>mc.brf.drho.up\", \"(0.0008,0.0028)<br>True: (0.0100,0.0000)<br>mc.brf.drho.up\", \"(0.0037,0.0049)<br>True: (0.0200,0.0000)<br>mc.brf.drho.up\", \"(0.0080,0.0065)<br>True: (0.0300,0.0000)<br>mc.brf.drho.up\", \"(0.0160,0.0079)<br>True: (0.0400,0.0000)<br>mc.brf.drho.up\", \"(0.0010,0.0024)<br>True: (0.0000,0.0050)<br>mc.brf.drho.up\", \"(0.0027,0.0043)<br>True: (0.0100,0.0050)<br>mc.brf.drho.up\", \"(0.0050,0.0075)<br>True: (0.0200,0.0050)<br>mc.brf.drho.up\", \"(0.0104,0.0099)<br>True: (0.0300,0.0050)<br>mc.brf.drho.up\", \"(0.0168,0.0110)<br>True: (0.0400,0.0050)<br>mc.brf.drho.up\"], \"marker\": {\"color\": \"hsl(108.692307692, 47.8461538462%, 75.1538461538%)\", \"line\": {\"color\": \"black\", \"width\": 0.8}}, \"mode\": \"markers\", \"hoverinfo\": \"text\", \"y\": [0.0015907539999999998, 0.0028394217500000004, 0.0048628722500000015, 0.006527718750000001, 0.007887538499999997, 0.0023748757500000003, 0.004307717000000001, 0.007520219749999997, 0.009922445249999998, 0.011015997500000001], \"x\": [2.828649999999998e-05, 0.00081636075, 0.00372355475, 0.008045632999999996, 0.01598072525, 0.00095879625, 0.002675795, 0.0050126469999999985, 0.010360802750000002, 0.01676337775000001], \"type\": \"scatter\"}, {\"name\": \"mc.brf.drho.up Data\", \"text\": \"(0.0049,0.0011)<br>mc.brf.drho.up Data\", \"marker\": {\"color\": \"hsl(108.692307692, 47.8461538462%, 75.1538461538%)\", \"symbol\": \"star\", \"line\": {\"color\": \"black\", \"width\": 0.8}, \"size\": 20}, \"mode\": \"markers\", \"hoverinfo\": \"text\", \"y\": [0.0010851], \"x\": [0.00492946], \"type\": \"scatter\"}, {\"name\": \"mc.brf.drho.up.twosigma\", \"text\": [\"(0.0036,0.0004)<br>True: (0.0000,0.0000)<br>mc.brf.drho.up.twosigma\", \"(0.0055,0.0015)<br>True: (0.0100,0.0000)<br>mc.brf.drho.up.twosigma\", \"(0.0086,0.0030)<br>True: (0.0200,0.0000)<br>mc.brf.drho.up.twosigma\", \"(0.0134,0.0048)<br>True: (0.0300,0.0000)<br>mc.brf.drho.up.twosigma\", \"(0.0194,0.0064)<br>True: (0.0400,0.0000)<br>mc.brf.drho.up.twosigma\", \"(0.0041,0.0018)<br>True: (0.0000,0.0050)<br>mc.brf.drho.up.twosigma\", \"(0.0063,0.0029)<br>True: (0.0100,0.0050)<br>mc.brf.drho.up.twosigma\", \"(0.0107,0.0054)<br>True: (0.0200,0.0050)<br>mc.brf.drho.up.twosigma\", \"(0.0150,0.0079)<br>True: (0.0300,0.0050)<br>mc.brf.drho.up.twosigma\", \"(0.0203,0.0099)<br>True: (0.0400,0.0050)<br>mc.brf.drho.up.twosigma\"], \"marker\": {\"color\": \"hsl(344.307692308, 64.6153846154%, 53.1794871795%)\", \"line\": {\"color\": \"black\", \"width\": 0.8}}, \"mode\": \"markers\", \"hoverinfo\": \"text\", \"y\": [0.00043246824999999996, 0.001471955, 0.00300968575, 0.004792392750000001, 0.006360791749999999, 0.0017842852499999995, 0.00294263225, 0.005387052999999998, 0.00791051475, 0.009884029749999999], \"x\": [0.00362284, 0.0055334595, 0.00856039825, 0.013398251, 0.019415425000000004, 0.0040796272500000005, 0.00634014775, 0.010652373499999998, 0.015046309499999997, 0.02034039575], \"type\": \"scatter\"}, {\"name\": \"mc.brf.drho.up.twosigma Data\", \"text\": \"(0.0140,0.0010)<br>mc.brf.drho.up.twosigma Data\", \"marker\": {\"color\": \"hsl(344.307692308, 64.6153846154%, 53.1794871795%)\", \"symbol\": \"star\", \"line\": {\"color\": \"black\", \"width\": 0.8}, \"size\": 20}, \"mode\": \"markers\", \"hoverinfo\": \"text\", \"y\": [0.00101813], \"x\": [0.01402308], \"type\": \"scatter\"}, {\"name\": \"mc.brf.dss.down\", \"text\": [\"(-0.0000,-0.0002)<br>True: (0.0000,0.0000)<br>mc.brf.dss.down\", \"(0.0019,0.0011)<br>True: (0.0100,0.0000)<br>mc.brf.dss.down\", \"(0.0067,0.0022)<br>True: (0.0200,0.0000)<br>mc.brf.dss.down\", \"(0.0132,0.0036)<br>True: (0.0300,0.0000)<br>mc.brf.dss.down\", \"(0.0217,0.0039)<br>True: (0.0400,0.0000)<br>mc.brf.dss.down\", \"(0.0003,0.0010)<br>True: (0.0000,0.0050)<br>mc.brf.dss.down\", \"(0.0037,0.0028)<br>True: (0.0100,0.0050)<br>mc.brf.dss.down\", \"(0.0086,0.0050)<br>True: (0.0200,0.0050)<br>mc.brf.dss.down\", \"(0.0165,0.0053)<br>True: (0.0300,0.0050)<br>mc.brf.dss.down\", \"(0.0236,0.0070)<br>True: (0.0400,0.0050)<br>mc.brf.dss.down\"], \"marker\": {\"color\": \"hsl(53.8461538462, 99.2307692308%, 83.1538461538%)\", \"line\": {\"color\": \"black\", \"width\": 0.8}}, \"mode\": \"markers\", \"hoverinfo\": \"text\", \"y\": [-0.00015016824999999995, 0.0011229622500000002, 0.002224923, 0.003589962000000001, 0.00389296575, 0.0009741935000000005, 0.0027725797500000007, 0.004977406499999999, 0.005267179500000001, 0.00702415925], \"x\": [-4.790124999999993e-05, 0.001929384499999999, 0.006748574249999998, 0.013152361250000001, 0.02172993125, 0.0002933397499999999, 0.00367428375, 0.00860603725, 0.01652503, 0.023550498250000003], \"type\": \"scatter\"}, {\"name\": \"mc.brf.dss.down Data\", \"text\": \"(0.0055,0.0008)<br>mc.brf.dss.down Data\", \"marker\": {\"color\": \"hsl(53.8461538462, 99.2307692308%, 83.1538461538%)\", \"symbol\": \"star\", \"line\": {\"color\": \"black\", \"width\": 0.8}, \"size\": 20}, \"mode\": \"markers\", \"hoverinfo\": \"text\", \"y\": [0.00076478], \"x\": [0.00550215], \"type\": \"scatter\"}, {\"name\": \"mc.brf.dss.down.twosigma\", \"text\": [\"(0.0012,0.0014)<br>True: (0.0000,0.0000)<br>mc.brf.dss.down.twosigma\", \"(0.0018,0.0026)<br>True: (0.0100,0.0000)<br>mc.brf.dss.down.twosigma\", \"(0.0047,0.0042)<br>True: (0.0200,0.0000)<br>mc.brf.dss.down.twosigma\", \"(0.0090,0.0065)<br>True: (0.0300,0.0000)<br>mc.brf.dss.down.twosigma\", \"(0.0165,0.0074)<br>True: (0.0400,0.0000)<br>mc.brf.dss.down.twosigma\", \"(0.0013,0.0021)<br>True: (0.0000,0.0050)<br>mc.brf.dss.down.twosigma\", \"(0.0031,0.0042)<br>True: (0.0100,0.0050)<br>mc.brf.dss.down.twosigma\", \"(0.0059,0.0069)<br>True: (0.0200,0.0050)<br>mc.brf.dss.down.twosigma\", \"(0.0115,0.0088)<br>True: (0.0300,0.0050)<br>mc.brf.dss.down.twosigma\", \"(0.0175,0.0107)<br>True: (0.0400,0.0050)<br>mc.brf.dss.down.twosigma\"], \"marker\": {\"color\": \"hsl(120.794871795, 44.4615384615%, 71.9487179487%)\", \"line\": {\"color\": \"black\", \"width\": 0.8}}, \"mode\": \"markers\", \"hoverinfo\": \"text\", \"y\": [0.00135475925, 0.0025886532499999992, 0.004180740250000001, 0.006502961999999999, 0.007411775749999999, 0.0021006245000000003, 0.004245856, 0.00693302425, 0.008799209499999999, 0.010668459749999998], \"x\": [0.0011785145, 0.0017991055000000002, 0.004671548749999999, 0.00902811425, 0.01650483125, 0.0012816865, 0.00306195475, 0.00594340525, 0.011545830750000003, 0.01748659375], \"type\": \"scatter\"}, {\"name\": \"mc.brf.dss.down.twosigma Data\", \"text\": \"(0.0057,0.0010)<br>mc.brf.dss.down.twosigma Data\", \"marker\": {\"color\": \"hsl(120.794871795, 44.4615384615%, 71.9487179487%)\", \"symbol\": \"star\", \"line\": {\"color\": \"black\", \"width\": 0.8}, \"size\": 20}, \"mode\": \"markers\", \"hoverinfo\": \"text\", \"y\": [0.00099194], \"x\": [0.00566856], \"type\": \"scatter\"}, {\"name\": \"mc.brf.dss.up\", \"text\": [\"(0.0003,-0.0002)<br>True: (0.0000,0.0000)<br>mc.brf.dss.up\", \"(0.0015,0.0014)<br>True: (0.0100,0.0000)<br>mc.brf.dss.up\", \"(0.0037,0.0030)<br>True: (0.0200,0.0000)<br>mc.brf.dss.up\", \"(0.0107,0.0050)<br>True: (0.0300,0.0000)<br>mc.brf.dss.up\", \"(0.0175,0.0059)<br>True: (0.0400,0.0000)<br>mc.brf.dss.up\", \"(0.0001,0.0017)<br>True: (0.0000,0.0050)<br>mc.brf.dss.up\", \"(0.0024,0.0034)<br>True: (0.0100,0.0050)<br>mc.brf.dss.up\", \"(0.0060,0.0058)<br>True: (0.0200,0.0050)<br>mc.brf.dss.up\", \"(0.0122,0.0078)<br>True: (0.0300,0.0050)<br>mc.brf.dss.up\", \"(0.0193,0.0085)<br>True: (0.0400,0.0050)<br>mc.brf.dss.up\"], \"marker\": {\"color\": \"hsl(201.923076923, 40.1538461538%, 46.7435897436%)\", \"line\": {\"color\": \"black\", \"width\": 0.8}}, \"mode\": \"markers\", \"hoverinfo\": \"text\", \"y\": [-0.00016193850000000007, 0.00135324925, 0.00297699075, 0.0050050222499999995, 0.00591117975, 0.00168232675, 0.003441673500000001, 0.005832926000000001, 0.007793596750000001, 0.008502250250000004], \"x\": [0.00030727975000000013, 0.0015035854999999997, 0.0036598322500000016, 0.010684549250000001, 0.01753324825, 0.00010297749999999997, 0.00236764475, 0.0060343257500000014, 0.012245858249999998, 0.019345713000000004], \"type\": \"scatter\"}, {\"name\": \"mc.brf.dss.up Data\", \"text\": \"(0.0049,0.0007)<br>mc.brf.dss.up Data\", \"marker\": {\"color\": \"hsl(201.923076923, 40.1538461538%, 46.7435897436%)\", \"symbol\": \"star\", \"line\": {\"color\": \"black\", \"width\": 0.8}, \"size\": 20}, \"mode\": \"markers\", \"hoverinfo\": \"text\", \"y\": [0.00073582], \"x\": [0.00488512], \"type\": \"scatter\"}, {\"name\": \"mc.brf.dss.up.twosigma\", \"text\": [\"(-0.0005,0.0001)<br>True: (0.0000,0.0000)<br>mc.brf.dss.up.twosigma\", \"(0.0006,0.0012)<br>True: (0.0100,0.0000)<br>mc.brf.dss.up.twosigma\", \"(0.0031,0.0028)<br>True: (0.0200,0.0000)<br>mc.brf.dss.up.twosigma\", \"(0.0069,0.0048)<br>True: (0.0300,0.0000)<br>mc.brf.dss.up.twosigma\", \"(0.0134,0.0068)<br>True: (0.0400,0.0000)<br>mc.brf.dss.up.twosigma\", \"(-0.0002,0.0013)<br>True: (0.0000,0.0050)<br>mc.brf.dss.up.twosigma\", \"(0.0008,0.0035)<br>True: (0.0100,0.0050)<br>mc.brf.dss.up.twosigma\", \"(0.0041,0.0055)<br>True: (0.0200,0.0050)<br>mc.brf.dss.up.twosigma\", \"(0.0082,0.0092)<br>True: (0.0300,0.0050)<br>mc.brf.dss.up.twosigma\", \"(0.0157,0.0093)<br>True: (0.0400,0.0050)<br>mc.brf.dss.up.twosigma\"], \"marker\": {\"color\": \"hsl(41.6923076923, 97.8461538462%, 75.6153846154%)\", \"line\": {\"color\": \"black\", \"width\": 0.8}}, \"mode\": \"markers\", \"hoverinfo\": \"text\", \"y\": [6.889575e-05, 0.0011674884999999997, 0.0027900077499999998, 0.004752668749999999, 0.00680950275, 0.0012822475, 0.0035385290000000008, 0.00545004875, 0.009223586500000002, 0.00930333275], \"x\": [-0.0004978754999999999, 0.0005849452499999998, 0.003145548249999998, 0.006861127249999998, 0.013372943249999998, -0.00024129950000000003, 0.0007908807500000004, 0.0041427077499999986, 0.008160675499999999, 0.015671710250000002], \"type\": \"scatter\"}, {\"name\": \"mc.brf.dss.up.twosigma Data\", \"text\": \"(0.0035,0.0008)<br>mc.brf.dss.up.twosigma Data\", \"marker\": {\"color\": \"hsl(41.6923076923, 97.8461538462%, 75.6153846154%)\", \"symbol\": \"star\", \"line\": {\"color\": \"black\", \"width\": 0.8}, \"size\": 20}, \"mode\": \"markers\", \"hoverinfo\": \"text\", \"y\": [0.0007786], \"x\": [0.00351873], \"type\": \"scatter\"}, {\"name\": \"mc.brf.dstara.down\", \"text\": [\"(0.0010,0.0001)<br>True: (0.0000,0.0000)<br>mc.brf.dstara.down\", \"(0.0019,0.0015)<br>True: (0.0100,0.0000)<br>mc.brf.dstara.down\", \"(0.0062,0.0022)<br>True: (0.0200,0.0000)<br>mc.brf.dstara.down\", \"(0.0124,0.0032)<br>True: (0.0300,0.0000)<br>mc.brf.dstara.down\", \"(0.0194,0.0041)<br>True: (0.0400,0.0000)<br>mc.brf.dstara.down\", \"(0.0014,0.0015)<br>True: (0.0000,0.0050)<br>mc.brf.dstara.down\", \"(0.0041,0.0023)<br>True: (0.0100,0.0050)<br>mc.brf.dstara.down\", \"(0.0086,0.0042)<br>True: (0.0200,0.0050)<br>mc.brf.dstara.down\", \"(0.0148,0.0056)<br>True: (0.0300,0.0050)<br>mc.brf.dstara.down\", \"(0.0224,0.0073)<br>True: (0.0400,0.0050)<br>mc.brf.dstara.down\"], \"marker\": {\"color\": \"hsl(97.6666666667, 57.3333333333%, 75.6666666667%)\", \"line\": {\"color\": \"black\", \"width\": 0.8}}, \"mode\": \"markers\", \"hoverinfo\": \"text\", \"y\": [0.00012916574999999997, 0.0014740997500000005, 0.00220925725, 0.0031829050000000006, 0.0040657575, 0.0015400362499999997, 0.0023325177499999997, 0.004161378499999999, 0.005560963250000002, 0.007285269749999999], \"x\": [0.0009539687500000002, 0.00193889425, 0.006237468500000001, 0.012387587500000002, 0.019358572499999997, 0.0014234097500000005, 0.004052684500000001, 0.008569216499999997, 0.014835632499999998, 0.022373188750000002], \"type\": \"scatter\"}, {\"name\": \"mc.brf.dstara.down Data\", \"text\": \"(0.0046,0.0008)<br>mc.brf.dstara.down Data\", \"marker\": {\"color\": \"hsl(97.6666666667, 57.3333333333%, 75.6666666667%)\", \"symbol\": \"star\", \"line\": {\"color\": \"black\", \"width\": 0.8}, \"size\": 20}, \"mode\": \"markers\", \"hoverinfo\": \"text\", \"y\": [0.0007872], \"x\": [0.00455433], \"type\": \"scatter\"}, {\"name\": \"mc.brf.dstara.down.twosigma\", \"text\": [\"(0.0006,0.0007)<br>True: (0.0000,0.0000)<br>mc.brf.dstara.down.twosigma\", \"(0.0013,0.0016)<br>True: (0.0100,0.0000)<br>mc.brf.dstara.down.twosigma\", \"(0.0050,0.0031)<br>True: (0.0200,0.0000)<br>mc.brf.dstara.down.twosigma\", \"(0.0096,0.0044)<br>True: (0.0300,0.0000)<br>mc.brf.dstara.down.twosigma\", \"(0.0172,0.0056)<br>True: (0.0400,0.0000)<br>mc.brf.dstara.down.twosigma\", \"(0.0010,0.0014)<br>True: (0.0000,0.0050)<br>mc.brf.dstara.down.twosigma\", \"(0.0031,0.0031)<br>True: (0.0100,0.0050)<br>mc.brf.dstara.down.twosigma\", \"(0.0067,0.0053)<br>True: (0.0200,0.0050)<br>mc.brf.dstara.down.twosigma\", \"(0.0123,0.0075)<br>True: (0.0300,0.0050)<br>mc.brf.dstara.down.twosigma\", \"(0.0186,0.0093)<br>True: (0.0400,0.0050)<br>mc.brf.dstara.down.twosigma\"], \"marker\": {\"color\": \"hsl(86.641025641, 66.8205128205%, 76.1794871795%)\", \"line\": {\"color\": \"black\", \"width\": 0.8}}, \"mode\": \"markers\", \"hoverinfo\": \"text\", \"y\": [0.0006648407500000001, 0.0016018175000000006, 0.00309618925, 0.00440743925, 0.0056497892499999995, 0.0013812137499999997, 0.0031119187500000004, 0.00531370875, 0.007517627000000001, 0.009336090999999998], \"x\": [0.0006066902499999999, 0.0012748085000000003, 0.005022473249999999, 0.009562500249999998, 0.017230037, 0.0009656815000000003, 0.0031391617499999993, 0.00670481725, 0.01231905375, 0.018598836750000004], \"type\": \"scatter\"}, {\"name\": \"mc.brf.dstara.down.twosigma Data\", \"text\": \"(0.0032,0.0007)<br>mc.brf.dstara.down.twosigma Data\", \"marker\": {\"color\": \"hsl(86.641025641, 66.8205128205%, 76.1794871795%)\", \"symbol\": \"star\", \"line\": {\"color\": \"black\", \"width\": 0.8}, \"size\": 20}, \"mode\": \"markers\", \"hoverinfo\": \"text\", \"y\": [0.00066874], \"x\": [0.00320874], \"type\": \"scatter\"}, {\"name\": \"mc.brf.dstara.up\", \"text\": [\"(0.0006,0.0011)<br>True: (0.0000,0.0000)<br>mc.brf.dstara.up\", \"(0.0015,0.0026)<br>True: (0.0100,0.0000)<br>mc.brf.dstara.up\", \"(0.0047,0.0039)<br>True: (0.0200,0.0000)<br>mc.brf.dstara.up\", \"(0.0107,0.0057)<br>True: (0.0300,0.0000)<br>mc.brf.dstara.up\", \"(0.0182,0.0062)<br>True: (0.0400,0.0000)<br>mc.brf.dstara.up\", \"(0.0009,0.0015)<br>True: (0.0000,0.0050)<br>mc.brf.dstara.up\", \"(0.0038,0.0032)<br>True: (0.0100,0.0050)<br>mc.brf.dstara.up\", \"(0.0065,0.0065)<br>True: (0.0200,0.0050)<br>mc.brf.dstara.up\", \"(0.0127,0.0084)<br>True: (0.0300,0.0050)<br>mc.brf.dstara.up\", \"(0.0205,0.0089)<br>True: (0.0400,0.0050)<br>mc.brf.dstara.up\"], \"marker\": {\"color\": \"hsl(26.3076923077, 95.3846153846%, 66.5641025641%)\", \"line\": {\"color\": \"black\", \"width\": 0.8}}, \"mode\": \"markers\", \"hoverinfo\": \"text\", \"y\": [0.0010701774999999998, 0.002565334499999999, 0.003945362249999999, 0.005718432, 0.00615486875, 0.001530061, 0.0032263180000000015, 0.006472035500000001, 0.008378453499999999, 0.008944788750000002], \"x\": [0.0005903584999999999, 0.0014740432499999994, 0.004677454500000001, 0.01066312375, 0.018241135, 0.000889009, 0.003770049249999999, 0.006505091249999999, 0.0126876585, 0.020528139000000004], \"type\": \"scatter\"}, {\"name\": \"mc.brf.dstara.up Data\", \"text\": \"(0.0062,0.0012)<br>mc.brf.dstara.up Data\", \"marker\": {\"color\": \"hsl(26.3076923077, 95.3846153846%, 66.5641025641%)\", \"symbol\": \"star\", \"line\": {\"color\": \"black\", \"width\": 0.8}, \"size\": 20}, \"mode\": \"markers\", \"hoverinfo\": \"text\", \"y\": [0.00121103], \"x\": [0.00615502], \"type\": \"scatter\"}, {\"name\": \"mc.brf.dstara.up.twosigma\", \"text\": [\"(-0.0006,0.0013)<br>True: (0.0000,0.0000)<br>mc.brf.dstara.up.twosigma\", \"(0.0007,0.0021)<br>True: (0.0100,0.0000)<br>mc.brf.dstara.up.twosigma\", \"(0.0035,0.0035)<br>True: (0.0200,0.0000)<br>mc.brf.dstara.up.twosigma\", \"(0.0101,0.0044)<br>True: (0.0300,0.0000)<br>mc.brf.dstara.up.twosigma\", \"(0.0175,0.0049)<br>True: (0.0400,0.0000)<br>mc.brf.dstara.up.twosigma\", \"(-0.0010,0.0025)<br>True: (0.0000,0.0050)<br>mc.brf.dstara.up.twosigma\", \"(-0.0000,0.0045)<br>True: (0.0100,0.0050)<br>mc.brf.dstara.up.twosigma\", \"(0.0058,0.0057)<br>True: (0.0200,0.0050)<br>mc.brf.dstara.up.twosigma\", \"(0.0117,0.0075)<br>True: (0.0300,0.0050)<br>mc.brf.dstara.up.twosigma\", \"(0.0197,0.0083)<br>True: (0.0400,0.0050)<br>mc.brf.dstara.up.twosigma\"], \"marker\": {\"color\": \"hsl(145.923076923, 42.9230769231%, 63.2307692308%)\", \"line\": {\"color\": \"black\", \"width\": 0.8}}, \"mode\": \"markers\", \"hoverinfo\": \"text\", \"y\": [0.0012863935, 0.0020816942499999997, 0.00353142725, 0.0044001445, 0.004932387000000001, 0.0025046102500000007, 0.004501293500000001, 0.005704159000000001, 0.0075073514999999995, 0.008252961250000001], \"x\": [-0.0005906769999999998, 0.0007388529999999994, 0.003512321750000002, 0.01005464625, 0.0174682095, -0.0010207120000000004, -4.024424999999991e-05, 0.00577062125, 0.0117198165, 0.0196875495], \"type\": \"scatter\"}, {\"name\": \"mc.brf.dstara.up.twosigma Data\", \"text\": \"(0.0067,0.0009)<br>mc.brf.dstara.up.twosigma Data\", \"marker\": {\"color\": \"hsl(145.923076923, 42.9230769231%, 63.2307692308%)\", \"symbol\": \"star\", \"line\": {\"color\": \"black\", \"width\": 0.8}, \"size\": 20}, \"mode\": \"markers\", \"hoverinfo\": \"text\", \"y\": [0.00091242], \"x\": [0.00670481], \"type\": \"scatter\"}, {\"name\": \"mc.brf.rdss\", \"text\": [\"(0.0049,0.0005)<br>True: (0.0000,0.0000)<br>mc.brf.rdss\", \"(0.0076,0.0014)<br>True: (0.0100,0.0000)<br>mc.brf.rdss\", \"(0.0115,0.0022)<br>True: (0.0200,0.0000)<br>mc.brf.rdss\", \"(0.0170,0.0030)<br>True: (0.0300,0.0000)<br>mc.brf.rdss\", \"(0.0234,0.0048)<br>True: (0.0400,0.0000)<br>mc.brf.rdss\", \"(0.0058,0.0014)<br>True: (0.0000,0.0050)<br>mc.brf.rdss\", \"(0.0093,0.0025)<br>True: (0.0100,0.0050)<br>mc.brf.rdss\", \"(0.0134,0.0045)<br>True: (0.0200,0.0050)<br>mc.brf.rdss\", \"(0.0192,0.0054)<br>True: (0.0300,0.0050)<br>mc.brf.rdss\", \"(0.0252,0.0074)<br>True: (0.0400,0.0050)<br>mc.brf.rdss\"], \"marker\": {\"color\": \"hsl(167.564102564, 45.2820512821%, 55.5384615385%)\", \"line\": {\"color\": \"black\", \"width\": 0.8}}, \"mode\": \"markers\", \"hoverinfo\": \"text\", \"y\": [0.00049486975, 0.0013619042499999996, 0.0022300962500000003, 0.0029697737500000002, 0.004833065999999999, 0.0013919952499999995, 0.0024680895000000007, 0.0045269895, 0.005400285249999999, 0.007393755249999997], \"x\": [0.0049163265, 0.007624602750000001, 0.011493279000000002, 0.016969665249999998, 0.023412699999999998, 0.005775158000000001, 0.009255742, 0.013387943499999999, 0.019184062000000005, 0.0251846285], \"type\": \"scatter\"}, {\"name\": \"mc.brf.rdss Data\", \"text\": \"(0.0101,0.0008)<br>mc.brf.rdss Data\", \"marker\": {\"color\": \"hsl(167.564102564, 45.2820512821%, 55.5384615385%)\", \"symbol\": \"star\", \"line\": {\"color\": \"black\", \"width\": 0.8}, \"size\": 20}, \"mode\": \"markers\", \"hoverinfo\": \"text\", \"y\": [0.00084755], \"x\": [0.01011556], \"type\": \"scatter\"}, {\"name\": \"mc.brf.sl.p0.down\", \"text\": [\"(-0.0001,0.0002)<br>True: (0.0000,0.0000)<br>mc.brf.sl.p0.down\", \"(0.0013,0.0010)<br>True: (0.0100,0.0000)<br>mc.brf.sl.p0.down\", \"(0.0058,0.0015)<br>True: (0.0200,0.0000)<br>mc.brf.sl.p0.down\", \"(0.0110,0.0035)<br>True: (0.0300,0.0000)<br>mc.brf.sl.p0.down\", \"(0.0189,0.0045)<br>True: (0.0400,0.0000)<br>mc.brf.sl.p0.down\", \"(0.0010,0.0010)<br>True: (0.0000,0.0050)<br>mc.brf.sl.p0.down\", \"(0.0031,0.0024)<br>True: (0.0100,0.0050)<br>mc.brf.sl.p0.down\", \"(0.0070,0.0047)<br>True: (0.0200,0.0050)<br>mc.brf.sl.p0.down\", \"(0.0128,0.0063)<br>True: (0.0300,0.0050)<br>mc.brf.sl.p0.down\", \"(0.0197,0.0081)<br>True: (0.0400,0.0050)<br>mc.brf.sl.p0.down\"], \"marker\": {\"color\": \"hsl(34.0, 97.3333333333%, 71.0%)\", \"line\": {\"color\": \"black\", \"width\": 0.8}}, \"mode\": \"markers\", \"hoverinfo\": \"text\", \"y\": [0.00024246975000000005, 0.0009683582499999998, 0.0015204745, 0.0034716505000000003, 0.0045412395000000005, 0.0009869617500000002, 0.0023761395000000004, 0.004734606, 0.006271290749999998, 0.008117223500000001], \"x\": [-5.318899999999997e-05, 0.0013085904999999998, 0.00575531275, 0.010985117999999999, 0.018931779250000003, 0.0009998097500000002, 0.003115734500000001, 0.007013390500000001, 0.012810047999999997, 0.019688877499999997], \"type\": \"scatter\"}, {\"name\": \"mc.brf.sl.p0.down Data\", \"text\": \"(0.0039,0.0007)<br>mc.brf.sl.p0.down Data\", \"marker\": {\"color\": \"hsl(34.0, 97.3333333333%, 71.0%)\", \"symbol\": \"star\", \"line\": {\"color\": \"black\", \"width\": 0.8}, \"size\": 20}, \"mode\": \"markers\", \"hoverinfo\": \"text\", \"y\": [0.00067616], \"x\": [0.00385612], \"type\": \"scatter\"}, {\"name\": \"mc.brf.sl.p0.down.twosigma\", \"text\": [\"(-0.0005,0.0011)<br>True: (0.0000,0.0000)<br>mc.brf.sl.p0.down.twosigma\", \"(0.0008,0.0022)<br>True: (0.0100,0.0000)<br>mc.brf.sl.p0.down.twosigma\", \"(0.0050,0.0034)<br>True: (0.0200,0.0000)<br>mc.brf.sl.p0.down.twosigma\", \"(0.0116,0.0048)<br>True: (0.0300,0.0000)<br>mc.brf.sl.p0.down.twosigma\", \"(0.0188,0.0050)<br>True: (0.0400,0.0000)<br>mc.brf.sl.p0.down.twosigma\", \"(-0.0006,0.0026)<br>True: (0.0000,0.0050)<br>mc.brf.sl.p0.down.twosigma\", \"(0.0017,0.0040)<br>True: (0.0100,0.0050)<br>mc.brf.sl.p0.down.twosigma\", \"(0.0066,0.0060)<br>True: (0.0200,0.0050)<br>mc.brf.sl.p0.down.twosigma\", \"(0.0138,0.0072)<br>True: (0.0300,0.0050)<br>mc.brf.sl.p0.down.twosigma\", \"(0.0203,0.0085)<br>True: (0.0400,0.0050)<br>mc.brf.sl.p0.down.twosigma\"], \"marker\": {\"color\": \"hsl(183.974358974, 53.4871794872%, 49.3846153846%)\", \"line\": {\"color\": \"black\", \"width\": 0.8}}, \"mode\": \"markers\", \"hoverinfo\": \"text\", \"y\": [0.0011491130000000002, 0.00222396875, 0.0034131587500000012, 0.004828132749999999, 0.005034732, 0.00263139775, 0.0040041795, 0.006047888500000001, 0.0071776425, 0.0085013735], \"x\": [-0.0004738912499999997, 0.0008473727500000004, 0.005002861000000001, 0.011553917249999997, 0.018849031000000002, -0.0006158067499999999, 0.001667532250000001, 0.006583450500000001, 0.013768353, 0.020312406749999998], \"type\": \"scatter\"}, {\"name\": \"mc.brf.sl.p0.down.twosigma Data\", \"text\": \"(0.0049,0.0008)<br>mc.brf.sl.p0.down.twosigma Data\", \"marker\": {\"color\": \"hsl(183.974358974, 53.4871794872%, 49.3846153846%)\", \"symbol\": \"star\", \"line\": {\"color\": \"black\", \"width\": 0.8}, \"size\": 20}, \"mode\": \"markers\", \"hoverinfo\": \"text\", \"y\": [0.00076539], \"x\": [0.00490012], \"type\": \"scatter\"}, {\"name\": \"mc.brf.sl.p0.up\", \"text\": [\"(0.0001,0.0009)<br>True: (0.0000,0.0000)<br>mc.brf.sl.p0.up\", \"(0.0014,0.0016)<br>True: (0.0100,0.0000)<br>mc.brf.sl.p0.up\", \"(0.0038,0.0031)<br>True: (0.0200,0.0000)<br>mc.brf.sl.p0.up\", \"(0.0090,0.0049)<br>True: (0.0300,0.0000)<br>mc.brf.sl.p0.up\", \"(0.0176,0.0049)<br>True: (0.0400,0.0000)<br>mc.brf.sl.p0.up\", \"(-0.0004,0.0021)<br>True: (0.0000,0.0050)<br>mc.brf.sl.p0.up\", \"(0.0020,0.0030)<br>True: (0.0100,0.0050)<br>mc.brf.sl.p0.up\", \"(0.0063,0.0046)<br>True: (0.0200,0.0050)<br>mc.brf.sl.p0.up\", \"(0.0118,0.0072)<br>True: (0.0300,0.0050)<br>mc.brf.sl.p0.up\", \"(0.0187,0.0093)<br>True: (0.0400,0.0050)<br>mc.brf.sl.p0.up\"], \"marker\": {\"color\": \"hsl(205.0, 34.0%, 47.0%)\", \"line\": {\"color\": \"black\", \"width\": 0.8}}, \"mode\": \"markers\", \"hoverinfo\": \"text\", \"y\": [0.0009430659999999999, 0.0016061152499999998, 0.0031090005, 0.00487389625, 0.004937287, 0.0021444242499999997, 0.0030426295, 0.0046298797499999995, 0.007174956999999998, 0.009286147500000001], \"x\": [0.00010340025000000002, 0.0014128400000000003, 0.003820938999999999, 0.00898462275, 0.017577797, -0.00038512075, 0.0019919132499999995, 0.006299467499999999, 0.011787548750000001, 0.018710046999999997], \"type\": \"scatter\"}, {\"name\": \"mc.brf.sl.p0.up Data\", \"text\": \"(0.0044,0.0007)<br>mc.brf.sl.p0.up Data\", \"marker\": {\"color\": \"hsl(205.0, 34.0%, 47.0%)\", \"symbol\": \"star\", \"line\": {\"color\": \"black\", \"width\": 0.8}, \"size\": 20}, \"mode\": \"markers\", \"hoverinfo\": \"text\", \"y\": [0.00066221], \"x\": [0.0044154], \"type\": \"scatter\"}, {\"name\": \"mc.brf.sl.p0.up.twosigma\", \"text\": [\"(-0.0005,0.0008)<br>True: (0.0000,0.0000)<br>mc.brf.sl.p0.up.twosigma\", \"(0.0013,0.0016)<br>True: (0.0100,0.0000)<br>mc.brf.sl.p0.up.twosigma\", \"(0.0049,0.0031)<br>True: (0.0200,0.0000)<br>mc.brf.sl.p0.up.twosigma\", \"(0.0118,0.0039)<br>True: (0.0300,0.0000)<br>mc.brf.sl.p0.up.twosigma\", \"(0.0200,0.0046)<br>True: (0.0400,0.0000)<br>mc.brf.sl.p0.up.twosigma\", \"(0.0003,0.0019)<br>True: (0.0000,0.0050)<br>mc.brf.sl.p0.up.twosigma\", \"(0.0036,0.0034)<br>True: (0.0100,0.0050)<br>mc.brf.sl.p0.up.twosigma\", \"(0.0079,0.0050)<br>True: (0.0200,0.0050)<br>mc.brf.sl.p0.up.twosigma\", \"(0.0140,0.0070)<br>True: (0.0300,0.0050)<br>mc.brf.sl.p0.up.twosigma\", \"(0.0214,0.0078)<br>True: (0.0400,0.0050)<br>mc.brf.sl.p0.up.twosigma\"], \"marker\": {\"color\": \"hsl(198.846153846, 46.3076923077%, 46.4871794872%)\", \"line\": {\"color\": \"black\", \"width\": 0.8}}, \"mode\": \"markers\", \"hoverinfo\": \"text\", \"y\": [0.0008097749999999999, 0.0016308370000000002, 0.0031465732499999987, 0.0038738835, 0.00455169475, 0.0018723930000000004, 0.0033978182500000002, 0.005018314999999999, 0.007024069749999999, 0.007772959500000001], \"x\": [-0.00049968525, 0.0012686552500000003, 0.0049218000000000005, 0.011788988, 0.019962885, 0.00025484575, 0.0036188700000000015, 0.0079095735, 0.014011593750000002, 0.0214144145], \"type\": \"scatter\"}, {\"name\": \"mc.brf.sl.p0.up.twosigma Data\", \"text\": \"(0.0057,0.0009)<br>mc.brf.sl.p0.up.twosigma Data\", \"marker\": {\"color\": \"hsl(198.846153846, 46.3076923077%, 46.4871794872%)\", \"symbol\": \"star\", \"line\": {\"color\": \"black\", \"width\": 0.8}, \"size\": 20}, \"mode\": \"markers\", \"hoverinfo\": \"text\", \"y\": [0.0008871], \"x\": [0.00567584], \"type\": \"scatter\"}, {\"name\": \"mc.brf.sl.p1.down\", \"text\": [\"(-0.0007,0.0044)<br>True: (0.0000,0.0000)<br>mc.brf.sl.p1.down\", \"(-0.0007,0.0067)<br>True: (0.0100,0.0000)<br>mc.brf.sl.p1.down\", \"(0.0010,0.0089)<br>True: (0.0200,0.0000)<br>mc.brf.sl.p1.down\", \"(0.0052,0.0108)<br>True: (0.0300,0.0000)<br>mc.brf.sl.p1.down\", \"(0.0111,0.0127)<br>True: (0.0400,0.0000)<br>mc.brf.sl.p1.down\", \"(-0.0012,0.0064)<br>True: (0.0000,0.0050)<br>mc.brf.sl.p1.down\", \"(-0.0004,0.0089)<br>True: (0.0100,0.0050)<br>mc.brf.sl.p1.down\", \"(0.0026,0.0116)<br>True: (0.0200,0.0050)<br>mc.brf.sl.p1.down\", \"(0.0073,0.0133)<br>True: (0.0300,0.0050)<br>mc.brf.sl.p1.down\", \"(0.0137,0.0155)<br>True: (0.0400,0.0050)<br>mc.brf.sl.p1.down\"], \"marker\": {\"color\": \"hsl(257.384615385, 70.7692307692%, 54.9743589744%)\", \"line\": {\"color\": \"black\", \"width\": 0.8}}, \"mode\": \"markers\", \"hoverinfo\": \"text\", \"y\": [0.004379091, 0.006736516499999999, 0.008927974499999998, 0.010802395499999997, 0.012741809500000001, 0.0064245167499999995, 0.008858335249999998, 0.011557909000000002, 0.013258797250000006, 0.015477646249999998], \"x\": [-0.00072225675, -0.0007422582500000007, 0.0010320477500000008, 0.0051657994999999984, 0.01105277525, -0.00117658925, -0.0003523515000000005, 0.002640907750000001, 0.00729205275, 0.013698732499999998], \"type\": \"scatter\"}, {\"name\": \"mc.brf.sl.p1.down Data\", \"text\": \"(0.0028,0.0050)<br>mc.brf.sl.p1.down Data\", \"marker\": {\"color\": \"hsl(257.384615385, 70.7692307692%, 54.9743589744%)\", \"symbol\": \"star\", \"line\": {\"color\": \"black\", \"width\": 0.8}, \"size\": 20}, \"mode\": \"markers\", \"hoverinfo\": \"text\", \"y\": [0.00498911], \"x\": [0.00278224], \"type\": \"scatter\"}, {\"name\": \"mc.brf.sl.p1.down.twosigma\", \"text\": [\"(-0.0009,0.0013)<br>True: (0.0000,0.0000)<br>mc.brf.sl.p1.down.twosigma\", \"(0.0003,0.0025)<br>True: (0.0100,0.0000)<br>mc.brf.sl.p1.down.twosigma\", \"(0.0030,0.0044)<br>True: (0.0200,0.0000)<br>mc.brf.sl.p1.down.twosigma\", \"(0.0088,0.0059)<br>True: (0.0300,0.0000)<br>mc.brf.sl.p1.down.twosigma\", \"(0.0164,0.0066)<br>True: (0.0400,0.0000)<br>mc.brf.sl.p1.down.twosigma\", \"(-0.0015,0.0030)<br>True: (0.0000,0.0050)<br>mc.brf.sl.p1.down.twosigma\", \"(0.0014,0.0042)<br>True: (0.0100,0.0050)<br>mc.brf.sl.p1.down.twosigma\", \"(0.0053,0.0069)<br>True: (0.0200,0.0050)<br>mc.brf.sl.p1.down.twosigma\", \"(0.0110,0.0083)<br>True: (0.0300,0.0050)<br>mc.brf.sl.p1.down.twosigma\", \"(0.0193,0.0094)<br>True: (0.0400,0.0050)<br>mc.brf.sl.p1.down.twosigma\"], \"marker\": {\"color\": \"hsl(339.615384615, 89.2820512821%, 36.641025641%)\", \"line\": {\"color\": \"black\", \"width\": 0.8}}, \"mode\": \"markers\", \"hoverinfo\": \"text\", \"y\": [0.00132910025, 0.0025059500000000007, 0.00443603825, 0.00588800075, 0.006642708250000001, 0.00304188525, 0.00421854225, 0.006916770250000001, 0.008346012499999998, 0.0094174085], \"x\": [-0.0009101865000000003, 0.0002549619999999992, 0.0029737175000000005, 0.00883617825, 0.016422170750000003, -0.0014933897500000002, 0.0013603932499999995, 0.005306731249999998, 0.010993753250000002, 0.01926881675], \"type\": \"scatter\"}, {\"name\": \"mc.brf.sl.p1.down.twosigma Data\", \"text\": \"(0.0050,0.0011)<br>mc.brf.sl.p1.down.twosigma Data\", \"marker\": {\"color\": \"hsl(339.615384615, 89.2820512821%, 36.641025641%)\", \"symbol\": \"star\", \"line\": {\"color\": \"black\", \"width\": 0.8}, \"size\": 20}, \"mode\": \"markers\", \"hoverinfo\": \"text\", \"y\": [0.00105989], \"x\": [0.00501981], \"type\": \"scatter\"}, {\"name\": \"mc.brf.sl.p1.up\", \"text\": [\"(0.0061,-0.0006)<br>True: (0.0000,0.0000)<br>mc.brf.sl.p1.up\", \"(0.0089,-0.0004)<br>True: (0.0100,0.0000)<br>mc.brf.sl.p1.up\", \"(0.0134,0.0000)<br>True: (0.0200,0.0000)<br>mc.brf.sl.p1.up\", \"(0.0179,0.0012)<br>True: (0.0300,0.0000)<br>mc.brf.sl.p1.up\", \"(0.0251,0.0021)<br>True: (0.0400,0.0000)<br>mc.brf.sl.p1.up\", \"(0.0071,0.0003)<br>True: (0.0000,0.0050)<br>mc.brf.sl.p1.up\", \"(0.0108,0.0006)<br>True: (0.0100,0.0050)<br>mc.brf.sl.p1.up\", \"(0.0161,0.0010)<br>True: (0.0200,0.0050)<br>mc.brf.sl.p1.up\", \"(0.0209,0.0027)<br>True: (0.0300,0.0050)<br>mc.brf.sl.p1.up\", \"(0.0279,0.0038)<br>True: (0.0400,0.0050)<br>mc.brf.sl.p1.up\"], \"marker\": {\"color\": \"hsl(158.487179487, 42.1538461538%, 58.8717948718%)\", \"line\": {\"color\": \"black\", \"width\": 0.8}}, \"mode\": \"markers\", \"hoverinfo\": \"text\", \"y\": [-0.0005562766666666666, -0.00043855475, 3.462174999999997e-05, 0.0012241309999999996, 0.00210949825, 0.00032780124999999983, 0.0005825830000000002, 0.00097251525, 0.0026595167500000003, 0.0038390799999999995], \"x\": [0.0060864346153846165, 0.008904526749999999, 0.013408712999999994, 0.017928336250000003, 0.02510015525, 0.00714454375, 0.010829658249999999, 0.016095419499999996, 0.020890849749999996, 0.027862914749999995], \"type\": \"scatter\"}, {\"name\": \"mc.brf.sl.p1.up Data\", \"text\": \"(0.0109,0.0005)<br>mc.brf.sl.p1.up Data\", \"marker\": {\"color\": \"hsl(158.487179487, 42.1538461538%, 58.8717948718%)\", \"symbol\": \"star\", \"line\": {\"color\": \"black\", \"width\": 0.8}, \"size\": 20}, \"mode\": \"markers\", \"hoverinfo\": \"text\", \"y\": [0.00050138], \"x\": [0.01093976], \"type\": \"scatter\"}, {\"name\": \"mc.brf.sl.p1.up.twosigma\", \"text\": [\"(0.0001,-0.0000)<br>True: (0.0000,0.0000)<br>mc.brf.sl.p1.up.twosigma\", \"(0.0017,0.0020)<br>True: (0.0100,0.0000)<br>mc.brf.sl.p1.up.twosigma\", \"(0.0057,0.0028)<br>True: (0.0200,0.0000)<br>mc.brf.sl.p1.up.twosigma\", \"(0.0130,0.0040)<br>True: (0.0300,0.0000)<br>mc.brf.sl.p1.up.twosigma\", \"(0.0205,0.0044)<br>True: (0.0400,0.0000)<br>mc.brf.sl.p1.up.twosigma\", \"(-0.0000,0.0024)<br>True: (0.0000,0.0050)<br>mc.brf.sl.p1.up.twosigma\", \"(0.0030,0.0040)<br>True: (0.0100,0.0050)<br>mc.brf.sl.p1.up.twosigma\", \"(0.0073,0.0059)<br>True: (0.0200,0.0050)<br>mc.brf.sl.p1.up.twosigma\", \"(0.0134,0.0074)<br>True: (0.0300,0.0050)<br>mc.brf.sl.p1.up.twosigma\", \"(0.0227,0.0076)<br>True: (0.0400,0.0050)<br>mc.brf.sl.p1.up.twosigma\"], \"marker\": {\"color\": \"hsl(344.230769231, 80.5641025641%, 42.2820512821%)\", \"line\": {\"color\": \"black\", \"width\": 0.8}}, \"mode\": \"markers\", \"hoverinfo\": \"text\", \"y\": [-3.275024999999999e-05, 0.002048146250000001, 0.0028083645, 0.00403189775, 0.00440605575, 0.0023645869999999996, 0.0039727027499999994, 0.00594206425, 0.007387914999999999, 0.007564692499999999], \"x\": [0.00011068899999999989, 0.0017383320000000004, 0.00574304575, 0.012952332500000004, 0.020543190500000003, -2.8789250000000016e-05, 0.003035347, 0.00734130975, 0.013406237249999998, 0.022704008250000005], \"type\": \"scatter\"}, {\"name\": \"mc.brf.sl.p1.up.twosigma Data\", \"text\": \"(0.0061,0.0007)<br>mc.brf.sl.p1.up.twosigma Data\", \"marker\": {\"color\": \"hsl(344.230769231, 80.5641025641%, 42.2820512821%)\", \"symbol\": \"star\", \"line\": {\"color\": \"black\", \"width\": 0.8}, \"size\": 20}, \"mode\": \"markers\", \"hoverinfo\": \"text\", \"y\": [0.00065665], \"x\": [0.00606192], \"type\": \"scatter\"}, {\"name\": \"mc.brf.strange.down\", \"text\": [\"(0.0000,0.0011)<br>True: (0.0000,0.0000)<br>mc.brf.strange.down\", \"(0.0018,0.0022)<br>True: (0.0100,0.0000)<br>mc.brf.strange.down\", \"(0.0062,0.0034)<br>True: (0.0200,0.0000)<br>mc.brf.strange.down\", \"(0.0121,0.0042)<br>True: (0.0300,0.0000)<br>mc.brf.strange.down\", \"(0.0193,0.0056)<br>True: (0.0400,0.0000)<br>mc.brf.strange.down\", \"(0.0010,0.0022)<br>True: (0.0000,0.0050)<br>mc.brf.strange.down\", \"(0.0029,0.0043)<br>True: (0.0100,0.0050)<br>mc.brf.strange.down\", \"(0.0081,0.0059)<br>True: (0.0200,0.0050)<br>mc.brf.strange.down\", \"(0.0138,0.0073)<br>True: (0.0300,0.0050)<br>mc.brf.strange.down\", \"(0.0220,0.0082)<br>True: (0.0400,0.0050)<br>mc.brf.strange.down\"], \"marker\": {\"color\": \"hsl(65.7692307692, 88.4615384615%, 80.5897435897%)\", \"line\": {\"color\": \"black\", \"width\": 0.8}}, \"mode\": \"markers\", \"hoverinfo\": \"text\", \"y\": [0.0011435239999999997, 0.0021890740000000005, 0.0033978597500000005, 0.0041641647499999985, 0.005613024750000001, 0.0021584160000000007, 0.004315099, 0.0058635300000000005, 0.007288618249999999, 0.008158775000000002], \"x\": [6.6609999999999825e-06, 0.00183585675, 0.0062364477500000005, 0.012131335, 0.019328775000000003, 0.0010406890000000002, 0.00292980625, 0.008093749249999999, 0.013796978500000008, 0.022008754499999998], \"type\": \"scatter\"}, {\"name\": \"mc.brf.strange.down Data\", \"text\": \"(0.0057,0.0008)<br>mc.brf.strange.down Data\", \"marker\": {\"color\": \"hsl(65.7692307692, 88.4615384615%, 80.5897435897%)\", \"symbol\": \"star\", \"line\": {\"color\": \"black\", \"width\": 0.8}, \"size\": 20}, \"mode\": \"markers\", \"hoverinfo\": \"text\", \"y\": [0.0008341], \"x\": [0.0056667], \"type\": \"scatter\"}, {\"name\": \"mc.brf.strange.down.twosigma\", \"text\": [\"(0.0003,0.0002)<br>True: (0.0000,0.0000)<br>mc.brf.strange.down.twosigma\", \"(0.0010,0.0018)<br>True: (0.0100,0.0000)<br>mc.brf.strange.down.twosigma\", \"(0.0029,0.0034)<br>True: (0.0200,0.0000)<br>mc.brf.strange.down.twosigma\", \"(0.0085,0.0053)<br>True: (0.0300,0.0000)<br>mc.brf.strange.down.twosigma\", \"(0.0156,0.0062)<br>True: (0.0400,0.0000)<br>mc.brf.strange.down.twosigma\", \"(-0.0001,0.0017)<br>True: (0.0000,0.0050)<br>mc.brf.strange.down.twosigma\", \"(0.0021,0.0033)<br>True: (0.0100,0.0050)<br>mc.brf.strange.down.twosigma\", \"(0.0048,0.0061)<br>True: (0.0200,0.0050)<br>mc.brf.strange.down.twosigma\", \"(0.0107,0.0081)<br>True: (0.0300,0.0050)<br>mc.brf.strange.down.twosigma\", \"(0.0178,0.0095)<br>True: (0.0400,0.0050)<br>mc.brf.strange.down.twosigma\"], \"marker\": {\"color\": \"hsl(49.7435897436, 98.7179487179%, 80.5897435897%)\", \"line\": {\"color\": \"black\", \"width\": 0.8}}, \"mode\": \"markers\", \"hoverinfo\": \"text\", \"y\": [0.0002024939999999999, 0.0017525607499999998, 0.0033717634999999996, 0.005295964249999999, 0.006182934249999998, 0.0017290597500000003, 0.0032858964999999997, 0.006113575749999999, 0.008071982000000002, 0.009533008499999999], \"x\": [0.00033723524999999994, 0.0010169459999999995, 0.002886424250000002, 0.008471463500000002, 0.015577462, -8.160874999999997e-05, 0.00213824925, 0.00475162875, 0.010698967250000004, 0.017834837749999992], \"type\": \"scatter\"}, {\"name\": \"mc.brf.strange.down.twosigma Data\", \"text\": \"(0.0033,0.0008)<br>mc.brf.strange.down.twosigma Data\", \"marker\": {\"color\": \"hsl(49.7435897436, 98.7179487179%, 80.5897435897%)\", \"symbol\": \"star\", \"line\": {\"color\": \"black\", \"width\": 0.8}, \"size\": 20}, \"mode\": \"markers\", \"hoverinfo\": \"text\", \"y\": [0.00081584], \"x\": [0.00326381], \"type\": \"scatter\"}, {\"name\": \"mc.brf.strange.up\", \"text\": [\"(0.0006,0.0019)<br>True: (0.0000,0.0000)<br>mc.brf.strange.up\", \"(0.0016,0.0031)<br>True: (0.0100,0.0000)<br>mc.brf.strange.up\", \"(0.0032,0.0054)<br>True: (0.0200,0.0000)<br>mc.brf.strange.up\", \"(0.0071,0.0071)<br>True: (0.0300,0.0000)<br>mc.brf.strange.up\", \"(0.0139,0.0082)<br>True: (0.0400,0.0000)<br>mc.brf.strange.up\", \"(0.0006,0.0029)<br>True: (0.0000,0.0050)<br>mc.brf.strange.up\", \"(0.0008,0.0056)<br>True: (0.0100,0.0050)<br>mc.brf.strange.up\", \"(0.0036,0.0083)<br>True: (0.0200,0.0050)<br>mc.brf.strange.up\", \"(0.0086,0.0105)<br>True: (0.0300,0.0050)<br>mc.brf.strange.up\", \"(0.0153,0.0122)<br>True: (0.0400,0.0050)<br>mc.brf.strange.up\"], \"marker\": {\"color\": \"hsl(37.8461538462, 97.5897435897%, 73.3076923077%)\", \"line\": {\"color\": \"black\", \"width\": 0.8}}, \"mode\": \"markers\", \"hoverinfo\": \"text\", \"y\": [0.0019115247500000002, 0.0030829509999999996, 0.005422831249999999, 0.007104487, 0.008160582250000003, 0.0029144837500000003, 0.0055593844999999985, 0.00833563825, 0.010479846749999999, 0.012162445999999999], \"x\": [0.00058839275, 0.0015559467500000004, 0.003180530000000001, 0.00709264075, 0.013883198750000002, 0.0006059662499999999, 0.0008051512500000003, 0.003641349500000002, 0.008610383000000003, 0.015349492250000003], \"type\": \"scatter\"}, {\"name\": \"mc.brf.strange.up Data\", \"text\": \"(0.0061,0.0020)<br>mc.brf.strange.up Data\", \"marker\": {\"color\": \"hsl(37.8461538462, 97.5897435897%, 73.3076923077%)\", \"symbol\": \"star\", \"line\": {\"color\": \"black\", \"width\": 0.8}, \"size\": 20}, \"mode\": \"markers\", \"hoverinfo\": \"text\", \"y\": [0.00197759], \"x\": [0.0061267], \"type\": \"scatter\"}, {\"name\": \"mc.brf.strange.up.twosigma\", \"text\": [\"(0.0007,0.0022)<br>True: (0.0000,0.0000)<br>mc.brf.strange.up.twosigma\", \"(0.0020,0.0034)<br>True: (0.0100,0.0000)<br>mc.brf.strange.up.twosigma\", \"(0.0055,0.0051)<br>True: (0.0200,0.0000)<br>mc.brf.strange.up.twosigma\", \"(0.0125,0.0058)<br>True: (0.0300,0.0000)<br>mc.brf.strange.up.twosigma\", \"(0.0198,0.0063)<br>True: (0.0400,0.0000)<br>mc.brf.strange.up.twosigma\", \"(-0.0001,0.0040)<br>True: (0.0000,0.0050)<br>mc.brf.strange.up.twosigma\", \"(0.0028,0.0056)<br>True: (0.0100,0.0050)<br>mc.brf.strange.up.twosigma\", \"(0.0079,0.0073)<br>True: (0.0200,0.0050)<br>mc.brf.strange.up.twosigma\", \"(0.0144,0.0088)<br>True: (0.0300,0.0050)<br>mc.brf.strange.up.twosigma\", \"(0.0217,0.0094)<br>True: (0.0400,0.0050)<br>mc.brf.strange.up.twosigma\"], \"marker\": {\"color\": \"hsl(83.5384615385, 83.0769230769%, 58.5641025641%)\", \"line\": {\"color\": \"black\", \"width\": 0.8}}, \"mode\": \"markers\", \"hoverinfo\": \"text\", \"y\": [0.00218731775, 0.00336252275, 0.005093703250000001, 0.005849028500000001, 0.00627016225, 0.0040388907499999994, 0.005584392249999999, 0.007274227250000001, 0.008832705750000001, 0.00944094125], \"x\": [0.00070671, 0.0020460722499999993, 0.00550790575, 0.012484593499999998, 0.019770938999999998, -0.00010671450000000003, 0.002818515999999999, 0.007903696500000001, 0.014367671750000002, 0.02166438975], \"type\": \"scatter\"}, {\"name\": \"mc.brf.strange.up.twosigma Data\", \"text\": \"(0.0078,0.0011)<br>mc.brf.strange.up.twosigma Data\", \"marker\": {\"color\": \"hsl(83.5384615385, 83.0769230769%, 58.5641025641%)\", \"symbol\": \"star\", \"line\": {\"color\": \"black\", \"width\": 0.8}, \"size\": 20}, \"mode\": \"markers\", \"hoverinfo\": \"text\", \"y\": [0.00109663], \"x\": [0.00775344], \"type\": \"scatter\"}, {\"name\": \"mc.crosscheck\", \"text\": [\"(-0.0007,0.0013)<br>True: (0.0000,0.0000)<br>mc.crosscheck\", \"(0.0011,0.0021)<br>True: (0.0100,0.0000)<br>mc.crosscheck\", \"(0.0039,0.0029)<br>True: (0.0200,0.0000)<br>mc.crosscheck\", \"(0.0113,0.0037)<br>True: (0.0300,0.0000)<br>mc.crosscheck\", \"(0.0189,0.0043)<br>True: (0.0400,0.0000)<br>mc.crosscheck\", \"(-0.0001,0.0020)<br>True: (0.0000,0.0050)<br>mc.crosscheck\", \"(0.0020,0.0033)<br>True: (0.0100,0.0050)<br>mc.crosscheck\", \"(0.0069,0.0048)<br>True: (0.0200,0.0050)<br>mc.crosscheck\", \"(0.0143,0.0057)<br>True: (0.0300,0.0050)<br>mc.crosscheck\", \"(0.0224,0.0065)<br>True: (0.0400,0.0050)<br>mc.crosscheck\"], \"marker\": {\"color\": \"hsl(30.1538461538, 97.0769230769%, 68.6923076923%)\", \"line\": {\"color\": \"black\", \"width\": 0.8}}, \"mode\": \"markers\", \"hoverinfo\": \"text\", \"y\": [0.0013241684999999999, 0.00213146475, 0.0028504255000000004, 0.0036631122500000004, 0.004342099999999999, 0.002017113, 0.0032571085000000005, 0.00483900325, 0.005692096750000002, 0.00648687075], \"x\": [-0.0006989032499999999, 0.001093852000000001, 0.003907770250000001, 0.011295434, 0.01886941275, -7.715049999999996e-05, 0.0019704625000000007, 0.006861365000000001, 0.01425908575, 0.022371203500000006], \"type\": \"scatter\"}, {\"name\": \"mc.crosscheck Data\", \"text\": \"(0.0042,0.0008)<br>mc.crosscheck Data\", \"marker\": {\"color\": \"hsl(30.1538461538, 97.0769230769%, 68.6923076923%)\", \"symbol\": \"star\", \"line\": {\"color\": \"black\", \"width\": 0.8}, \"size\": 20}, \"mode\": \"markers\", \"hoverinfo\": \"text\", \"y\": [0.00084034], \"x\": [0.00417864], \"type\": \"scatter\"}, {\"name\": \"mc.dssdpipi\", \"text\": [\"(0.0010,0.0005)<br>True: (0.0000,0.0000)<br>mc.dssdpipi\", \"(0.0024,0.0013)<br>True: (0.0100,0.0000)<br>mc.dssdpipi\", \"(0.0051,0.0029)<br>True: (0.0200,0.0000)<br>mc.dssdpipi\", \"(0.0112,0.0041)<br>True: (0.0300,0.0000)<br>mc.dssdpipi\", \"(0.0171,0.0062)<br>True: (0.0400,0.0000)<br>mc.dssdpipi\", \"(0.0013,0.0012)<br>True: (0.0000,0.0050)<br>mc.dssdpipi\", \"(0.0028,0.0037)<br>True: (0.0100,0.0050)<br>mc.dssdpipi\", \"(0.0071,0.0057)<br>True: (0.0200,0.0050)<br>mc.dssdpipi\", \"(0.0125,0.0079)<br>True: (0.0300,0.0050)<br>mc.dssdpipi\", \"(0.0184,0.0093)<br>True: (0.0400,0.0050)<br>mc.dssdpipi\"], \"marker\": {\"color\": \"hsl(61.1538461538, 97.6923076923%, 85.7179487179%)\", \"line\": {\"color\": \"black\", \"width\": 0.8}}, \"mode\": \"markers\", \"hoverinfo\": \"text\", \"y\": [0.0005002892500000001, 0.0013172175, 0.002918201, 0.004050650000000001, 0.006168491249999999, 0.0012470839999999999, 0.0036813155000000007, 0.00572296575, 0.007928466249999998, 0.009281799999999998], \"x\": [0.0010356465, 0.0024159232500000002, 0.005066323000000001, 0.011176247500000003, 0.0171108445, 0.0013329307500000002, 0.0028168505, 0.0071391079999999964, 0.012495964999999998, 0.01841945425], \"type\": \"scatter\"}, {\"name\": \"mc.dssdpipi Data\", \"text\": \"(0.0047,0.0009)<br>mc.dssdpipi Data\", \"marker\": {\"color\": \"hsl(61.1538461538, 97.6923076923%, 85.7179487179%)\", \"symbol\": \"star\", \"line\": {\"color\": \"black\", \"width\": 0.8}, \"size\": 20}, \"mode\": \"markers\", \"hoverinfo\": \"text\", \"y\": [0.00090092], \"x\": [0.00473568], \"type\": \"scatter\"}, {\"name\": \"mc.ff.llswb2\", \"text\": [\"(0.0011,0.0051)<br>True: (0.0000,0.0000)<br>mc.ff.llswb2\", \"(0.0032,0.0056)<br>True: (0.0100,0.0000)<br>mc.ff.llswb2\", \"(0.0070,0.0069)<br>True: (0.0200,0.0000)<br>mc.ff.llswb2\", \"(0.0132,0.0070)<br>True: (0.0300,0.0000)<br>mc.ff.llswb2\", \"(0.0215,0.0073)<br>True: (0.0400,0.0000)<br>mc.ff.llswb2\", \"(0.0010,0.0056)<br>True: (0.0000,0.0050)<br>mc.ff.llswb2\", \"(0.0040,0.0069)<br>True: (0.0100,0.0050)<br>mc.ff.llswb2\", \"(0.0093,0.0076)<br>True: (0.0200,0.0050)<br>mc.ff.llswb2\", \"(0.0163,0.0083)<br>True: (0.0300,0.0050)<br>mc.ff.llswb2\", \"(0.0229,0.0095)<br>True: (0.0400,0.0050)<br>mc.ff.llswb2\"], \"marker\": {\"color\": \"hsl(195.769230769, 52.4615384615%, 46.2307692308%)\", \"line\": {\"color\": \"black\", \"width\": 0.8}}, \"mode\": \"markers\", \"hoverinfo\": \"text\", \"y\": [0.005077441750000001, 0.0056135594999999995, 0.00689882825, 0.007008336250000001, 0.007288570249999998, 0.005614783, 0.00691586025, 0.007564548500000001, 0.00834509425, 0.009478661500000003], \"x\": [0.0010609547500000003, 0.0032464195, 0.006963737249999999, 0.013246631999999998, 0.021487207749999997, 0.0010342814999999997, 0.004009938000000001, 0.00926319725, 0.016324632, 0.02285418175], \"type\": \"scatter\"}, {\"name\": \"mc.ff.llswb2 Data\", \"text\": \"(0.0106,0.0013)<br>mc.ff.llswb2 Data\", \"marker\": {\"color\": \"hsl(195.769230769, 52.4615384615%, 46.2307692308%)\", \"symbol\": \"star\", \"line\": {\"color\": \"black\", \"width\": 0.8}, \"size\": 20}, \"mode\": \"markers\", \"hoverinfo\": \"text\", \"y\": [0.00126754], \"x\": [0.01057984], \"type\": \"scatter\"}, {\"name\": \"mc.ff.p0.down\", \"text\": [\"(0.0002,0.0009)<br>True: (0.0000,0.0000)<br>mc.ff.p0.down\", \"(0.0013,0.0018)<br>True: (0.0100,0.0000)<br>mc.ff.p0.down\", \"(0.0047,0.0030)<br>True: (0.0200,0.0000)<br>mc.ff.p0.down\", \"(0.0103,0.0042)<br>True: (0.0300,0.0000)<br>mc.ff.p0.down\", \"(0.0174,0.0055)<br>True: (0.0400,0.0000)<br>mc.ff.p0.down\", \"(0.0010,0.0012)<br>True: (0.0000,0.0050)<br>mc.ff.p0.down\", \"(0.0029,0.0023)<br>True: (0.0100,0.0050)<br>mc.ff.p0.down\", \"(0.0068,0.0047)<br>True: (0.0200,0.0050)<br>mc.ff.p0.down\", \"(0.0129,0.0069)<br>True: (0.0300,0.0050)<br>mc.ff.p0.down\", \"(0.0199,0.0079)<br>True: (0.0400,0.0050)<br>mc.ff.p0.down\"], \"marker\": {\"color\": \"hsl(170.461538462, 76.9230769231%, 56.7692307692%)\", \"line\": {\"color\": \"black\", \"width\": 0.8}}, \"mode\": \"markers\", \"hoverinfo\": \"text\", \"y\": [0.00087120925, 0.0018135377499999994, 0.00302950375, 0.004160212750000001, 0.00553117275, 0.0012050464999999997, 0.0023250937500000008, 0.004745613000000001, 0.006877571499999999, 0.007947203750000003], \"x\": [0.00023073625, 0.0013342682499999994, 0.0047190489999999995, 0.010343310249999998, 0.017445849999999995, 0.0009694020000000001, 0.00288340575, 0.006810686999999999, 0.012937604500000002, 0.019924865499999993], \"type\": \"scatter\"}, {\"name\": \"mc.ff.p0.down Data\", \"text\": \"(0.0027,0.0008)<br>mc.ff.p0.down Data\", \"marker\": {\"color\": \"hsl(170.461538462, 76.9230769231%, 56.7692307692%)\", \"symbol\": \"star\", \"line\": {\"color\": \"black\", \"width\": 0.8}, \"size\": 20}, \"mode\": \"markers\", \"hoverinfo\": \"text\", \"y\": [0.00078978], \"x\": [0.00266511], \"type\": \"scatter\"}, {\"name\": \"mc.ff.p0.up\", \"text\": [\"(-0.0002,0.0029)<br>True: (0.0000,0.0000)<br>mc.ff.p0.up\", \"(0.0001,0.0044)<br>True: (0.0100,0.0000)<br>mc.ff.p0.up\", \"(0.0013,0.0068)<br>True: (0.0200,0.0000)<br>mc.ff.p0.up\", \"(0.0052,0.0088)<br>True: (0.0300,0.0000)<br>mc.ff.p0.up\", \"(0.0103,0.0107)<br>True: (0.0400,0.0000)<br>mc.ff.p0.up\", \"(-0.0008,0.0045)<br>True: (0.0000,0.0050)<br>mc.ff.p0.up\", \"(0.0004,0.0070)<br>True: (0.0100,0.0050)<br>mc.ff.p0.up\", \"(0.0028,0.0094)<br>True: (0.0200,0.0050)<br>mc.ff.p0.up\", \"(0.0061,0.0121)<br>True: (0.0300,0.0050)<br>mc.ff.p0.up\", \"(0.0128,0.0131)<br>True: (0.0400,0.0050)<br>mc.ff.p0.up\"], \"marker\": {\"color\": \"hsl(68.0769230769, 83.8461538462%, 78.0256410256%)\", \"line\": {\"color\": \"black\", \"width\": 0.8}}, \"mode\": \"markers\", \"hoverinfo\": \"text\", \"y\": [0.002922210249999999, 0.0043702557500000004, 0.006835503499999998, 0.008779005500000001, 0.010743959749999999, 0.0044890225, 0.00697862525, 0.009447228, 0.01205295475, 0.013124002], \"x\": [-0.00021489025000000006, 8.758099999999977e-05, 0.0013230772499999988, 0.005155429250000003, 0.010336383249999997, -0.0007847432500000002, 0.0004258447499999995, 0.0027987470000000007, 0.006069078749999998, 0.0128288345], \"type\": \"scatter\"}, {\"name\": \"mc.ff.p0.up Data\", \"text\": \"(0.0036,0.0030)<br>mc.ff.p0.up Data\", \"marker\": {\"color\": \"hsl(68.0769230769, 83.8461538462%, 78.0256410256%)\", \"symbol\": \"star\", \"line\": {\"color\": \"black\", \"width\": 0.8}, \"size\": 20}, \"mode\": \"markers\", \"hoverinfo\": \"text\", \"y\": [0.00301348], \"x\": [0.00359724], \"type\": \"scatter\"}, {\"name\": \"mc.ff.p1.down\", \"text\": [\"(0.0001,0.0008)<br>True: (0.0000,0.0000)<br>mc.ff.p1.down\", \"(0.0017,0.0016)<br>True: (0.0100,0.0000)<br>mc.ff.p1.down\", \"(0.0034,0.0037)<br>True: (0.0200,0.0000)<br>mc.ff.p1.down\", \"(0.0070,0.0065)<br>True: (0.0300,0.0000)<br>mc.ff.p1.down\", \"(0.0135,0.0086)<br>True: (0.0400,0.0000)<br>mc.ff.p1.down\", \"(0.0007,0.0018)<br>True: (0.0000,0.0050)<br>mc.ff.p1.down\", \"(0.0017,0.0040)<br>True: (0.0100,0.0050)<br>mc.ff.p1.down\", \"(0.0044,0.0066)<br>True: (0.0200,0.0050)<br>mc.ff.p1.down\", \"(0.0085,0.0097)<br>True: (0.0300,0.0050)<br>mc.ff.p1.down\", \"(0.0146,0.0121)<br>True: (0.0400,0.0050)<br>mc.ff.p1.down\"], \"marker\": {\"color\": \"hsl(192.179487179, 57.5897435897%, 46.3076923077%)\", \"line\": {\"color\": \"black\", \"width\": 0.8}}, \"mode\": \"markers\", \"hoverinfo\": \"text\", \"y\": [0.0008353544999999999, 0.0015737325000000004, 0.003716169999999999, 0.006538589750000001, 0.008589521999999997, 0.0018282077500000001, 0.004046365249999999, 0.006564871500000001, 0.00973598225, 0.012085174749999998], \"x\": [7.577850000000004e-05, 0.0016687077499999998, 0.003401758250000001, 0.00697157, 0.013537783250000004, 0.0006565995, 0.0017202850000000002, 0.00442296025, 0.008534595750000002, 0.014583500999999995], \"type\": \"scatter\"}, {\"name\": \"mc.ff.p1.down Data\", \"text\": \"(0.0036,0.0010)<br>mc.ff.p1.down Data\", \"marker\": {\"color\": \"hsl(192.179487179, 57.5897435897%, 46.3076923077%)\", \"symbol\": \"star\", \"line\": {\"color\": \"black\", \"width\": 0.8}, \"size\": 20}, \"mode\": \"markers\", \"hoverinfo\": \"text\", \"y\": [0.00103257], \"x\": [0.00364635], \"type\": \"scatter\"}, {\"name\": \"mc.ff.p1.up\", \"text\": [\"(-0.0003,0.0006)<br>True: (0.0000,0.0000)<br>mc.ff.p1.up\", \"(0.0021,0.0015)<br>True: (0.0100,0.0000)<br>mc.ff.p1.up\", \"(0.0055,0.0035)<br>True: (0.0200,0.0000)<br>mc.ff.p1.up\", \"(0.0116,0.0043)<br>True: (0.0300,0.0000)<br>mc.ff.p1.up\", \"(0.0194,0.0055)<br>True: (0.0400,0.0000)<br>mc.ff.p1.up\", \"(0.0003,0.0019)<br>True: (0.0000,0.0050)<br>mc.ff.p1.up\", \"(0.0033,0.0038)<br>True: (0.0100,0.0050)<br>mc.ff.p1.up\", \"(0.0073,0.0059)<br>True: (0.0200,0.0050)<br>mc.ff.p1.up\", \"(0.0147,0.0075)<br>True: (0.0300,0.0050)<br>mc.ff.p1.up\", \"(0.0199,0.0096)<br>True: (0.0400,0.0050)<br>mc.ff.p1.up\"], \"marker\": {\"color\": \"hsl(175.769230769, 49.3846153846%, 52.4615384615%)\", \"line\": {\"color\": \"black\", \"width\": 0.8}}, \"mode\": \"markers\", \"hoverinfo\": \"text\", \"y\": [0.0006220832500000001, 0.0014706340000000002, 0.0035447540000000007, 0.004328675000000001, 0.005469404750000002, 0.001932858, 0.0037957485000000004, 0.005946973249999999, 0.007516218250000001, 0.009599268749999997], \"x\": [-0.00032861450000000014, 0.0020907324999999994, 0.005497649, 0.011608019750000004, 0.019364271249999995, 0.00028833875, 0.0032991920000000003, 0.007283198499999999, 0.01472470175, 0.019902232750000005], \"type\": \"scatter\"}, {\"name\": \"mc.ff.p1.up Data\", \"text\": \"(0.0053,0.0010)<br>mc.ff.p1.up Data\", \"marker\": {\"color\": \"hsl(175.769230769, 49.3846153846%, 52.4615384615%)\", \"symbol\": \"star\", \"line\": {\"color\": \"black\", \"width\": 0.8}, \"size\": 20}, \"mode\": \"markers\", \"hoverinfo\": \"text\", \"y\": [0.00099917], \"x\": [0.00532162], \"type\": \"scatter\"}, {\"name\": \"mc.ff.p2.down\", \"text\": [\"(-0.0001,0.0027)<br>True: (0.0000,0.0000)<br>mc.ff.p2.down\", \"(-0.0000,0.0042)<br>True: (0.0100,0.0000)<br>mc.ff.p2.down\", \"(0.0019,0.0064)<br>True: (0.0200,0.0000)<br>mc.ff.p2.down\", \"(0.0055,0.0090)<br>True: (0.0300,0.0000)<br>mc.ff.p2.down\", \"(0.0105,0.0107)<br>True: (0.0400,0.0000)<br>mc.ff.p2.down\", \"(-0.0003,0.0042)<br>True: (0.0000,0.0050)<br>mc.ff.p2.down\", \"(0.0013,0.0064)<br>True: (0.0100,0.0050)<br>mc.ff.p2.down\", \"(0.0023,0.0096)<br>True: (0.0200,0.0050)<br>mc.ff.p2.down\", \"(0.0060,0.0122)<br>True: (0.0300,0.0050)<br>mc.ff.p2.down\", \"(0.0119,0.0145)<br>True: (0.0400,0.0050)<br>mc.ff.p2.down\"], \"marker\": {\"color\": \"hsl(22.4615384615, 93.0769230769%, 64.5128205128%)\", \"line\": {\"color\": \"black\", \"width\": 0.8}}, \"mode\": \"markers\", \"hoverinfo\": \"text\", \"y\": [0.002688957999999999, 0.0041979245, 0.006447087999999999, 0.008997643500000001, 0.010737352249999997, 0.004214687500000001, 0.006428305749999999, 0.0095894015, 0.01218883825, 0.0144662245], \"x\": [-0.00011125649999999999, -3.57737500000007e-05, 0.0018899377500000009, 0.005461049500000002, 0.010466900000000001, -0.0002639525000000001, 0.0012578015000000008, 0.0023280767500000014, 0.006021424500000001, 0.011945471500000002], \"type\": \"scatter\"}, {\"name\": \"mc.ff.p2.down Data\", \"text\": \"(0.0025,0.0033)<br>mc.ff.p2.down Data\", \"marker\": {\"color\": \"hsl(22.4615384615, 93.0769230769%, 64.5128205128%)\", \"symbol\": \"star\", \"line\": {\"color\": \"black\", \"width\": 0.8}, \"size\": 20}, \"mode\": \"markers\", \"hoverinfo\": \"text\", \"y\": [0.00326492], \"x\": [0.00251653], \"type\": \"scatter\"}, {\"name\": \"mc.ff.p2.up\", \"text\": [\"(0.0003,0.0005)<br>True: (0.0000,0.0000)<br>mc.ff.p2.up\", \"(0.0003,0.0020)<br>True: (0.0100,0.0000)<br>mc.ff.p2.up\", \"(0.0043,0.0026)<br>True: (0.0200,0.0000)<br>mc.ff.p2.up\", \"(0.0090,0.0048)<br>True: (0.0300,0.0000)<br>mc.ff.p2.up\", \"(0.0164,0.0055)<br>True: (0.0400,0.0000)<br>mc.ff.p2.up\", \"(0.0003,0.0013)<br>True: (0.0000,0.0050)<br>mc.ff.p2.up\", \"(0.0019,0.0033)<br>True: (0.0100,0.0050)<br>mc.ff.p2.up\", \"(0.0053,0.0054)<br>True: (0.0200,0.0050)<br>mc.ff.p2.up\", \"(0.0116,0.0069)<br>True: (0.0300,0.0050)<br>mc.ff.p2.up\", \"(0.0174,0.0090)<br>True: (0.0400,0.0050)<br>mc.ff.p2.up\"], \"marker\": {\"color\": \"hsl(57.9487179487, 99.7435897436%, 85.7179487179%)\", \"line\": {\"color\": \"black\", \"width\": 0.8}}, \"mode\": \"markers\", \"hoverinfo\": \"text\", \"y\": [0.0004864785000000001, 0.0019988809999999997, 0.0026468565, 0.00484367125, 0.005491561249999999, 0.0013120477499999998, 0.0033385845000000005, 0.005374762, 0.006891027499999998, 0.008955405000000001], \"x\": [0.00031660750000000006, 0.00029721025000000074, 0.004263826000000002, 0.009003521999999996, 0.016406164, 0.0002697757500000001, 0.0018888967500000006, 0.005255649500000001, 0.01161580325, 0.017389104250000002], \"type\": \"scatter\"}, {\"name\": \"mc.ff.p2.up Data\", \"text\": \"(0.0042,0.0007)<br>mc.ff.p2.up Data\", \"marker\": {\"color\": \"hsl(57.9487179487, 99.7435897436%, 85.7179487179%)\", \"symbol\": \"star\", \"line\": {\"color\": \"black\", \"width\": 0.8}, \"size\": 20}, \"mode\": \"markers\", \"hoverinfo\": \"text\", \"y\": [0.0007019], \"x\": [0.00417491], \"type\": \"scatter\"}, {\"name\": \"mc.ff.rho2.down\", \"text\": [\"(0.0006,0.0015)<br>True: (0.0000,0.0000)<br>mc.ff.rho2.down\", \"(0.0015,0.0027)<br>True: (0.0100,0.0000)<br>mc.ff.rho2.down\", \"(0.0048,0.0036)<br>True: (0.0200,0.0000)<br>mc.ff.rho2.down\", \"(0.0096,0.0060)<br>True: (0.0300,0.0000)<br>mc.ff.rho2.down\", \"(0.0185,0.0061)<br>True: (0.0400,0.0000)<br>mc.ff.rho2.down\", \"(0.0010,0.0025)<br>True: (0.0000,0.0050)<br>mc.ff.rho2.down\", \"(0.0032,0.0039)<br>True: (0.0100,0.0050)<br>mc.ff.rho2.down\", \"(0.0068,0.0063)<br>True: (0.0200,0.0050)<br>mc.ff.rho2.down\", \"(0.0126,0.0080)<br>True: (0.0300,0.0050)<br>mc.ff.rho2.down\", \"(0.0193,0.0087)<br>True: (0.0400,0.0050)<br>mc.ff.rho2.down\"], \"marker\": {\"color\": \"hsl(63.4615384615, 93.0769230769%, 83.1538461538%)\", \"line\": {\"color\": \"black\", \"width\": 0.8}}, \"mode\": \"markers\", \"hoverinfo\": \"text\", \"y\": [0.0014805270000000001, 0.0026722042500000004, 0.0035701227500000007, 0.005975180250000001, 0.006124335250000002, 0.0024860767500000007, 0.003855401, 0.006324116, 0.008014448999999996, 0.00867974925], \"x\": [0.0006192979999999999, 0.0015328394999999991, 0.004753690250000001, 0.009589715749999998, 0.018480722749999998, 0.00102852875, 0.0031873974999999995, 0.006792177500000001, 0.01264134825, 0.019290105999999998], \"type\": \"scatter\"}, {\"name\": \"mc.ff.rho2.down Data\", \"text\": \"(0.0051,0.0013)<br>mc.ff.rho2.down Data\", \"marker\": {\"color\": \"hsl(63.4615384615, 93.0769230769%, 83.1538461538%)\", \"symbol\": \"star\", \"line\": {\"color\": \"black\", \"width\": 0.8}, \"size\": 20}, \"mode\": \"markers\", \"hoverinfo\": \"text\", \"y\": [0.00133563], \"x\": [0.00509759], \"type\": \"scatter\"}, {\"name\": \"mc.ff.rho2.up\", \"text\": [\"(0.0005,0.0031)<br>True: (0.0000,0.0000)<br>mc.ff.rho2.up\", \"(0.0008,0.0041)<br>True: (0.0100,0.0000)<br>mc.ff.rho2.up\", \"(0.0027,0.0066)<br>True: (0.0200,0.0000)<br>mc.ff.rho2.up\", \"(0.0049,0.0088)<br>True: (0.0300,0.0000)<br>mc.ff.rho2.up\", \"(0.0105,0.0108)<br>True: (0.0400,0.0000)<br>mc.ff.rho2.up\", \"(0.0008,0.0040)<br>True: (0.0000,0.0050)<br>mc.ff.rho2.up\", \"(0.0018,0.0059)<br>True: (0.0100,0.0050)<br>mc.ff.rho2.up\", \"(0.0032,0.0090)<br>True: (0.0200,0.0050)<br>mc.ff.rho2.up\", \"(0.0070,0.0119)<br>True: (0.0300,0.0050)<br>mc.ff.rho2.up\", \"(0.0117,0.0137)<br>True: (0.0400,0.0050)<br>mc.ff.rho2.up\"], \"marker\": {\"color\": \"hsl(335.0, 98.0%, 31.0%)\", \"line\": {\"color\": \"black\", \"width\": 0.8}}, \"mode\": \"markers\", \"hoverinfo\": \"text\", \"y\": [0.00306734575, 0.004133649499999999, 0.006572826999999999, 0.008788556499999997, 0.01075198225, 0.003968113249999998, 0.005942662999999999, 0.008987289999999998, 0.011905192749999998, 0.013719212249999998], \"x\": [0.0004785682499999997, 0.0008105660000000004, 0.0027049430000000013, 0.004885081499999999, 0.010514916999999999, 0.0008305587499999999, 0.0018077844999999995, 0.003165659500000001, 0.007023230499999998, 0.01168446075], \"type\": \"scatter\"}, {\"name\": \"mc.ff.rho2.up Data\", \"text\": \"(0.0028,0.0032)<br>mc.ff.rho2.up Data\", \"marker\": {\"color\": \"hsl(335.0, 98.0%, 31.0%)\", \"symbol\": \"star\", \"line\": {\"color\": \"black\", \"width\": 0.8}, \"size\": 20}, \"mode\": \"markers\", \"hoverinfo\": \"text\", \"y\": [0.00315691], \"x\": [0.00280695], \"type\": \"scatter\"}, {\"name\": \"mc.lumi.down\", \"text\": [\"(-0.0004,0.0012)<br>True: (0.0000,0.0000)<br>mc.lumi.down\", \"(0.0008,0.0016)<br>True: (0.0100,0.0000)<br>mc.lumi.down\", \"(0.0041,0.0027)<br>True: (0.0200,0.0000)<br>mc.lumi.down\", \"(0.0095,0.0047)<br>True: (0.0300,0.0000)<br>mc.lumi.down\", \"(0.0176,0.0052)<br>True: (0.0400,0.0000)<br>mc.lumi.down\", \"(0.0000,0.0017)<br>True: (0.0000,0.0050)<br>mc.lumi.down\", \"(0.0016,0.0036)<br>True: (0.0100,0.0050)<br>mc.lumi.down\", \"(0.0050,0.0060)<br>True: (0.0200,0.0050)<br>mc.lumi.down\", \"(0.0109,0.0079)<br>True: (0.0300,0.0050)<br>mc.lumi.down\", \"(0.0177,0.0094)<br>True: (0.0400,0.0050)<br>mc.lumi.down\"], \"marker\": {\"color\": \"hsl(14.7692307692, 88.4615384615%, 60.4102564103%)\", \"line\": {\"color\": \"black\", \"width\": 0.8}}, \"mode\": \"markers\", \"hoverinfo\": \"text\", \"y\": [0.00116140075, 0.0015930050000000002, 0.0027445615, 0.0046765455, 0.00515125375, 0.0017042792500000003, 0.003640518, 0.006045911249999999, 0.007885097499999997, 0.0094394335], \"x\": [-0.0004127557500000001, 0.0007869877500000007, 0.00407197175, 0.00954397475, 0.017605768749999997, 4.895924999999998e-05, 0.0016299915000000005, 0.00496334, 0.010899958250000001, 0.017662865750000006], \"type\": \"scatter\"}, {\"name\": \"mc.lumi.down Data\", \"text\": \"(0.0043,0.0008)<br>mc.lumi.down Data\", \"marker\": {\"color\": \"hsl(14.7692307692, 88.4615384615%, 60.4102564103%)\", \"symbol\": \"star\", \"line\": {\"color\": \"black\", \"width\": 0.8}, \"size\": 20}, \"mode\": \"markers\", \"hoverinfo\": \"text\", \"y\": [0.00077588], \"x\": [0.0043235], \"type\": \"scatter\"}, {\"name\": \"mc.lumi.up\", \"text\": [\"(0.0002,0.0065)<br>True: (0.0000,0.0000)<br>mc.lumi.up\", \"(0.0012,0.0079)<br>True: (0.0100,0.0000)<br>mc.lumi.up\", \"(0.0012,0.0112)<br>True: (0.0200,0.0000)<br>mc.lumi.up\", \"(0.0040,0.0135)<br>True: (0.0300,0.0000)<br>mc.lumi.up\", \"(0.0096,0.0154)<br>True: (0.0400,0.0000)<br>mc.lumi.up\", \"(0.0002,0.0080)<br>True: (0.0000,0.0050)<br>mc.lumi.up\", \"(0.0011,0.0110)<br>True: (0.0100,0.0050)<br>mc.lumi.up\", \"(0.0029,0.0132)<br>True: (0.0200,0.0050)<br>mc.lumi.up\", \"(0.0050,0.0163)<br>True: (0.0300,0.0050)<br>mc.lumi.up\", \"(0.0106,0.0187)<br>True: (0.0400,0.0050)<br>mc.lumi.up\"], \"marker\": {\"color\": \"hsl(348.846153846, 71.8461538462%, 47.9230769231%)\", \"line\": {\"color\": \"black\", \"width\": 0.8}}, \"mode\": \"markers\", \"hoverinfo\": \"text\", \"y\": [0.006523006500000002, 0.007942446500000002, 0.011214807, 0.013498950000000001, 0.015357890000000003, 0.00801332925, 0.011036115499999997, 0.013241341249999997, 0.016260313, 0.018679142500000002], \"x\": [0.00024925775000000005, 0.0011582009999999993, 0.0012480052499999998, 0.0040096687500000006, 0.00958700275, 0.000186671, 0.0011407262499999998, 0.0029446904999999995, 0.005028771250000001, 0.010633378749999998], \"type\": \"scatter\"}, {\"name\": \"mc.lumi.up Data\", \"text\": \"(0.0033,0.0057)<br>mc.lumi.up Data\", \"marker\": {\"color\": \"hsl(348.846153846, 71.8461538462%, 47.9230769231%)\", \"symbol\": \"star\", \"line\": {\"color\": \"black\", \"width\": 0.8}, \"size\": 20}, \"mode\": \"markers\", \"hoverinfo\": \"text\", \"y\": [0.00573217], \"x\": [0.00331081], \"type\": \"scatter\"}, {\"name\": \"mc.sideband.comb\", \"text\": [\"(-0.0002,0.0007)<br>True: (0.0000,0.0000)<br>mc.sideband.comb\", \"(0.0018,0.0015)<br>True: (0.0100,0.0000)<br>mc.sideband.comb\", \"(0.0052,0.0026)<br>True: (0.0200,0.0000)<br>mc.sideband.comb\", \"(0.0117,0.0034)<br>True: (0.0300,0.0000)<br>mc.sideband.comb\", \"(0.0197,0.0040)<br>True: (0.0400,0.0000)<br>mc.sideband.comb\", \"(0.0008,0.0018)<br>True: (0.0000,0.0050)<br>mc.sideband.comb\", \"(0.0030,0.0028)<br>True: (0.0100,0.0050)<br>mc.sideband.comb\", \"(0.0081,0.0041)<br>True: (0.0200,0.0050)<br>mc.sideband.comb\", \"(0.0143,0.0058)<br>True: (0.0300,0.0050)<br>mc.sideband.comb\", \"(0.0219,0.0066)<br>True: (0.0400,0.0050)<br>mc.sideband.comb\"], \"marker\": {\"color\": \"hsl(75.6153846154, 76.3076923077%, 76.6923076923%)\", \"line\": {\"color\": \"black\", \"width\": 0.8}}, \"mode\": \"markers\", \"hoverinfo\": \"text\", \"y\": [0.00071477375, 0.0015298712499999998, 0.0025863695000000004, 0.0034314607499999995, 0.00401240575, 0.0018063952500000004, 0.00280050975, 0.0041274745000000005, 0.0058169385, 0.0066346159999999986], \"x\": [-0.00015332375000000003, 0.0017655912500000003, 0.005178663499999998, 0.011741390749999997, 0.019699201000000003, 0.0008035410000000002, 0.00302240275, 0.008125616499999998, 0.014276684499999998, 0.0219012995], \"type\": \"scatter\"}, {\"name\": \"mc.sideband.comb Data\", \"text\": \"(0.0025,0.0010)<br>mc.sideband.comb Data\", \"marker\": {\"color\": \"hsl(75.6153846154, 76.3076923077%, 76.6923076923%)\", \"symbol\": \"star\", \"line\": {\"color\": \"black\", \"width\": 0.8}, \"size\": 20}, \"mode\": \"markers\", \"hoverinfo\": \"text\", \"y\": [0.00096591], \"x\": [0.00254552], \"type\": \"scatter\"}], {\"hovermode\": \"closest\", \"xaxis\": {\"range\": [-0.01, 0.03], \"title\": \"$\\\\text{Extracted } D\\\\tau \\\\text{ Proportion}$\"}, \"yaxis\": {\"range\": [-0.005, 0.025], \"title\": \"$\\\\text{Extracted } D^*\\\\tau \\\\text{ Proportion}$\"}}, {\"linkText\": \"Export to plot.ly\", \"showLink\": true})});</script>"
      ],
      "text/vnd.plotly.v1+html": [
       "<div id=\"cc1a8fac-a495-426e-9fcf-bb79830b2dde\" style=\"height: 525px; width: 100%;\" class=\"plotly-graph-div\"></div><script type=\"text/javascript\">require([\"plotly\"], function(Plotly) { window.PLOTLYENV=window.PLOTLYENV || {};window.PLOTLYENV.BASE_URL=\"https://plot.ly\";Plotly.newPlot(\"cc1a8fac-a495-426e-9fcf-bb79830b2dde\", [{\"name\": \"central\", \"text\": [\"(0.0018,0.0008)<br>True: (0.0000,0.0000)<br>central\", \"(0.0029,0.0017)<br>True: (0.0100,0.0000)<br>central\", \"(0.0056,0.0031)<br>True: (0.0200,0.0000)<br>central\", \"(0.0123,0.0040)<br>True: (0.0300,0.0000)<br>central\", \"(0.0197,0.0046)<br>True: (0.0400,0.0000)<br>central\", \"(0.0020,0.0016)<br>True: (0.0000,0.0059)<br>central\", \"(0.0038,0.0037)<br>True: (0.0100,0.0059)<br>central\", \"(0.0091,0.0052)<br>True: (0.0200,0.0059)<br>central\", \"(0.0147,0.0068)<br>True: (0.0300,0.0059)<br>central\", \"(0.0227,0.0077)<br>True: (0.0400,0.0059)<br>central\"], \"marker\": {\"color\": \"black\", \"line\": {\"color\": \"black\", \"width\": 0.8}}, \"mode\": \"markers\", \"hoverinfo\": \"text\", \"y\": [0.000847743, 0.0016839582499999992, 0.003132707250000001, 0.00403463425, 0.0046153745, 0.0016330575000000009, 0.0037253664999999992, 0.005247472, 0.006838373, 0.007714710750000001], \"x\": [0.0017794295000000005, 0.0029142250000000003, 0.00563408575, 0.01230960075, 0.019745399499999997, 0.00196355, 0.0038342709999999993, 0.009115469, 0.014669792749999999, 0.0227244995], \"type\": \"scatter\"}, {\"name\": \"central Data\", \"text\": \"(0.0051,0.0009)<br>central Data\", \"marker\": {\"color\": \"black\", \"symbol\": \"star\", \"line\": {\"color\": \"black\", \"width\": 0.8}, \"size\": 20}, \"mode\": \"markers\", \"hoverinfo\": \"text\", \"y\": [0.00090702], \"x\": [0.00512954], \"type\": \"scatter\"}, {\"name\": \"mc.brf.drho.down\", \"text\": [\"(0.0059,0.0005)<br>True: (0.0000,0.0000)<br>mc.brf.drho.down\", \"(0.0087,0.0010)<br>True: (0.0100,0.0000)<br>mc.brf.drho.down\", \"(0.0129,0.0019)<br>True: (0.0200,0.0000)<br>mc.brf.drho.down\", \"(0.0194,0.0015)<br>True: (0.0300,0.0000)<br>mc.brf.drho.down\", \"(0.0249,0.0032)<br>True: (0.0400,0.0000)<br>mc.brf.drho.down\", \"(0.0076,0.0011)<br>True: (0.0000,0.0050)<br>mc.brf.drho.down\", \"(0.0108,0.0020)<br>True: (0.0100,0.0050)<br>mc.brf.drho.down\", \"(0.0157,0.0027)<br>True: (0.0200,0.0050)<br>mc.brf.drho.down\", \"(0.0212,0.0040)<br>True: (0.0300,0.0050)<br>mc.brf.drho.down\", \"(0.0278,0.0047)<br>True: (0.0400,0.0050)<br>mc.brf.drho.down\"], \"marker\": {\"color\": \"hsl(45.641025641, 98.2051282051%, 78.0256410256%)\", \"line\": {\"color\": \"black\", \"width\": 0.8}}, \"mode\": \"markers\", \"hoverinfo\": \"text\", \"y\": [0.0005145094999999999, 0.0010316255000000002, 0.0019232485000000004, 0.0015283555000000003, 0.003221519499999999, 0.0011275950000000003, 0.0020174662499999997, 0.00272044375, 0.003954324249999999, 0.004717886250000001], \"x\": [0.005949336749999998, 0.008684893, 0.012943696499999999, 0.019357035999999998, 0.024882680499999997, 0.00756899825, 0.010800082749999999, 0.015702369, 0.021177940999999995, 0.02776392550000001], \"type\": \"scatter\"}, {\"name\": \"mc.brf.drho.down Data\", \"text\": \"(0.0108,0.0009)<br>mc.brf.drho.down Data\", \"marker\": {\"color\": \"hsl(45.641025641, 98.2051282051%, 78.0256410256%)\", \"symbol\": \"star\", \"line\": {\"color\": \"black\", \"width\": 0.8}, \"size\": 20}, \"mode\": \"markers\", \"hoverinfo\": \"text\", \"y\": [0.00088028], \"x\": [0.01080102], \"type\": \"scatter\"}, {\"name\": \"mc.brf.drho.down.twosigma\", \"text\": [\"(-0.0004,0.0016)<br>True: (0.0000,0.0000)<br>mc.brf.drho.down.twosigma\", \"(-0.0000,0.0025)<br>True: (0.0100,0.0000)<br>mc.brf.drho.down.twosigma\", \"(0.0035,0.0040)<br>True: (0.0200,0.0000)<br>mc.brf.drho.down.twosigma\", \"(0.0084,0.0057)<br>True: (0.0300,0.0000)<br>mc.brf.drho.down.twosigma\", \"(0.0153,0.0068)<br>True: (0.0400,0.0000)<br>mc.brf.drho.down.twosigma\", \"(-0.0004,0.0026)<br>True: (0.0000,0.0050)<br>mc.brf.drho.down.twosigma\", \"(0.0019,0.0040)<br>True: (0.0100,0.0050)<br>mc.brf.drho.down.twosigma\", \"(0.0035,0.0071)<br>True: (0.0200,0.0050)<br>mc.brf.drho.down.twosigma\", \"(0.0104,0.0087)<br>True: (0.0300,0.0050)<br>mc.brf.drho.down.twosigma\", \"(0.0178,0.0096)<br>True: (0.0400,0.0050)<br>mc.brf.drho.down.twosigma\"], \"marker\": {\"color\": \"hsl(18.6153846154, 90.7692307692%, 62.4615384615%)\", \"line\": {\"color\": \"black\", \"width\": 0.8}}, \"mode\": \"markers\", \"hoverinfo\": \"text\", \"y\": [0.0016034065000000003, 0.0025207199999999997, 0.003956817999999999, 0.00567490825, 0.006772481249999997, 0.0026264317499999994, 0.00404846225, 0.00710922175, 0.008714839249999998, 0.009595509999999998], \"x\": [-0.00044604325, -3.151875000000082e-05, 0.00350901675, 0.0083619895, 0.015295827999999994, -0.0004112672499999999, 0.0018558422499999998, 0.0034605574999999993, 0.010448684000000003, 0.01779563675], \"type\": \"scatter\"}, {\"name\": \"mc.brf.drho.down.twosigma Data\", \"text\": \"(0.0032,0.0011)<br>mc.brf.drho.down.twosigma Data\", \"marker\": {\"color\": \"hsl(18.6153846154, 90.7692307692%, 62.4615384615%)\", \"symbol\": \"star\", \"line\": {\"color\": \"black\", \"width\": 0.8}, \"size\": 20}, \"mode\": \"markers\", \"hoverinfo\": \"text\", \"y\": [0.00109837], \"x\": [0.00320697], \"type\": \"scatter\"}, {\"name\": \"mc.brf.drho.up\", \"text\": [\"(0.0000,0.0016)<br>True: (0.0000,0.0000)<br>mc.brf.drho.up\", \"(0.0008,0.0028)<br>True: (0.0100,0.0000)<br>mc.brf.drho.up\", \"(0.0037,0.0049)<br>True: (0.0200,0.0000)<br>mc.brf.drho.up\", \"(0.0080,0.0065)<br>True: (0.0300,0.0000)<br>mc.brf.drho.up\", \"(0.0160,0.0079)<br>True: (0.0400,0.0000)<br>mc.brf.drho.up\", \"(0.0010,0.0024)<br>True: (0.0000,0.0050)<br>mc.brf.drho.up\", \"(0.0027,0.0043)<br>True: (0.0100,0.0050)<br>mc.brf.drho.up\", \"(0.0050,0.0075)<br>True: (0.0200,0.0050)<br>mc.brf.drho.up\", \"(0.0104,0.0099)<br>True: (0.0300,0.0050)<br>mc.brf.drho.up\", \"(0.0168,0.0110)<br>True: (0.0400,0.0050)<br>mc.brf.drho.up\"], \"marker\": {\"color\": \"hsl(108.692307692, 47.8461538462%, 75.1538461538%)\", \"line\": {\"color\": \"black\", \"width\": 0.8}}, \"mode\": \"markers\", \"hoverinfo\": \"text\", \"y\": [0.0015907539999999998, 0.0028394217500000004, 0.0048628722500000015, 0.006527718750000001, 0.007887538499999997, 0.0023748757500000003, 0.004307717000000001, 0.007520219749999997, 0.009922445249999998, 0.011015997500000001], \"x\": [2.828649999999998e-05, 0.00081636075, 0.00372355475, 0.008045632999999996, 0.01598072525, 0.00095879625, 0.002675795, 0.0050126469999999985, 0.010360802750000002, 0.01676337775000001], \"type\": \"scatter\"}, {\"name\": \"mc.brf.drho.up Data\", \"text\": \"(0.0049,0.0011)<br>mc.brf.drho.up Data\", \"marker\": {\"color\": \"hsl(108.692307692, 47.8461538462%, 75.1538461538%)\", \"symbol\": \"star\", \"line\": {\"color\": \"black\", \"width\": 0.8}, \"size\": 20}, \"mode\": \"markers\", \"hoverinfo\": \"text\", \"y\": [0.0010851], \"x\": [0.00492946], \"type\": \"scatter\"}, {\"name\": \"mc.brf.drho.up.twosigma\", \"text\": [\"(0.0036,0.0004)<br>True: (0.0000,0.0000)<br>mc.brf.drho.up.twosigma\", \"(0.0055,0.0015)<br>True: (0.0100,0.0000)<br>mc.brf.drho.up.twosigma\", \"(0.0086,0.0030)<br>True: (0.0200,0.0000)<br>mc.brf.drho.up.twosigma\", \"(0.0134,0.0048)<br>True: (0.0300,0.0000)<br>mc.brf.drho.up.twosigma\", \"(0.0194,0.0064)<br>True: (0.0400,0.0000)<br>mc.brf.drho.up.twosigma\", \"(0.0041,0.0018)<br>True: (0.0000,0.0050)<br>mc.brf.drho.up.twosigma\", \"(0.0063,0.0029)<br>True: (0.0100,0.0050)<br>mc.brf.drho.up.twosigma\", \"(0.0107,0.0054)<br>True: (0.0200,0.0050)<br>mc.brf.drho.up.twosigma\", \"(0.0150,0.0079)<br>True: (0.0300,0.0050)<br>mc.brf.drho.up.twosigma\", \"(0.0203,0.0099)<br>True: (0.0400,0.0050)<br>mc.brf.drho.up.twosigma\"], \"marker\": {\"color\": \"hsl(344.307692308, 64.6153846154%, 53.1794871795%)\", \"line\": {\"color\": \"black\", \"width\": 0.8}}, \"mode\": \"markers\", \"hoverinfo\": \"text\", \"y\": [0.00043246824999999996, 0.001471955, 0.00300968575, 0.004792392750000001, 0.006360791749999999, 0.0017842852499999995, 0.00294263225, 0.005387052999999998, 0.00791051475, 0.009884029749999999], \"x\": [0.00362284, 0.0055334595, 0.00856039825, 0.013398251, 0.019415425000000004, 0.0040796272500000005, 0.00634014775, 0.010652373499999998, 0.015046309499999997, 0.02034039575], \"type\": \"scatter\"}, {\"name\": \"mc.brf.drho.up.twosigma Data\", \"text\": \"(0.0140,0.0010)<br>mc.brf.drho.up.twosigma Data\", \"marker\": {\"color\": \"hsl(344.307692308, 64.6153846154%, 53.1794871795%)\", \"symbol\": \"star\", \"line\": {\"color\": \"black\", \"width\": 0.8}, \"size\": 20}, \"mode\": \"markers\", \"hoverinfo\": \"text\", \"y\": [0.00101813], \"x\": [0.01402308], \"type\": \"scatter\"}, {\"name\": \"mc.brf.dss.down\", \"text\": [\"(-0.0000,-0.0002)<br>True: (0.0000,0.0000)<br>mc.brf.dss.down\", \"(0.0019,0.0011)<br>True: (0.0100,0.0000)<br>mc.brf.dss.down\", \"(0.0067,0.0022)<br>True: (0.0200,0.0000)<br>mc.brf.dss.down\", \"(0.0132,0.0036)<br>True: (0.0300,0.0000)<br>mc.brf.dss.down\", \"(0.0217,0.0039)<br>True: (0.0400,0.0000)<br>mc.brf.dss.down\", \"(0.0003,0.0010)<br>True: (0.0000,0.0050)<br>mc.brf.dss.down\", \"(0.0037,0.0028)<br>True: (0.0100,0.0050)<br>mc.brf.dss.down\", \"(0.0086,0.0050)<br>True: (0.0200,0.0050)<br>mc.brf.dss.down\", \"(0.0165,0.0053)<br>True: (0.0300,0.0050)<br>mc.brf.dss.down\", \"(0.0236,0.0070)<br>True: (0.0400,0.0050)<br>mc.brf.dss.down\"], \"marker\": {\"color\": \"hsl(53.8461538462, 99.2307692308%, 83.1538461538%)\", \"line\": {\"color\": \"black\", \"width\": 0.8}}, \"mode\": \"markers\", \"hoverinfo\": \"text\", \"y\": [-0.00015016824999999995, 0.0011229622500000002, 0.002224923, 0.003589962000000001, 0.00389296575, 0.0009741935000000005, 0.0027725797500000007, 0.004977406499999999, 0.005267179500000001, 0.00702415925], \"x\": [-4.790124999999993e-05, 0.001929384499999999, 0.006748574249999998, 0.013152361250000001, 0.02172993125, 0.0002933397499999999, 0.00367428375, 0.00860603725, 0.01652503, 0.023550498250000003], \"type\": \"scatter\"}, {\"name\": \"mc.brf.dss.down Data\", \"text\": \"(0.0055,0.0008)<br>mc.brf.dss.down Data\", \"marker\": {\"color\": \"hsl(53.8461538462, 99.2307692308%, 83.1538461538%)\", \"symbol\": \"star\", \"line\": {\"color\": \"black\", \"width\": 0.8}, \"size\": 20}, \"mode\": \"markers\", \"hoverinfo\": \"text\", \"y\": [0.00076478], \"x\": [0.00550215], \"type\": \"scatter\"}, {\"name\": \"mc.brf.dss.down.twosigma\", \"text\": [\"(0.0012,0.0014)<br>True: (0.0000,0.0000)<br>mc.brf.dss.down.twosigma\", \"(0.0018,0.0026)<br>True: (0.0100,0.0000)<br>mc.brf.dss.down.twosigma\", \"(0.0047,0.0042)<br>True: (0.0200,0.0000)<br>mc.brf.dss.down.twosigma\", \"(0.0090,0.0065)<br>True: (0.0300,0.0000)<br>mc.brf.dss.down.twosigma\", \"(0.0165,0.0074)<br>True: (0.0400,0.0000)<br>mc.brf.dss.down.twosigma\", \"(0.0013,0.0021)<br>True: (0.0000,0.0050)<br>mc.brf.dss.down.twosigma\", \"(0.0031,0.0042)<br>True: (0.0100,0.0050)<br>mc.brf.dss.down.twosigma\", \"(0.0059,0.0069)<br>True: (0.0200,0.0050)<br>mc.brf.dss.down.twosigma\", \"(0.0115,0.0088)<br>True: (0.0300,0.0050)<br>mc.brf.dss.down.twosigma\", \"(0.0175,0.0107)<br>True: (0.0400,0.0050)<br>mc.brf.dss.down.twosigma\"], \"marker\": {\"color\": \"hsl(120.794871795, 44.4615384615%, 71.9487179487%)\", \"line\": {\"color\": \"black\", \"width\": 0.8}}, \"mode\": \"markers\", \"hoverinfo\": \"text\", \"y\": [0.00135475925, 0.0025886532499999992, 0.004180740250000001, 0.006502961999999999, 0.007411775749999999, 0.0021006245000000003, 0.004245856, 0.00693302425, 0.008799209499999999, 0.010668459749999998], \"x\": [0.0011785145, 0.0017991055000000002, 0.004671548749999999, 0.00902811425, 0.01650483125, 0.0012816865, 0.00306195475, 0.00594340525, 0.011545830750000003, 0.01748659375], \"type\": \"scatter\"}, {\"name\": \"mc.brf.dss.down.twosigma Data\", \"text\": \"(0.0057,0.0010)<br>mc.brf.dss.down.twosigma Data\", \"marker\": {\"color\": \"hsl(120.794871795, 44.4615384615%, 71.9487179487%)\", \"symbol\": \"star\", \"line\": {\"color\": \"black\", \"width\": 0.8}, \"size\": 20}, \"mode\": \"markers\", \"hoverinfo\": \"text\", \"y\": [0.00099194], \"x\": [0.00566856], \"type\": \"scatter\"}, {\"name\": \"mc.brf.dss.up\", \"text\": [\"(0.0003,-0.0002)<br>True: (0.0000,0.0000)<br>mc.brf.dss.up\", \"(0.0015,0.0014)<br>True: (0.0100,0.0000)<br>mc.brf.dss.up\", \"(0.0037,0.0030)<br>True: (0.0200,0.0000)<br>mc.brf.dss.up\", \"(0.0107,0.0050)<br>True: (0.0300,0.0000)<br>mc.brf.dss.up\", \"(0.0175,0.0059)<br>True: (0.0400,0.0000)<br>mc.brf.dss.up\", \"(0.0001,0.0017)<br>True: (0.0000,0.0050)<br>mc.brf.dss.up\", \"(0.0024,0.0034)<br>True: (0.0100,0.0050)<br>mc.brf.dss.up\", \"(0.0060,0.0058)<br>True: (0.0200,0.0050)<br>mc.brf.dss.up\", \"(0.0122,0.0078)<br>True: (0.0300,0.0050)<br>mc.brf.dss.up\", \"(0.0193,0.0085)<br>True: (0.0400,0.0050)<br>mc.brf.dss.up\"], \"marker\": {\"color\": \"hsl(201.923076923, 40.1538461538%, 46.7435897436%)\", \"line\": {\"color\": \"black\", \"width\": 0.8}}, \"mode\": \"markers\", \"hoverinfo\": \"text\", \"y\": [-0.00016193850000000007, 0.00135324925, 0.00297699075, 0.0050050222499999995, 0.00591117975, 0.00168232675, 0.003441673500000001, 0.005832926000000001, 0.007793596750000001, 0.008502250250000004], \"x\": [0.00030727975000000013, 0.0015035854999999997, 0.0036598322500000016, 0.010684549250000001, 0.01753324825, 0.00010297749999999997, 0.00236764475, 0.0060343257500000014, 0.012245858249999998, 0.019345713000000004], \"type\": \"scatter\"}, {\"name\": \"mc.brf.dss.up Data\", \"text\": \"(0.0049,0.0007)<br>mc.brf.dss.up Data\", \"marker\": {\"color\": \"hsl(201.923076923, 40.1538461538%, 46.7435897436%)\", \"symbol\": \"star\", \"line\": {\"color\": \"black\", \"width\": 0.8}, \"size\": 20}, \"mode\": \"markers\", \"hoverinfo\": \"text\", \"y\": [0.00073582], \"x\": [0.00488512], \"type\": \"scatter\"}, {\"name\": \"mc.brf.dss.up.twosigma\", \"text\": [\"(-0.0005,0.0001)<br>True: (0.0000,0.0000)<br>mc.brf.dss.up.twosigma\", \"(0.0006,0.0012)<br>True: (0.0100,0.0000)<br>mc.brf.dss.up.twosigma\", \"(0.0031,0.0028)<br>True: (0.0200,0.0000)<br>mc.brf.dss.up.twosigma\", \"(0.0069,0.0048)<br>True: (0.0300,0.0000)<br>mc.brf.dss.up.twosigma\", \"(0.0134,0.0068)<br>True: (0.0400,0.0000)<br>mc.brf.dss.up.twosigma\", \"(-0.0002,0.0013)<br>True: (0.0000,0.0050)<br>mc.brf.dss.up.twosigma\", \"(0.0008,0.0035)<br>True: (0.0100,0.0050)<br>mc.brf.dss.up.twosigma\", \"(0.0041,0.0055)<br>True: (0.0200,0.0050)<br>mc.brf.dss.up.twosigma\", \"(0.0082,0.0092)<br>True: (0.0300,0.0050)<br>mc.brf.dss.up.twosigma\", \"(0.0157,0.0093)<br>True: (0.0400,0.0050)<br>mc.brf.dss.up.twosigma\"], \"marker\": {\"color\": \"hsl(41.6923076923, 97.8461538462%, 75.6153846154%)\", \"line\": {\"color\": \"black\", \"width\": 0.8}}, \"mode\": \"markers\", \"hoverinfo\": \"text\", \"y\": [6.889575e-05, 0.0011674884999999997, 0.0027900077499999998, 0.004752668749999999, 0.00680950275, 0.0012822475, 0.0035385290000000008, 0.00545004875, 0.009223586500000002, 0.00930333275], \"x\": [-0.0004978754999999999, 0.0005849452499999998, 0.003145548249999998, 0.006861127249999998, 0.013372943249999998, -0.00024129950000000003, 0.0007908807500000004, 0.0041427077499999986, 0.008160675499999999, 0.015671710250000002], \"type\": \"scatter\"}, {\"name\": \"mc.brf.dss.up.twosigma Data\", \"text\": \"(0.0035,0.0008)<br>mc.brf.dss.up.twosigma Data\", \"marker\": {\"color\": \"hsl(41.6923076923, 97.8461538462%, 75.6153846154%)\", \"symbol\": \"star\", \"line\": {\"color\": \"black\", \"width\": 0.8}, \"size\": 20}, \"mode\": \"markers\", \"hoverinfo\": \"text\", \"y\": [0.0007786], \"x\": [0.00351873], \"type\": \"scatter\"}, {\"name\": \"mc.brf.dstara.down\", \"text\": [\"(0.0010,0.0001)<br>True: (0.0000,0.0000)<br>mc.brf.dstara.down\", \"(0.0019,0.0015)<br>True: (0.0100,0.0000)<br>mc.brf.dstara.down\", \"(0.0062,0.0022)<br>True: (0.0200,0.0000)<br>mc.brf.dstara.down\", \"(0.0124,0.0032)<br>True: (0.0300,0.0000)<br>mc.brf.dstara.down\", \"(0.0194,0.0041)<br>True: (0.0400,0.0000)<br>mc.brf.dstara.down\", \"(0.0014,0.0015)<br>True: (0.0000,0.0050)<br>mc.brf.dstara.down\", \"(0.0041,0.0023)<br>True: (0.0100,0.0050)<br>mc.brf.dstara.down\", \"(0.0086,0.0042)<br>True: (0.0200,0.0050)<br>mc.brf.dstara.down\", \"(0.0148,0.0056)<br>True: (0.0300,0.0050)<br>mc.brf.dstara.down\", \"(0.0224,0.0073)<br>True: (0.0400,0.0050)<br>mc.brf.dstara.down\"], \"marker\": {\"color\": \"hsl(97.6666666667, 57.3333333333%, 75.6666666667%)\", \"line\": {\"color\": \"black\", \"width\": 0.8}}, \"mode\": \"markers\", \"hoverinfo\": \"text\", \"y\": [0.00012916574999999997, 0.0014740997500000005, 0.00220925725, 0.0031829050000000006, 0.0040657575, 0.0015400362499999997, 0.0023325177499999997, 0.004161378499999999, 0.005560963250000002, 0.007285269749999999], \"x\": [0.0009539687500000002, 0.00193889425, 0.006237468500000001, 0.012387587500000002, 0.019358572499999997, 0.0014234097500000005, 0.004052684500000001, 0.008569216499999997, 0.014835632499999998, 0.022373188750000002], \"type\": \"scatter\"}, {\"name\": \"mc.brf.dstara.down Data\", \"text\": \"(0.0046,0.0008)<br>mc.brf.dstara.down Data\", \"marker\": {\"color\": \"hsl(97.6666666667, 57.3333333333%, 75.6666666667%)\", \"symbol\": \"star\", \"line\": {\"color\": \"black\", \"width\": 0.8}, \"size\": 20}, \"mode\": \"markers\", \"hoverinfo\": \"text\", \"y\": [0.0007872], \"x\": [0.00455433], \"type\": \"scatter\"}, {\"name\": \"mc.brf.dstara.down.twosigma\", \"text\": [\"(0.0006,0.0007)<br>True: (0.0000,0.0000)<br>mc.brf.dstara.down.twosigma\", \"(0.0013,0.0016)<br>True: (0.0100,0.0000)<br>mc.brf.dstara.down.twosigma\", \"(0.0050,0.0031)<br>True: (0.0200,0.0000)<br>mc.brf.dstara.down.twosigma\", \"(0.0096,0.0044)<br>True: (0.0300,0.0000)<br>mc.brf.dstara.down.twosigma\", \"(0.0172,0.0056)<br>True: (0.0400,0.0000)<br>mc.brf.dstara.down.twosigma\", \"(0.0010,0.0014)<br>True: (0.0000,0.0050)<br>mc.brf.dstara.down.twosigma\", \"(0.0031,0.0031)<br>True: (0.0100,0.0050)<br>mc.brf.dstara.down.twosigma\", \"(0.0067,0.0053)<br>True: (0.0200,0.0050)<br>mc.brf.dstara.down.twosigma\", \"(0.0123,0.0075)<br>True: (0.0300,0.0050)<br>mc.brf.dstara.down.twosigma\", \"(0.0186,0.0093)<br>True: (0.0400,0.0050)<br>mc.brf.dstara.down.twosigma\"], \"marker\": {\"color\": \"hsl(86.641025641, 66.8205128205%, 76.1794871795%)\", \"line\": {\"color\": \"black\", \"width\": 0.8}}, \"mode\": \"markers\", \"hoverinfo\": \"text\", \"y\": [0.0006648407500000001, 0.0016018175000000006, 0.00309618925, 0.00440743925, 0.0056497892499999995, 0.0013812137499999997, 0.0031119187500000004, 0.00531370875, 0.007517627000000001, 0.009336090999999998], \"x\": [0.0006066902499999999, 0.0012748085000000003, 0.005022473249999999, 0.009562500249999998, 0.017230037, 0.0009656815000000003, 0.0031391617499999993, 0.00670481725, 0.01231905375, 0.018598836750000004], \"type\": \"scatter\"}, {\"name\": \"mc.brf.dstara.down.twosigma Data\", \"text\": \"(0.0032,0.0007)<br>mc.brf.dstara.down.twosigma Data\", \"marker\": {\"color\": \"hsl(86.641025641, 66.8205128205%, 76.1794871795%)\", \"symbol\": \"star\", \"line\": {\"color\": \"black\", \"width\": 0.8}, \"size\": 20}, \"mode\": \"markers\", \"hoverinfo\": \"text\", \"y\": [0.00066874], \"x\": [0.00320874], \"type\": \"scatter\"}, {\"name\": \"mc.brf.dstara.up\", \"text\": [\"(0.0006,0.0011)<br>True: (0.0000,0.0000)<br>mc.brf.dstara.up\", \"(0.0015,0.0026)<br>True: (0.0100,0.0000)<br>mc.brf.dstara.up\", \"(0.0047,0.0039)<br>True: (0.0200,0.0000)<br>mc.brf.dstara.up\", \"(0.0107,0.0057)<br>True: (0.0300,0.0000)<br>mc.brf.dstara.up\", \"(0.0182,0.0062)<br>True: (0.0400,0.0000)<br>mc.brf.dstara.up\", \"(0.0009,0.0015)<br>True: (0.0000,0.0050)<br>mc.brf.dstara.up\", \"(0.0038,0.0032)<br>True: (0.0100,0.0050)<br>mc.brf.dstara.up\", \"(0.0065,0.0065)<br>True: (0.0200,0.0050)<br>mc.brf.dstara.up\", \"(0.0127,0.0084)<br>True: (0.0300,0.0050)<br>mc.brf.dstara.up\", \"(0.0205,0.0089)<br>True: (0.0400,0.0050)<br>mc.brf.dstara.up\"], \"marker\": {\"color\": \"hsl(26.3076923077, 95.3846153846%, 66.5641025641%)\", \"line\": {\"color\": \"black\", \"width\": 0.8}}, \"mode\": \"markers\", \"hoverinfo\": \"text\", \"y\": [0.0010701774999999998, 0.002565334499999999, 0.003945362249999999, 0.005718432, 0.00615486875, 0.001530061, 0.0032263180000000015, 0.006472035500000001, 0.008378453499999999, 0.008944788750000002], \"x\": [0.0005903584999999999, 0.0014740432499999994, 0.004677454500000001, 0.01066312375, 0.018241135, 0.000889009, 0.003770049249999999, 0.006505091249999999, 0.0126876585, 0.020528139000000004], \"type\": \"scatter\"}, {\"name\": \"mc.brf.dstara.up Data\", \"text\": \"(0.0062,0.0012)<br>mc.brf.dstara.up Data\", \"marker\": {\"color\": \"hsl(26.3076923077, 95.3846153846%, 66.5641025641%)\", \"symbol\": \"star\", \"line\": {\"color\": \"black\", \"width\": 0.8}, \"size\": 20}, \"mode\": \"markers\", \"hoverinfo\": \"text\", \"y\": [0.00121103], \"x\": [0.00615502], \"type\": \"scatter\"}, {\"name\": \"mc.brf.dstara.up.twosigma\", \"text\": [\"(-0.0006,0.0013)<br>True: (0.0000,0.0000)<br>mc.brf.dstara.up.twosigma\", \"(0.0007,0.0021)<br>True: (0.0100,0.0000)<br>mc.brf.dstara.up.twosigma\", \"(0.0035,0.0035)<br>True: (0.0200,0.0000)<br>mc.brf.dstara.up.twosigma\", \"(0.0101,0.0044)<br>True: (0.0300,0.0000)<br>mc.brf.dstara.up.twosigma\", \"(0.0175,0.0049)<br>True: (0.0400,0.0000)<br>mc.brf.dstara.up.twosigma\", \"(-0.0010,0.0025)<br>True: (0.0000,0.0050)<br>mc.brf.dstara.up.twosigma\", \"(-0.0000,0.0045)<br>True: (0.0100,0.0050)<br>mc.brf.dstara.up.twosigma\", \"(0.0058,0.0057)<br>True: (0.0200,0.0050)<br>mc.brf.dstara.up.twosigma\", \"(0.0117,0.0075)<br>True: (0.0300,0.0050)<br>mc.brf.dstara.up.twosigma\", \"(0.0197,0.0083)<br>True: (0.0400,0.0050)<br>mc.brf.dstara.up.twosigma\"], \"marker\": {\"color\": \"hsl(145.923076923, 42.9230769231%, 63.2307692308%)\", \"line\": {\"color\": \"black\", \"width\": 0.8}}, \"mode\": \"markers\", \"hoverinfo\": \"text\", \"y\": [0.0012863935, 0.0020816942499999997, 0.00353142725, 0.0044001445, 0.004932387000000001, 0.0025046102500000007, 0.004501293500000001, 0.005704159000000001, 0.0075073514999999995, 0.008252961250000001], \"x\": [-0.0005906769999999998, 0.0007388529999999994, 0.003512321750000002, 0.01005464625, 0.0174682095, -0.0010207120000000004, -4.024424999999991e-05, 0.00577062125, 0.0117198165, 0.0196875495], \"type\": \"scatter\"}, {\"name\": \"mc.brf.dstara.up.twosigma Data\", \"text\": \"(0.0067,0.0009)<br>mc.brf.dstara.up.twosigma Data\", \"marker\": {\"color\": \"hsl(145.923076923, 42.9230769231%, 63.2307692308%)\", \"symbol\": \"star\", \"line\": {\"color\": \"black\", \"width\": 0.8}, \"size\": 20}, \"mode\": \"markers\", \"hoverinfo\": \"text\", \"y\": [0.00091242], \"x\": [0.00670481], \"type\": \"scatter\"}, {\"name\": \"mc.brf.rdss\", \"text\": [\"(0.0049,0.0005)<br>True: (0.0000,0.0000)<br>mc.brf.rdss\", \"(0.0076,0.0014)<br>True: (0.0100,0.0000)<br>mc.brf.rdss\", \"(0.0115,0.0022)<br>True: (0.0200,0.0000)<br>mc.brf.rdss\", \"(0.0170,0.0030)<br>True: (0.0300,0.0000)<br>mc.brf.rdss\", \"(0.0234,0.0048)<br>True: (0.0400,0.0000)<br>mc.brf.rdss\", \"(0.0058,0.0014)<br>True: (0.0000,0.0050)<br>mc.brf.rdss\", \"(0.0093,0.0025)<br>True: (0.0100,0.0050)<br>mc.brf.rdss\", \"(0.0134,0.0045)<br>True: (0.0200,0.0050)<br>mc.brf.rdss\", \"(0.0192,0.0054)<br>True: (0.0300,0.0050)<br>mc.brf.rdss\", \"(0.0252,0.0074)<br>True: (0.0400,0.0050)<br>mc.brf.rdss\"], \"marker\": {\"color\": \"hsl(167.564102564, 45.2820512821%, 55.5384615385%)\", \"line\": {\"color\": \"black\", \"width\": 0.8}}, \"mode\": \"markers\", \"hoverinfo\": \"text\", \"y\": [0.00049486975, 0.0013619042499999996, 0.0022300962500000003, 0.0029697737500000002, 0.004833065999999999, 0.0013919952499999995, 0.0024680895000000007, 0.0045269895, 0.005400285249999999, 0.007393755249999997], \"x\": [0.0049163265, 0.007624602750000001, 0.011493279000000002, 0.016969665249999998, 0.023412699999999998, 0.005775158000000001, 0.009255742, 0.013387943499999999, 0.019184062000000005, 0.0251846285], \"type\": \"scatter\"}, {\"name\": \"mc.brf.rdss Data\", \"text\": \"(0.0101,0.0008)<br>mc.brf.rdss Data\", \"marker\": {\"color\": \"hsl(167.564102564, 45.2820512821%, 55.5384615385%)\", \"symbol\": \"star\", \"line\": {\"color\": \"black\", \"width\": 0.8}, \"size\": 20}, \"mode\": \"markers\", \"hoverinfo\": \"text\", \"y\": [0.00084755], \"x\": [0.01011556], \"type\": \"scatter\"}, {\"name\": \"mc.brf.sl.p0.down\", \"text\": [\"(-0.0001,0.0002)<br>True: (0.0000,0.0000)<br>mc.brf.sl.p0.down\", \"(0.0013,0.0010)<br>True: (0.0100,0.0000)<br>mc.brf.sl.p0.down\", \"(0.0058,0.0015)<br>True: (0.0200,0.0000)<br>mc.brf.sl.p0.down\", \"(0.0110,0.0035)<br>True: (0.0300,0.0000)<br>mc.brf.sl.p0.down\", \"(0.0189,0.0045)<br>True: (0.0400,0.0000)<br>mc.brf.sl.p0.down\", \"(0.0010,0.0010)<br>True: (0.0000,0.0050)<br>mc.brf.sl.p0.down\", \"(0.0031,0.0024)<br>True: (0.0100,0.0050)<br>mc.brf.sl.p0.down\", \"(0.0070,0.0047)<br>True: (0.0200,0.0050)<br>mc.brf.sl.p0.down\", \"(0.0128,0.0063)<br>True: (0.0300,0.0050)<br>mc.brf.sl.p0.down\", \"(0.0197,0.0081)<br>True: (0.0400,0.0050)<br>mc.brf.sl.p0.down\"], \"marker\": {\"color\": \"hsl(34.0, 97.3333333333%, 71.0%)\", \"line\": {\"color\": \"black\", \"width\": 0.8}}, \"mode\": \"markers\", \"hoverinfo\": \"text\", \"y\": [0.00024246975000000005, 0.0009683582499999998, 0.0015204745, 0.0034716505000000003, 0.0045412395000000005, 0.0009869617500000002, 0.0023761395000000004, 0.004734606, 0.006271290749999998, 0.008117223500000001], \"x\": [-5.318899999999997e-05, 0.0013085904999999998, 0.00575531275, 0.010985117999999999, 0.018931779250000003, 0.0009998097500000002, 0.003115734500000001, 0.007013390500000001, 0.012810047999999997, 0.019688877499999997], \"type\": \"scatter\"}, {\"name\": \"mc.brf.sl.p0.down Data\", \"text\": \"(0.0039,0.0007)<br>mc.brf.sl.p0.down Data\", \"marker\": {\"color\": \"hsl(34.0, 97.3333333333%, 71.0%)\", \"symbol\": \"star\", \"line\": {\"color\": \"black\", \"width\": 0.8}, \"size\": 20}, \"mode\": \"markers\", \"hoverinfo\": \"text\", \"y\": [0.00067616], \"x\": [0.00385612], \"type\": \"scatter\"}, {\"name\": \"mc.brf.sl.p0.down.twosigma\", \"text\": [\"(-0.0005,0.0011)<br>True: (0.0000,0.0000)<br>mc.brf.sl.p0.down.twosigma\", \"(0.0008,0.0022)<br>True: (0.0100,0.0000)<br>mc.brf.sl.p0.down.twosigma\", \"(0.0050,0.0034)<br>True: (0.0200,0.0000)<br>mc.brf.sl.p0.down.twosigma\", \"(0.0116,0.0048)<br>True: (0.0300,0.0000)<br>mc.brf.sl.p0.down.twosigma\", \"(0.0188,0.0050)<br>True: (0.0400,0.0000)<br>mc.brf.sl.p0.down.twosigma\", \"(-0.0006,0.0026)<br>True: (0.0000,0.0050)<br>mc.brf.sl.p0.down.twosigma\", \"(0.0017,0.0040)<br>True: (0.0100,0.0050)<br>mc.brf.sl.p0.down.twosigma\", \"(0.0066,0.0060)<br>True: (0.0200,0.0050)<br>mc.brf.sl.p0.down.twosigma\", \"(0.0138,0.0072)<br>True: (0.0300,0.0050)<br>mc.brf.sl.p0.down.twosigma\", \"(0.0203,0.0085)<br>True: (0.0400,0.0050)<br>mc.brf.sl.p0.down.twosigma\"], \"marker\": {\"color\": \"hsl(183.974358974, 53.4871794872%, 49.3846153846%)\", \"line\": {\"color\": \"black\", \"width\": 0.8}}, \"mode\": \"markers\", \"hoverinfo\": \"text\", \"y\": [0.0011491130000000002, 0.00222396875, 0.0034131587500000012, 0.004828132749999999, 0.005034732, 0.00263139775, 0.0040041795, 0.006047888500000001, 0.0071776425, 0.0085013735], \"x\": [-0.0004738912499999997, 0.0008473727500000004, 0.005002861000000001, 0.011553917249999997, 0.018849031000000002, -0.0006158067499999999, 0.001667532250000001, 0.006583450500000001, 0.013768353, 0.020312406749999998], \"type\": \"scatter\"}, {\"name\": \"mc.brf.sl.p0.down.twosigma Data\", \"text\": \"(0.0049,0.0008)<br>mc.brf.sl.p0.down.twosigma Data\", \"marker\": {\"color\": \"hsl(183.974358974, 53.4871794872%, 49.3846153846%)\", \"symbol\": \"star\", \"line\": {\"color\": \"black\", \"width\": 0.8}, \"size\": 20}, \"mode\": \"markers\", \"hoverinfo\": \"text\", \"y\": [0.00076539], \"x\": [0.00490012], \"type\": \"scatter\"}, {\"name\": \"mc.brf.sl.p0.up\", \"text\": [\"(0.0001,0.0009)<br>True: (0.0000,0.0000)<br>mc.brf.sl.p0.up\", \"(0.0014,0.0016)<br>True: (0.0100,0.0000)<br>mc.brf.sl.p0.up\", \"(0.0038,0.0031)<br>True: (0.0200,0.0000)<br>mc.brf.sl.p0.up\", \"(0.0090,0.0049)<br>True: (0.0300,0.0000)<br>mc.brf.sl.p0.up\", \"(0.0176,0.0049)<br>True: (0.0400,0.0000)<br>mc.brf.sl.p0.up\", \"(-0.0004,0.0021)<br>True: (0.0000,0.0050)<br>mc.brf.sl.p0.up\", \"(0.0020,0.0030)<br>True: (0.0100,0.0050)<br>mc.brf.sl.p0.up\", \"(0.0063,0.0046)<br>True: (0.0200,0.0050)<br>mc.brf.sl.p0.up\", \"(0.0118,0.0072)<br>True: (0.0300,0.0050)<br>mc.brf.sl.p0.up\", \"(0.0187,0.0093)<br>True: (0.0400,0.0050)<br>mc.brf.sl.p0.up\"], \"marker\": {\"color\": \"hsl(205.0, 34.0%, 47.0%)\", \"line\": {\"color\": \"black\", \"width\": 0.8}}, \"mode\": \"markers\", \"hoverinfo\": \"text\", \"y\": [0.0009430659999999999, 0.0016061152499999998, 0.0031090005, 0.00487389625, 0.004937287, 0.0021444242499999997, 0.0030426295, 0.0046298797499999995, 0.007174956999999998, 0.009286147500000001], \"x\": [0.00010340025000000002, 0.0014128400000000003, 0.003820938999999999, 0.00898462275, 0.017577797, -0.00038512075, 0.0019919132499999995, 0.006299467499999999, 0.011787548750000001, 0.018710046999999997], \"type\": \"scatter\"}, {\"name\": \"mc.brf.sl.p0.up Data\", \"text\": \"(0.0044,0.0007)<br>mc.brf.sl.p0.up Data\", \"marker\": {\"color\": \"hsl(205.0, 34.0%, 47.0%)\", \"symbol\": \"star\", \"line\": {\"color\": \"black\", \"width\": 0.8}, \"size\": 20}, \"mode\": \"markers\", \"hoverinfo\": \"text\", \"y\": [0.00066221], \"x\": [0.0044154], \"type\": \"scatter\"}, {\"name\": \"mc.brf.sl.p0.up.twosigma\", \"text\": [\"(-0.0005,0.0008)<br>True: (0.0000,0.0000)<br>mc.brf.sl.p0.up.twosigma\", \"(0.0013,0.0016)<br>True: (0.0100,0.0000)<br>mc.brf.sl.p0.up.twosigma\", \"(0.0049,0.0031)<br>True: (0.0200,0.0000)<br>mc.brf.sl.p0.up.twosigma\", \"(0.0118,0.0039)<br>True: (0.0300,0.0000)<br>mc.brf.sl.p0.up.twosigma\", \"(0.0200,0.0046)<br>True: (0.0400,0.0000)<br>mc.brf.sl.p0.up.twosigma\", \"(0.0003,0.0019)<br>True: (0.0000,0.0050)<br>mc.brf.sl.p0.up.twosigma\", \"(0.0036,0.0034)<br>True: (0.0100,0.0050)<br>mc.brf.sl.p0.up.twosigma\", \"(0.0079,0.0050)<br>True: (0.0200,0.0050)<br>mc.brf.sl.p0.up.twosigma\", \"(0.0140,0.0070)<br>True: (0.0300,0.0050)<br>mc.brf.sl.p0.up.twosigma\", \"(0.0214,0.0078)<br>True: (0.0400,0.0050)<br>mc.brf.sl.p0.up.twosigma\"], \"marker\": {\"color\": \"hsl(198.846153846, 46.3076923077%, 46.4871794872%)\", \"line\": {\"color\": \"black\", \"width\": 0.8}}, \"mode\": \"markers\", \"hoverinfo\": \"text\", \"y\": [0.0008097749999999999, 0.0016308370000000002, 0.0031465732499999987, 0.0038738835, 0.00455169475, 0.0018723930000000004, 0.0033978182500000002, 0.005018314999999999, 0.007024069749999999, 0.007772959500000001], \"x\": [-0.00049968525, 0.0012686552500000003, 0.0049218000000000005, 0.011788988, 0.019962885, 0.00025484575, 0.0036188700000000015, 0.0079095735, 0.014011593750000002, 0.0214144145], \"type\": \"scatter\"}, {\"name\": \"mc.brf.sl.p0.up.twosigma Data\", \"text\": \"(0.0057,0.0009)<br>mc.brf.sl.p0.up.twosigma Data\", \"marker\": {\"color\": \"hsl(198.846153846, 46.3076923077%, 46.4871794872%)\", \"symbol\": \"star\", \"line\": {\"color\": \"black\", \"width\": 0.8}, \"size\": 20}, \"mode\": \"markers\", \"hoverinfo\": \"text\", \"y\": [0.0008871], \"x\": [0.00567584], \"type\": \"scatter\"}, {\"name\": \"mc.brf.sl.p1.down\", \"text\": [\"(-0.0007,0.0044)<br>True: (0.0000,0.0000)<br>mc.brf.sl.p1.down\", \"(-0.0007,0.0067)<br>True: (0.0100,0.0000)<br>mc.brf.sl.p1.down\", \"(0.0010,0.0089)<br>True: (0.0200,0.0000)<br>mc.brf.sl.p1.down\", \"(0.0052,0.0108)<br>True: (0.0300,0.0000)<br>mc.brf.sl.p1.down\", \"(0.0111,0.0127)<br>True: (0.0400,0.0000)<br>mc.brf.sl.p1.down\", \"(-0.0012,0.0064)<br>True: (0.0000,0.0050)<br>mc.brf.sl.p1.down\", \"(-0.0004,0.0089)<br>True: (0.0100,0.0050)<br>mc.brf.sl.p1.down\", \"(0.0026,0.0116)<br>True: (0.0200,0.0050)<br>mc.brf.sl.p1.down\", \"(0.0073,0.0133)<br>True: (0.0300,0.0050)<br>mc.brf.sl.p1.down\", \"(0.0137,0.0155)<br>True: (0.0400,0.0050)<br>mc.brf.sl.p1.down\"], \"marker\": {\"color\": \"hsl(257.384615385, 70.7692307692%, 54.9743589744%)\", \"line\": {\"color\": \"black\", \"width\": 0.8}}, \"mode\": \"markers\", \"hoverinfo\": \"text\", \"y\": [0.004379091, 0.006736516499999999, 0.008927974499999998, 0.010802395499999997, 0.012741809500000001, 0.0064245167499999995, 0.008858335249999998, 0.011557909000000002, 0.013258797250000006, 0.015477646249999998], \"x\": [-0.00072225675, -0.0007422582500000007, 0.0010320477500000008, 0.0051657994999999984, 0.01105277525, -0.00117658925, -0.0003523515000000005, 0.002640907750000001, 0.00729205275, 0.013698732499999998], \"type\": \"scatter\"}, {\"name\": \"mc.brf.sl.p1.down Data\", \"text\": \"(0.0028,0.0050)<br>mc.brf.sl.p1.down Data\", \"marker\": {\"color\": \"hsl(257.384615385, 70.7692307692%, 54.9743589744%)\", \"symbol\": \"star\", \"line\": {\"color\": \"black\", \"width\": 0.8}, \"size\": 20}, \"mode\": \"markers\", \"hoverinfo\": \"text\", \"y\": [0.00498911], \"x\": [0.00278224], \"type\": \"scatter\"}, {\"name\": \"mc.brf.sl.p1.down.twosigma\", \"text\": [\"(-0.0009,0.0013)<br>True: (0.0000,0.0000)<br>mc.brf.sl.p1.down.twosigma\", \"(0.0003,0.0025)<br>True: (0.0100,0.0000)<br>mc.brf.sl.p1.down.twosigma\", \"(0.0030,0.0044)<br>True: (0.0200,0.0000)<br>mc.brf.sl.p1.down.twosigma\", \"(0.0088,0.0059)<br>True: (0.0300,0.0000)<br>mc.brf.sl.p1.down.twosigma\", \"(0.0164,0.0066)<br>True: (0.0400,0.0000)<br>mc.brf.sl.p1.down.twosigma\", \"(-0.0015,0.0030)<br>True: (0.0000,0.0050)<br>mc.brf.sl.p1.down.twosigma\", \"(0.0014,0.0042)<br>True: (0.0100,0.0050)<br>mc.brf.sl.p1.down.twosigma\", \"(0.0053,0.0069)<br>True: (0.0200,0.0050)<br>mc.brf.sl.p1.down.twosigma\", \"(0.0110,0.0083)<br>True: (0.0300,0.0050)<br>mc.brf.sl.p1.down.twosigma\", \"(0.0193,0.0094)<br>True: (0.0400,0.0050)<br>mc.brf.sl.p1.down.twosigma\"], \"marker\": {\"color\": \"hsl(339.615384615, 89.2820512821%, 36.641025641%)\", \"line\": {\"color\": \"black\", \"width\": 0.8}}, \"mode\": \"markers\", \"hoverinfo\": \"text\", \"y\": [0.00132910025, 0.0025059500000000007, 0.00443603825, 0.00588800075, 0.006642708250000001, 0.00304188525, 0.00421854225, 0.006916770250000001, 0.008346012499999998, 0.0094174085], \"x\": [-0.0009101865000000003, 0.0002549619999999992, 0.0029737175000000005, 0.00883617825, 0.016422170750000003, -0.0014933897500000002, 0.0013603932499999995, 0.005306731249999998, 0.010993753250000002, 0.01926881675], \"type\": \"scatter\"}, {\"name\": \"mc.brf.sl.p1.down.twosigma Data\", \"text\": \"(0.0050,0.0011)<br>mc.brf.sl.p1.down.twosigma Data\", \"marker\": {\"color\": \"hsl(339.615384615, 89.2820512821%, 36.641025641%)\", \"symbol\": \"star\", \"line\": {\"color\": \"black\", \"width\": 0.8}, \"size\": 20}, \"mode\": \"markers\", \"hoverinfo\": \"text\", \"y\": [0.00105989], \"x\": [0.00501981], \"type\": \"scatter\"}, {\"name\": \"mc.brf.sl.p1.up\", \"text\": [\"(0.0061,-0.0006)<br>True: (0.0000,0.0000)<br>mc.brf.sl.p1.up\", \"(0.0089,-0.0004)<br>True: (0.0100,0.0000)<br>mc.brf.sl.p1.up\", \"(0.0134,0.0000)<br>True: (0.0200,0.0000)<br>mc.brf.sl.p1.up\", \"(0.0179,0.0012)<br>True: (0.0300,0.0000)<br>mc.brf.sl.p1.up\", \"(0.0251,0.0021)<br>True: (0.0400,0.0000)<br>mc.brf.sl.p1.up\", \"(0.0071,0.0003)<br>True: (0.0000,0.0050)<br>mc.brf.sl.p1.up\", \"(0.0108,0.0006)<br>True: (0.0100,0.0050)<br>mc.brf.sl.p1.up\", \"(0.0161,0.0010)<br>True: (0.0200,0.0050)<br>mc.brf.sl.p1.up\", \"(0.0209,0.0027)<br>True: (0.0300,0.0050)<br>mc.brf.sl.p1.up\", \"(0.0279,0.0038)<br>True: (0.0400,0.0050)<br>mc.brf.sl.p1.up\"], \"marker\": {\"color\": \"hsl(158.487179487, 42.1538461538%, 58.8717948718%)\", \"line\": {\"color\": \"black\", \"width\": 0.8}}, \"mode\": \"markers\", \"hoverinfo\": \"text\", \"y\": [-0.0005562766666666666, -0.00043855475, 3.462174999999997e-05, 0.0012241309999999996, 0.00210949825, 0.00032780124999999983, 0.0005825830000000002, 0.00097251525, 0.0026595167500000003, 0.0038390799999999995], \"x\": [0.0060864346153846165, 0.008904526749999999, 0.013408712999999994, 0.017928336250000003, 0.02510015525, 0.00714454375, 0.010829658249999999, 0.016095419499999996, 0.020890849749999996, 0.027862914749999995], \"type\": \"scatter\"}, {\"name\": \"mc.brf.sl.p1.up Data\", \"text\": \"(0.0109,0.0005)<br>mc.brf.sl.p1.up Data\", \"marker\": {\"color\": \"hsl(158.487179487, 42.1538461538%, 58.8717948718%)\", \"symbol\": \"star\", \"line\": {\"color\": \"black\", \"width\": 0.8}, \"size\": 20}, \"mode\": \"markers\", \"hoverinfo\": \"text\", \"y\": [0.00050138], \"x\": [0.01093976], \"type\": \"scatter\"}, {\"name\": \"mc.brf.sl.p1.up.twosigma\", \"text\": [\"(0.0001,-0.0000)<br>True: (0.0000,0.0000)<br>mc.brf.sl.p1.up.twosigma\", \"(0.0017,0.0020)<br>True: (0.0100,0.0000)<br>mc.brf.sl.p1.up.twosigma\", \"(0.0057,0.0028)<br>True: (0.0200,0.0000)<br>mc.brf.sl.p1.up.twosigma\", \"(0.0130,0.0040)<br>True: (0.0300,0.0000)<br>mc.brf.sl.p1.up.twosigma\", \"(0.0205,0.0044)<br>True: (0.0400,0.0000)<br>mc.brf.sl.p1.up.twosigma\", \"(-0.0000,0.0024)<br>True: (0.0000,0.0050)<br>mc.brf.sl.p1.up.twosigma\", \"(0.0030,0.0040)<br>True: (0.0100,0.0050)<br>mc.brf.sl.p1.up.twosigma\", \"(0.0073,0.0059)<br>True: (0.0200,0.0050)<br>mc.brf.sl.p1.up.twosigma\", \"(0.0134,0.0074)<br>True: (0.0300,0.0050)<br>mc.brf.sl.p1.up.twosigma\", \"(0.0227,0.0076)<br>True: (0.0400,0.0050)<br>mc.brf.sl.p1.up.twosigma\"], \"marker\": {\"color\": \"hsl(344.230769231, 80.5641025641%, 42.2820512821%)\", \"line\": {\"color\": \"black\", \"width\": 0.8}}, \"mode\": \"markers\", \"hoverinfo\": \"text\", \"y\": [-3.275024999999999e-05, 0.002048146250000001, 0.0028083645, 0.00403189775, 0.00440605575, 0.0023645869999999996, 0.0039727027499999994, 0.00594206425, 0.007387914999999999, 0.007564692499999999], \"x\": [0.00011068899999999989, 0.0017383320000000004, 0.00574304575, 0.012952332500000004, 0.020543190500000003, -2.8789250000000016e-05, 0.003035347, 0.00734130975, 0.013406237249999998, 0.022704008250000005], \"type\": \"scatter\"}, {\"name\": \"mc.brf.sl.p1.up.twosigma Data\", \"text\": \"(0.0061,0.0007)<br>mc.brf.sl.p1.up.twosigma Data\", \"marker\": {\"color\": \"hsl(344.230769231, 80.5641025641%, 42.2820512821%)\", \"symbol\": \"star\", \"line\": {\"color\": \"black\", \"width\": 0.8}, \"size\": 20}, \"mode\": \"markers\", \"hoverinfo\": \"text\", \"y\": [0.00065665], \"x\": [0.00606192], \"type\": \"scatter\"}, {\"name\": \"mc.brf.strange.down\", \"text\": [\"(0.0000,0.0011)<br>True: (0.0000,0.0000)<br>mc.brf.strange.down\", \"(0.0018,0.0022)<br>True: (0.0100,0.0000)<br>mc.brf.strange.down\", \"(0.0062,0.0034)<br>True: (0.0200,0.0000)<br>mc.brf.strange.down\", \"(0.0121,0.0042)<br>True: (0.0300,0.0000)<br>mc.brf.strange.down\", \"(0.0193,0.0056)<br>True: (0.0400,0.0000)<br>mc.brf.strange.down\", \"(0.0010,0.0022)<br>True: (0.0000,0.0050)<br>mc.brf.strange.down\", \"(0.0029,0.0043)<br>True: (0.0100,0.0050)<br>mc.brf.strange.down\", \"(0.0081,0.0059)<br>True: (0.0200,0.0050)<br>mc.brf.strange.down\", \"(0.0138,0.0073)<br>True: (0.0300,0.0050)<br>mc.brf.strange.down\", \"(0.0220,0.0082)<br>True: (0.0400,0.0050)<br>mc.brf.strange.down\"], \"marker\": {\"color\": \"hsl(65.7692307692, 88.4615384615%, 80.5897435897%)\", \"line\": {\"color\": \"black\", \"width\": 0.8}}, \"mode\": \"markers\", \"hoverinfo\": \"text\", \"y\": [0.0011435239999999997, 0.0021890740000000005, 0.0033978597500000005, 0.0041641647499999985, 0.005613024750000001, 0.0021584160000000007, 0.004315099, 0.0058635300000000005, 0.007288618249999999, 0.008158775000000002], \"x\": [6.6609999999999825e-06, 0.00183585675, 0.0062364477500000005, 0.012131335, 0.019328775000000003, 0.0010406890000000002, 0.00292980625, 0.008093749249999999, 0.013796978500000008, 0.022008754499999998], \"type\": \"scatter\"}, {\"name\": \"mc.brf.strange.down Data\", \"text\": \"(0.0057,0.0008)<br>mc.brf.strange.down Data\", \"marker\": {\"color\": \"hsl(65.7692307692, 88.4615384615%, 80.5897435897%)\", \"symbol\": \"star\", \"line\": {\"color\": \"black\", \"width\": 0.8}, \"size\": 20}, \"mode\": \"markers\", \"hoverinfo\": \"text\", \"y\": [0.0008341], \"x\": [0.0056667], \"type\": \"scatter\"}, {\"name\": \"mc.brf.strange.down.twosigma\", \"text\": [\"(0.0003,0.0002)<br>True: (0.0000,0.0000)<br>mc.brf.strange.down.twosigma\", \"(0.0010,0.0018)<br>True: (0.0100,0.0000)<br>mc.brf.strange.down.twosigma\", \"(0.0029,0.0034)<br>True: (0.0200,0.0000)<br>mc.brf.strange.down.twosigma\", \"(0.0085,0.0053)<br>True: (0.0300,0.0000)<br>mc.brf.strange.down.twosigma\", \"(0.0156,0.0062)<br>True: (0.0400,0.0000)<br>mc.brf.strange.down.twosigma\", \"(-0.0001,0.0017)<br>True: (0.0000,0.0050)<br>mc.brf.strange.down.twosigma\", \"(0.0021,0.0033)<br>True: (0.0100,0.0050)<br>mc.brf.strange.down.twosigma\", \"(0.0048,0.0061)<br>True: (0.0200,0.0050)<br>mc.brf.strange.down.twosigma\", \"(0.0107,0.0081)<br>True: (0.0300,0.0050)<br>mc.brf.strange.down.twosigma\", \"(0.0178,0.0095)<br>True: (0.0400,0.0050)<br>mc.brf.strange.down.twosigma\"], \"marker\": {\"color\": \"hsl(49.7435897436, 98.7179487179%, 80.5897435897%)\", \"line\": {\"color\": \"black\", \"width\": 0.8}}, \"mode\": \"markers\", \"hoverinfo\": \"text\", \"y\": [0.0002024939999999999, 0.0017525607499999998, 0.0033717634999999996, 0.005295964249999999, 0.006182934249999998, 0.0017290597500000003, 0.0032858964999999997, 0.006113575749999999, 0.008071982000000002, 0.009533008499999999], \"x\": [0.00033723524999999994, 0.0010169459999999995, 0.002886424250000002, 0.008471463500000002, 0.015577462, -8.160874999999997e-05, 0.00213824925, 0.00475162875, 0.010698967250000004, 0.017834837749999992], \"type\": \"scatter\"}, {\"name\": \"mc.brf.strange.down.twosigma Data\", \"text\": \"(0.0033,0.0008)<br>mc.brf.strange.down.twosigma Data\", \"marker\": {\"color\": \"hsl(49.7435897436, 98.7179487179%, 80.5897435897%)\", \"symbol\": \"star\", \"line\": {\"color\": \"black\", \"width\": 0.8}, \"size\": 20}, \"mode\": \"markers\", \"hoverinfo\": \"text\", \"y\": [0.00081584], \"x\": [0.00326381], \"type\": \"scatter\"}, {\"name\": \"mc.brf.strange.up\", \"text\": [\"(0.0006,0.0019)<br>True: (0.0000,0.0000)<br>mc.brf.strange.up\", \"(0.0016,0.0031)<br>True: (0.0100,0.0000)<br>mc.brf.strange.up\", \"(0.0032,0.0054)<br>True: (0.0200,0.0000)<br>mc.brf.strange.up\", \"(0.0071,0.0071)<br>True: (0.0300,0.0000)<br>mc.brf.strange.up\", \"(0.0139,0.0082)<br>True: (0.0400,0.0000)<br>mc.brf.strange.up\", \"(0.0006,0.0029)<br>True: (0.0000,0.0050)<br>mc.brf.strange.up\", \"(0.0008,0.0056)<br>True: (0.0100,0.0050)<br>mc.brf.strange.up\", \"(0.0036,0.0083)<br>True: (0.0200,0.0050)<br>mc.brf.strange.up\", \"(0.0086,0.0105)<br>True: (0.0300,0.0050)<br>mc.brf.strange.up\", \"(0.0153,0.0122)<br>True: (0.0400,0.0050)<br>mc.brf.strange.up\"], \"marker\": {\"color\": \"hsl(37.8461538462, 97.5897435897%, 73.3076923077%)\", \"line\": {\"color\": \"black\", \"width\": 0.8}}, \"mode\": \"markers\", \"hoverinfo\": \"text\", \"y\": [0.0019115247500000002, 0.0030829509999999996, 0.005422831249999999, 0.007104487, 0.008160582250000003, 0.0029144837500000003, 0.0055593844999999985, 0.00833563825, 0.010479846749999999, 0.012162445999999999], \"x\": [0.00058839275, 0.0015559467500000004, 0.003180530000000001, 0.00709264075, 0.013883198750000002, 0.0006059662499999999, 0.0008051512500000003, 0.003641349500000002, 0.008610383000000003, 0.015349492250000003], \"type\": \"scatter\"}, {\"name\": \"mc.brf.strange.up Data\", \"text\": \"(0.0061,0.0020)<br>mc.brf.strange.up Data\", \"marker\": {\"color\": \"hsl(37.8461538462, 97.5897435897%, 73.3076923077%)\", \"symbol\": \"star\", \"line\": {\"color\": \"black\", \"width\": 0.8}, \"size\": 20}, \"mode\": \"markers\", \"hoverinfo\": \"text\", \"y\": [0.00197759], \"x\": [0.0061267], \"type\": \"scatter\"}, {\"name\": \"mc.brf.strange.up.twosigma\", \"text\": [\"(0.0007,0.0022)<br>True: (0.0000,0.0000)<br>mc.brf.strange.up.twosigma\", \"(0.0020,0.0034)<br>True: (0.0100,0.0000)<br>mc.brf.strange.up.twosigma\", \"(0.0055,0.0051)<br>True: (0.0200,0.0000)<br>mc.brf.strange.up.twosigma\", \"(0.0125,0.0058)<br>True: (0.0300,0.0000)<br>mc.brf.strange.up.twosigma\", \"(0.0198,0.0063)<br>True: (0.0400,0.0000)<br>mc.brf.strange.up.twosigma\", \"(-0.0001,0.0040)<br>True: (0.0000,0.0050)<br>mc.brf.strange.up.twosigma\", \"(0.0028,0.0056)<br>True: (0.0100,0.0050)<br>mc.brf.strange.up.twosigma\", \"(0.0079,0.0073)<br>True: (0.0200,0.0050)<br>mc.brf.strange.up.twosigma\", \"(0.0144,0.0088)<br>True: (0.0300,0.0050)<br>mc.brf.strange.up.twosigma\", \"(0.0217,0.0094)<br>True: (0.0400,0.0050)<br>mc.brf.strange.up.twosigma\"], \"marker\": {\"color\": \"hsl(83.5384615385, 83.0769230769%, 58.5641025641%)\", \"line\": {\"color\": \"black\", \"width\": 0.8}}, \"mode\": \"markers\", \"hoverinfo\": \"text\", \"y\": [0.00218731775, 0.00336252275, 0.005093703250000001, 0.005849028500000001, 0.00627016225, 0.0040388907499999994, 0.005584392249999999, 0.007274227250000001, 0.008832705750000001, 0.00944094125], \"x\": [0.00070671, 0.0020460722499999993, 0.00550790575, 0.012484593499999998, 0.019770938999999998, -0.00010671450000000003, 0.002818515999999999, 0.007903696500000001, 0.014367671750000002, 0.02166438975], \"type\": \"scatter\"}, {\"name\": \"mc.brf.strange.up.twosigma Data\", \"text\": \"(0.0078,0.0011)<br>mc.brf.strange.up.twosigma Data\", \"marker\": {\"color\": \"hsl(83.5384615385, 83.0769230769%, 58.5641025641%)\", \"symbol\": \"star\", \"line\": {\"color\": \"black\", \"width\": 0.8}, \"size\": 20}, \"mode\": \"markers\", \"hoverinfo\": \"text\", \"y\": [0.00109663], \"x\": [0.00775344], \"type\": \"scatter\"}, {\"name\": \"mc.crosscheck\", \"text\": [\"(-0.0007,0.0013)<br>True: (0.0000,0.0000)<br>mc.crosscheck\", \"(0.0011,0.0021)<br>True: (0.0100,0.0000)<br>mc.crosscheck\", \"(0.0039,0.0029)<br>True: (0.0200,0.0000)<br>mc.crosscheck\", \"(0.0113,0.0037)<br>True: (0.0300,0.0000)<br>mc.crosscheck\", \"(0.0189,0.0043)<br>True: (0.0400,0.0000)<br>mc.crosscheck\", \"(-0.0001,0.0020)<br>True: (0.0000,0.0050)<br>mc.crosscheck\", \"(0.0020,0.0033)<br>True: (0.0100,0.0050)<br>mc.crosscheck\", \"(0.0069,0.0048)<br>True: (0.0200,0.0050)<br>mc.crosscheck\", \"(0.0143,0.0057)<br>True: (0.0300,0.0050)<br>mc.crosscheck\", \"(0.0224,0.0065)<br>True: (0.0400,0.0050)<br>mc.crosscheck\"], \"marker\": {\"color\": \"hsl(30.1538461538, 97.0769230769%, 68.6923076923%)\", \"line\": {\"color\": \"black\", \"width\": 0.8}}, \"mode\": \"markers\", \"hoverinfo\": \"text\", \"y\": [0.0013241684999999999, 0.00213146475, 0.0028504255000000004, 0.0036631122500000004, 0.004342099999999999, 0.002017113, 0.0032571085000000005, 0.00483900325, 0.005692096750000002, 0.00648687075], \"x\": [-0.0006989032499999999, 0.001093852000000001, 0.003907770250000001, 0.011295434, 0.01886941275, -7.715049999999996e-05, 0.0019704625000000007, 0.006861365000000001, 0.01425908575, 0.022371203500000006], \"type\": \"scatter\"}, {\"name\": \"mc.crosscheck Data\", \"text\": \"(0.0042,0.0008)<br>mc.crosscheck Data\", \"marker\": {\"color\": \"hsl(30.1538461538, 97.0769230769%, 68.6923076923%)\", \"symbol\": \"star\", \"line\": {\"color\": \"black\", \"width\": 0.8}, \"size\": 20}, \"mode\": \"markers\", \"hoverinfo\": \"text\", \"y\": [0.00084034], \"x\": [0.00417864], \"type\": \"scatter\"}, {\"name\": \"mc.dssdpipi\", \"text\": [\"(0.0010,0.0005)<br>True: (0.0000,0.0000)<br>mc.dssdpipi\", \"(0.0024,0.0013)<br>True: (0.0100,0.0000)<br>mc.dssdpipi\", \"(0.0051,0.0029)<br>True: (0.0200,0.0000)<br>mc.dssdpipi\", \"(0.0112,0.0041)<br>True: (0.0300,0.0000)<br>mc.dssdpipi\", \"(0.0171,0.0062)<br>True: (0.0400,0.0000)<br>mc.dssdpipi\", \"(0.0013,0.0012)<br>True: (0.0000,0.0050)<br>mc.dssdpipi\", \"(0.0028,0.0037)<br>True: (0.0100,0.0050)<br>mc.dssdpipi\", \"(0.0071,0.0057)<br>True: (0.0200,0.0050)<br>mc.dssdpipi\", \"(0.0125,0.0079)<br>True: (0.0300,0.0050)<br>mc.dssdpipi\", \"(0.0184,0.0093)<br>True: (0.0400,0.0050)<br>mc.dssdpipi\"], \"marker\": {\"color\": \"hsl(61.1538461538, 97.6923076923%, 85.7179487179%)\", \"line\": {\"color\": \"black\", \"width\": 0.8}}, \"mode\": \"markers\", \"hoverinfo\": \"text\", \"y\": [0.0005002892500000001, 0.0013172175, 0.002918201, 0.004050650000000001, 0.006168491249999999, 0.0012470839999999999, 0.0036813155000000007, 0.00572296575, 0.007928466249999998, 0.009281799999999998], \"x\": [0.0010356465, 0.0024159232500000002, 0.005066323000000001, 0.011176247500000003, 0.0171108445, 0.0013329307500000002, 0.0028168505, 0.0071391079999999964, 0.012495964999999998, 0.01841945425], \"type\": \"scatter\"}, {\"name\": \"mc.dssdpipi Data\", \"text\": \"(0.0047,0.0009)<br>mc.dssdpipi Data\", \"marker\": {\"color\": \"hsl(61.1538461538, 97.6923076923%, 85.7179487179%)\", \"symbol\": \"star\", \"line\": {\"color\": \"black\", \"width\": 0.8}, \"size\": 20}, \"mode\": \"markers\", \"hoverinfo\": \"text\", \"y\": [0.00090092], \"x\": [0.00473568], \"type\": \"scatter\"}, {\"name\": \"mc.ff.llswb2\", \"text\": [\"(0.0011,0.0051)<br>True: (0.0000,0.0000)<br>mc.ff.llswb2\", \"(0.0032,0.0056)<br>True: (0.0100,0.0000)<br>mc.ff.llswb2\", \"(0.0070,0.0069)<br>True: (0.0200,0.0000)<br>mc.ff.llswb2\", \"(0.0132,0.0070)<br>True: (0.0300,0.0000)<br>mc.ff.llswb2\", \"(0.0215,0.0073)<br>True: (0.0400,0.0000)<br>mc.ff.llswb2\", \"(0.0010,0.0056)<br>True: (0.0000,0.0050)<br>mc.ff.llswb2\", \"(0.0040,0.0069)<br>True: (0.0100,0.0050)<br>mc.ff.llswb2\", \"(0.0093,0.0076)<br>True: (0.0200,0.0050)<br>mc.ff.llswb2\", \"(0.0163,0.0083)<br>True: (0.0300,0.0050)<br>mc.ff.llswb2\", \"(0.0229,0.0095)<br>True: (0.0400,0.0050)<br>mc.ff.llswb2\"], \"marker\": {\"color\": \"hsl(195.769230769, 52.4615384615%, 46.2307692308%)\", \"line\": {\"color\": \"black\", \"width\": 0.8}}, \"mode\": \"markers\", \"hoverinfo\": \"text\", \"y\": [0.005077441750000001, 0.0056135594999999995, 0.00689882825, 0.007008336250000001, 0.007288570249999998, 0.005614783, 0.00691586025, 0.007564548500000001, 0.00834509425, 0.009478661500000003], \"x\": [0.0010609547500000003, 0.0032464195, 0.006963737249999999, 0.013246631999999998, 0.021487207749999997, 0.0010342814999999997, 0.004009938000000001, 0.00926319725, 0.016324632, 0.02285418175], \"type\": \"scatter\"}, {\"name\": \"mc.ff.llswb2 Data\", \"text\": \"(0.0106,0.0013)<br>mc.ff.llswb2 Data\", \"marker\": {\"color\": \"hsl(195.769230769, 52.4615384615%, 46.2307692308%)\", \"symbol\": \"star\", \"line\": {\"color\": \"black\", \"width\": 0.8}, \"size\": 20}, \"mode\": \"markers\", \"hoverinfo\": \"text\", \"y\": [0.00126754], \"x\": [0.01057984], \"type\": \"scatter\"}, {\"name\": \"mc.ff.p0.down\", \"text\": [\"(0.0002,0.0009)<br>True: (0.0000,0.0000)<br>mc.ff.p0.down\", \"(0.0013,0.0018)<br>True: (0.0100,0.0000)<br>mc.ff.p0.down\", \"(0.0047,0.0030)<br>True: (0.0200,0.0000)<br>mc.ff.p0.down\", \"(0.0103,0.0042)<br>True: (0.0300,0.0000)<br>mc.ff.p0.down\", \"(0.0174,0.0055)<br>True: (0.0400,0.0000)<br>mc.ff.p0.down\", \"(0.0010,0.0012)<br>True: (0.0000,0.0050)<br>mc.ff.p0.down\", \"(0.0029,0.0023)<br>True: (0.0100,0.0050)<br>mc.ff.p0.down\", \"(0.0068,0.0047)<br>True: (0.0200,0.0050)<br>mc.ff.p0.down\", \"(0.0129,0.0069)<br>True: (0.0300,0.0050)<br>mc.ff.p0.down\", \"(0.0199,0.0079)<br>True: (0.0400,0.0050)<br>mc.ff.p0.down\"], \"marker\": {\"color\": \"hsl(170.461538462, 76.9230769231%, 56.7692307692%)\", \"line\": {\"color\": \"black\", \"width\": 0.8}}, \"mode\": \"markers\", \"hoverinfo\": \"text\", \"y\": [0.00087120925, 0.0018135377499999994, 0.00302950375, 0.004160212750000001, 0.00553117275, 0.0012050464999999997, 0.0023250937500000008, 0.004745613000000001, 0.006877571499999999, 0.007947203750000003], \"x\": [0.00023073625, 0.0013342682499999994, 0.0047190489999999995, 0.010343310249999998, 0.017445849999999995, 0.0009694020000000001, 0.00288340575, 0.006810686999999999, 0.012937604500000002, 0.019924865499999993], \"type\": \"scatter\"}, {\"name\": \"mc.ff.p0.down Data\", \"text\": \"(0.0027,0.0008)<br>mc.ff.p0.down Data\", \"marker\": {\"color\": \"hsl(170.461538462, 76.9230769231%, 56.7692307692%)\", \"symbol\": \"star\", \"line\": {\"color\": \"black\", \"width\": 0.8}, \"size\": 20}, \"mode\": \"markers\", \"hoverinfo\": \"text\", \"y\": [0.00078978], \"x\": [0.00266511], \"type\": \"scatter\"}, {\"name\": \"mc.ff.p0.up\", \"text\": [\"(-0.0002,0.0029)<br>True: (0.0000,0.0000)<br>mc.ff.p0.up\", \"(0.0001,0.0044)<br>True: (0.0100,0.0000)<br>mc.ff.p0.up\", \"(0.0013,0.0068)<br>True: (0.0200,0.0000)<br>mc.ff.p0.up\", \"(0.0052,0.0088)<br>True: (0.0300,0.0000)<br>mc.ff.p0.up\", \"(0.0103,0.0107)<br>True: (0.0400,0.0000)<br>mc.ff.p0.up\", \"(-0.0008,0.0045)<br>True: (0.0000,0.0050)<br>mc.ff.p0.up\", \"(0.0004,0.0070)<br>True: (0.0100,0.0050)<br>mc.ff.p0.up\", \"(0.0028,0.0094)<br>True: (0.0200,0.0050)<br>mc.ff.p0.up\", \"(0.0061,0.0121)<br>True: (0.0300,0.0050)<br>mc.ff.p0.up\", \"(0.0128,0.0131)<br>True: (0.0400,0.0050)<br>mc.ff.p0.up\"], \"marker\": {\"color\": \"hsl(68.0769230769, 83.8461538462%, 78.0256410256%)\", \"line\": {\"color\": \"black\", \"width\": 0.8}}, \"mode\": \"markers\", \"hoverinfo\": \"text\", \"y\": [0.002922210249999999, 0.0043702557500000004, 0.006835503499999998, 0.008779005500000001, 0.010743959749999999, 0.0044890225, 0.00697862525, 0.009447228, 0.01205295475, 0.013124002], \"x\": [-0.00021489025000000006, 8.758099999999977e-05, 0.0013230772499999988, 0.005155429250000003, 0.010336383249999997, -0.0007847432500000002, 0.0004258447499999995, 0.0027987470000000007, 0.006069078749999998, 0.0128288345], \"type\": \"scatter\"}, {\"name\": \"mc.ff.p0.up Data\", \"text\": \"(0.0036,0.0030)<br>mc.ff.p0.up Data\", \"marker\": {\"color\": \"hsl(68.0769230769, 83.8461538462%, 78.0256410256%)\", \"symbol\": \"star\", \"line\": {\"color\": \"black\", \"width\": 0.8}, \"size\": 20}, \"mode\": \"markers\", \"hoverinfo\": \"text\", \"y\": [0.00301348], \"x\": [0.00359724], \"type\": \"scatter\"}, {\"name\": \"mc.ff.p1.down\", \"text\": [\"(0.0001,0.0008)<br>True: (0.0000,0.0000)<br>mc.ff.p1.down\", \"(0.0017,0.0016)<br>True: (0.0100,0.0000)<br>mc.ff.p1.down\", \"(0.0034,0.0037)<br>True: (0.0200,0.0000)<br>mc.ff.p1.down\", \"(0.0070,0.0065)<br>True: (0.0300,0.0000)<br>mc.ff.p1.down\", \"(0.0135,0.0086)<br>True: (0.0400,0.0000)<br>mc.ff.p1.down\", \"(0.0007,0.0018)<br>True: (0.0000,0.0050)<br>mc.ff.p1.down\", \"(0.0017,0.0040)<br>True: (0.0100,0.0050)<br>mc.ff.p1.down\", \"(0.0044,0.0066)<br>True: (0.0200,0.0050)<br>mc.ff.p1.down\", \"(0.0085,0.0097)<br>True: (0.0300,0.0050)<br>mc.ff.p1.down\", \"(0.0146,0.0121)<br>True: (0.0400,0.0050)<br>mc.ff.p1.down\"], \"marker\": {\"color\": \"hsl(192.179487179, 57.5897435897%, 46.3076923077%)\", \"line\": {\"color\": \"black\", \"width\": 0.8}}, \"mode\": \"markers\", \"hoverinfo\": \"text\", \"y\": [0.0008353544999999999, 0.0015737325000000004, 0.003716169999999999, 0.006538589750000001, 0.008589521999999997, 0.0018282077500000001, 0.004046365249999999, 0.006564871500000001, 0.00973598225, 0.012085174749999998], \"x\": [7.577850000000004e-05, 0.0016687077499999998, 0.003401758250000001, 0.00697157, 0.013537783250000004, 0.0006565995, 0.0017202850000000002, 0.00442296025, 0.008534595750000002, 0.014583500999999995], \"type\": \"scatter\"}, {\"name\": \"mc.ff.p1.down Data\", \"text\": \"(0.0036,0.0010)<br>mc.ff.p1.down Data\", \"marker\": {\"color\": \"hsl(192.179487179, 57.5897435897%, 46.3076923077%)\", \"symbol\": \"star\", \"line\": {\"color\": \"black\", \"width\": 0.8}, \"size\": 20}, \"mode\": \"markers\", \"hoverinfo\": \"text\", \"y\": [0.00103257], \"x\": [0.00364635], \"type\": \"scatter\"}, {\"name\": \"mc.ff.p1.up\", \"text\": [\"(-0.0003,0.0006)<br>True: (0.0000,0.0000)<br>mc.ff.p1.up\", \"(0.0021,0.0015)<br>True: (0.0100,0.0000)<br>mc.ff.p1.up\", \"(0.0055,0.0035)<br>True: (0.0200,0.0000)<br>mc.ff.p1.up\", \"(0.0116,0.0043)<br>True: (0.0300,0.0000)<br>mc.ff.p1.up\", \"(0.0194,0.0055)<br>True: (0.0400,0.0000)<br>mc.ff.p1.up\", \"(0.0003,0.0019)<br>True: (0.0000,0.0050)<br>mc.ff.p1.up\", \"(0.0033,0.0038)<br>True: (0.0100,0.0050)<br>mc.ff.p1.up\", \"(0.0073,0.0059)<br>True: (0.0200,0.0050)<br>mc.ff.p1.up\", \"(0.0147,0.0075)<br>True: (0.0300,0.0050)<br>mc.ff.p1.up\", \"(0.0199,0.0096)<br>True: (0.0400,0.0050)<br>mc.ff.p1.up\"], \"marker\": {\"color\": \"hsl(175.769230769, 49.3846153846%, 52.4615384615%)\", \"line\": {\"color\": \"black\", \"width\": 0.8}}, \"mode\": \"markers\", \"hoverinfo\": \"text\", \"y\": [0.0006220832500000001, 0.0014706340000000002, 0.0035447540000000007, 0.004328675000000001, 0.005469404750000002, 0.001932858, 0.0037957485000000004, 0.005946973249999999, 0.007516218250000001, 0.009599268749999997], \"x\": [-0.00032861450000000014, 0.0020907324999999994, 0.005497649, 0.011608019750000004, 0.019364271249999995, 0.00028833875, 0.0032991920000000003, 0.007283198499999999, 0.01472470175, 0.019902232750000005], \"type\": \"scatter\"}, {\"name\": \"mc.ff.p1.up Data\", \"text\": \"(0.0053,0.0010)<br>mc.ff.p1.up Data\", \"marker\": {\"color\": \"hsl(175.769230769, 49.3846153846%, 52.4615384615%)\", \"symbol\": \"star\", \"line\": {\"color\": \"black\", \"width\": 0.8}, \"size\": 20}, \"mode\": \"markers\", \"hoverinfo\": \"text\", \"y\": [0.00099917], \"x\": [0.00532162], \"type\": \"scatter\"}, {\"name\": \"mc.ff.p2.down\", \"text\": [\"(-0.0001,0.0027)<br>True: (0.0000,0.0000)<br>mc.ff.p2.down\", \"(-0.0000,0.0042)<br>True: (0.0100,0.0000)<br>mc.ff.p2.down\", \"(0.0019,0.0064)<br>True: (0.0200,0.0000)<br>mc.ff.p2.down\", \"(0.0055,0.0090)<br>True: (0.0300,0.0000)<br>mc.ff.p2.down\", \"(0.0105,0.0107)<br>True: (0.0400,0.0000)<br>mc.ff.p2.down\", \"(-0.0003,0.0042)<br>True: (0.0000,0.0050)<br>mc.ff.p2.down\", \"(0.0013,0.0064)<br>True: (0.0100,0.0050)<br>mc.ff.p2.down\", \"(0.0023,0.0096)<br>True: (0.0200,0.0050)<br>mc.ff.p2.down\", \"(0.0060,0.0122)<br>True: (0.0300,0.0050)<br>mc.ff.p2.down\", \"(0.0119,0.0145)<br>True: (0.0400,0.0050)<br>mc.ff.p2.down\"], \"marker\": {\"color\": \"hsl(22.4615384615, 93.0769230769%, 64.5128205128%)\", \"line\": {\"color\": \"black\", \"width\": 0.8}}, \"mode\": \"markers\", \"hoverinfo\": \"text\", \"y\": [0.002688957999999999, 0.0041979245, 0.006447087999999999, 0.008997643500000001, 0.010737352249999997, 0.004214687500000001, 0.006428305749999999, 0.0095894015, 0.01218883825, 0.0144662245], \"x\": [-0.00011125649999999999, -3.57737500000007e-05, 0.0018899377500000009, 0.005461049500000002, 0.010466900000000001, -0.0002639525000000001, 0.0012578015000000008, 0.0023280767500000014, 0.006021424500000001, 0.011945471500000002], \"type\": \"scatter\"}, {\"name\": \"mc.ff.p2.down Data\", \"text\": \"(0.0025,0.0033)<br>mc.ff.p2.down Data\", \"marker\": {\"color\": \"hsl(22.4615384615, 93.0769230769%, 64.5128205128%)\", \"symbol\": \"star\", \"line\": {\"color\": \"black\", \"width\": 0.8}, \"size\": 20}, \"mode\": \"markers\", \"hoverinfo\": \"text\", \"y\": [0.00326492], \"x\": [0.00251653], \"type\": \"scatter\"}, {\"name\": \"mc.ff.p2.up\", \"text\": [\"(0.0003,0.0005)<br>True: (0.0000,0.0000)<br>mc.ff.p2.up\", \"(0.0003,0.0020)<br>True: (0.0100,0.0000)<br>mc.ff.p2.up\", \"(0.0043,0.0026)<br>True: (0.0200,0.0000)<br>mc.ff.p2.up\", \"(0.0090,0.0048)<br>True: (0.0300,0.0000)<br>mc.ff.p2.up\", \"(0.0164,0.0055)<br>True: (0.0400,0.0000)<br>mc.ff.p2.up\", \"(0.0003,0.0013)<br>True: (0.0000,0.0050)<br>mc.ff.p2.up\", \"(0.0019,0.0033)<br>True: (0.0100,0.0050)<br>mc.ff.p2.up\", \"(0.0053,0.0054)<br>True: (0.0200,0.0050)<br>mc.ff.p2.up\", \"(0.0116,0.0069)<br>True: (0.0300,0.0050)<br>mc.ff.p2.up\", \"(0.0174,0.0090)<br>True: (0.0400,0.0050)<br>mc.ff.p2.up\"], \"marker\": {\"color\": \"hsl(57.9487179487, 99.7435897436%, 85.7179487179%)\", \"line\": {\"color\": \"black\", \"width\": 0.8}}, \"mode\": \"markers\", \"hoverinfo\": \"text\", \"y\": [0.0004864785000000001, 0.0019988809999999997, 0.0026468565, 0.00484367125, 0.005491561249999999, 0.0013120477499999998, 0.0033385845000000005, 0.005374762, 0.006891027499999998, 0.008955405000000001], \"x\": [0.00031660750000000006, 0.00029721025000000074, 0.004263826000000002, 0.009003521999999996, 0.016406164, 0.0002697757500000001, 0.0018888967500000006, 0.005255649500000001, 0.01161580325, 0.017389104250000002], \"type\": \"scatter\"}, {\"name\": \"mc.ff.p2.up Data\", \"text\": \"(0.0042,0.0007)<br>mc.ff.p2.up Data\", \"marker\": {\"color\": \"hsl(57.9487179487, 99.7435897436%, 85.7179487179%)\", \"symbol\": \"star\", \"line\": {\"color\": \"black\", \"width\": 0.8}, \"size\": 20}, \"mode\": \"markers\", \"hoverinfo\": \"text\", \"y\": [0.0007019], \"x\": [0.00417491], \"type\": \"scatter\"}, {\"name\": \"mc.ff.rho2.down\", \"text\": [\"(0.0006,0.0015)<br>True: (0.0000,0.0000)<br>mc.ff.rho2.down\", \"(0.0015,0.0027)<br>True: (0.0100,0.0000)<br>mc.ff.rho2.down\", \"(0.0048,0.0036)<br>True: (0.0200,0.0000)<br>mc.ff.rho2.down\", \"(0.0096,0.0060)<br>True: (0.0300,0.0000)<br>mc.ff.rho2.down\", \"(0.0185,0.0061)<br>True: (0.0400,0.0000)<br>mc.ff.rho2.down\", \"(0.0010,0.0025)<br>True: (0.0000,0.0050)<br>mc.ff.rho2.down\", \"(0.0032,0.0039)<br>True: (0.0100,0.0050)<br>mc.ff.rho2.down\", \"(0.0068,0.0063)<br>True: (0.0200,0.0050)<br>mc.ff.rho2.down\", \"(0.0126,0.0080)<br>True: (0.0300,0.0050)<br>mc.ff.rho2.down\", \"(0.0193,0.0087)<br>True: (0.0400,0.0050)<br>mc.ff.rho2.down\"], \"marker\": {\"color\": \"hsl(63.4615384615, 93.0769230769%, 83.1538461538%)\", \"line\": {\"color\": \"black\", \"width\": 0.8}}, \"mode\": \"markers\", \"hoverinfo\": \"text\", \"y\": [0.0014805270000000001, 0.0026722042500000004, 0.0035701227500000007, 0.005975180250000001, 0.006124335250000002, 0.0024860767500000007, 0.003855401, 0.006324116, 0.008014448999999996, 0.00867974925], \"x\": [0.0006192979999999999, 0.0015328394999999991, 0.004753690250000001, 0.009589715749999998, 0.018480722749999998, 0.00102852875, 0.0031873974999999995, 0.006792177500000001, 0.01264134825, 0.019290105999999998], \"type\": \"scatter\"}, {\"name\": \"mc.ff.rho2.down Data\", \"text\": \"(0.0051,0.0013)<br>mc.ff.rho2.down Data\", \"marker\": {\"color\": \"hsl(63.4615384615, 93.0769230769%, 83.1538461538%)\", \"symbol\": \"star\", \"line\": {\"color\": \"black\", \"width\": 0.8}, \"size\": 20}, \"mode\": \"markers\", \"hoverinfo\": \"text\", \"y\": [0.00133563], \"x\": [0.00509759], \"type\": \"scatter\"}, {\"name\": \"mc.ff.rho2.up\", \"text\": [\"(0.0005,0.0031)<br>True: (0.0000,0.0000)<br>mc.ff.rho2.up\", \"(0.0008,0.0041)<br>True: (0.0100,0.0000)<br>mc.ff.rho2.up\", \"(0.0027,0.0066)<br>True: (0.0200,0.0000)<br>mc.ff.rho2.up\", \"(0.0049,0.0088)<br>True: (0.0300,0.0000)<br>mc.ff.rho2.up\", \"(0.0105,0.0108)<br>True: (0.0400,0.0000)<br>mc.ff.rho2.up\", \"(0.0008,0.0040)<br>True: (0.0000,0.0050)<br>mc.ff.rho2.up\", \"(0.0018,0.0059)<br>True: (0.0100,0.0050)<br>mc.ff.rho2.up\", \"(0.0032,0.0090)<br>True: (0.0200,0.0050)<br>mc.ff.rho2.up\", \"(0.0070,0.0119)<br>True: (0.0300,0.0050)<br>mc.ff.rho2.up\", \"(0.0117,0.0137)<br>True: (0.0400,0.0050)<br>mc.ff.rho2.up\"], \"marker\": {\"color\": \"hsl(335.0, 98.0%, 31.0%)\", \"line\": {\"color\": \"black\", \"width\": 0.8}}, \"mode\": \"markers\", \"hoverinfo\": \"text\", \"y\": [0.00306734575, 0.004133649499999999, 0.006572826999999999, 0.008788556499999997, 0.01075198225, 0.003968113249999998, 0.005942662999999999, 0.008987289999999998, 0.011905192749999998, 0.013719212249999998], \"x\": [0.0004785682499999997, 0.0008105660000000004, 0.0027049430000000013, 0.004885081499999999, 0.010514916999999999, 0.0008305587499999999, 0.0018077844999999995, 0.003165659500000001, 0.007023230499999998, 0.01168446075], \"type\": \"scatter\"}, {\"name\": \"mc.ff.rho2.up Data\", \"text\": \"(0.0028,0.0032)<br>mc.ff.rho2.up Data\", \"marker\": {\"color\": \"hsl(335.0, 98.0%, 31.0%)\", \"symbol\": \"star\", \"line\": {\"color\": \"black\", \"width\": 0.8}, \"size\": 20}, \"mode\": \"markers\", \"hoverinfo\": \"text\", \"y\": [0.00315691], \"x\": [0.00280695], \"type\": \"scatter\"}, {\"name\": \"mc.lumi.down\", \"text\": [\"(-0.0004,0.0012)<br>True: (0.0000,0.0000)<br>mc.lumi.down\", \"(0.0008,0.0016)<br>True: (0.0100,0.0000)<br>mc.lumi.down\", \"(0.0041,0.0027)<br>True: (0.0200,0.0000)<br>mc.lumi.down\", \"(0.0095,0.0047)<br>True: (0.0300,0.0000)<br>mc.lumi.down\", \"(0.0176,0.0052)<br>True: (0.0400,0.0000)<br>mc.lumi.down\", \"(0.0000,0.0017)<br>True: (0.0000,0.0050)<br>mc.lumi.down\", \"(0.0016,0.0036)<br>True: (0.0100,0.0050)<br>mc.lumi.down\", \"(0.0050,0.0060)<br>True: (0.0200,0.0050)<br>mc.lumi.down\", \"(0.0109,0.0079)<br>True: (0.0300,0.0050)<br>mc.lumi.down\", \"(0.0177,0.0094)<br>True: (0.0400,0.0050)<br>mc.lumi.down\"], \"marker\": {\"color\": \"hsl(14.7692307692, 88.4615384615%, 60.4102564103%)\", \"line\": {\"color\": \"black\", \"width\": 0.8}}, \"mode\": \"markers\", \"hoverinfo\": \"text\", \"y\": [0.00116140075, 0.0015930050000000002, 0.0027445615, 0.0046765455, 0.00515125375, 0.0017042792500000003, 0.003640518, 0.006045911249999999, 0.007885097499999997, 0.0094394335], \"x\": [-0.0004127557500000001, 0.0007869877500000007, 0.00407197175, 0.00954397475, 0.017605768749999997, 4.895924999999998e-05, 0.0016299915000000005, 0.00496334, 0.010899958250000001, 0.017662865750000006], \"type\": \"scatter\"}, {\"name\": \"mc.lumi.down Data\", \"text\": \"(0.0043,0.0008)<br>mc.lumi.down Data\", \"marker\": {\"color\": \"hsl(14.7692307692, 88.4615384615%, 60.4102564103%)\", \"symbol\": \"star\", \"line\": {\"color\": \"black\", \"width\": 0.8}, \"size\": 20}, \"mode\": \"markers\", \"hoverinfo\": \"text\", \"y\": [0.00077588], \"x\": [0.0043235], \"type\": \"scatter\"}, {\"name\": \"mc.lumi.up\", \"text\": [\"(0.0002,0.0065)<br>True: (0.0000,0.0000)<br>mc.lumi.up\", \"(0.0012,0.0079)<br>True: (0.0100,0.0000)<br>mc.lumi.up\", \"(0.0012,0.0112)<br>True: (0.0200,0.0000)<br>mc.lumi.up\", \"(0.0040,0.0135)<br>True: (0.0300,0.0000)<br>mc.lumi.up\", \"(0.0096,0.0154)<br>True: (0.0400,0.0000)<br>mc.lumi.up\", \"(0.0002,0.0080)<br>True: (0.0000,0.0050)<br>mc.lumi.up\", \"(0.0011,0.0110)<br>True: (0.0100,0.0050)<br>mc.lumi.up\", \"(0.0029,0.0132)<br>True: (0.0200,0.0050)<br>mc.lumi.up\", \"(0.0050,0.0163)<br>True: (0.0300,0.0050)<br>mc.lumi.up\", \"(0.0106,0.0187)<br>True: (0.0400,0.0050)<br>mc.lumi.up\"], \"marker\": {\"color\": \"hsl(348.846153846, 71.8461538462%, 47.9230769231%)\", \"line\": {\"color\": \"black\", \"width\": 0.8}}, \"mode\": \"markers\", \"hoverinfo\": \"text\", \"y\": [0.006523006500000002, 0.007942446500000002, 0.011214807, 0.013498950000000001, 0.015357890000000003, 0.00801332925, 0.011036115499999997, 0.013241341249999997, 0.016260313, 0.018679142500000002], \"x\": [0.00024925775000000005, 0.0011582009999999993, 0.0012480052499999998, 0.0040096687500000006, 0.00958700275, 0.000186671, 0.0011407262499999998, 0.0029446904999999995, 0.005028771250000001, 0.010633378749999998], \"type\": \"scatter\"}, {\"name\": \"mc.lumi.up Data\", \"text\": \"(0.0033,0.0057)<br>mc.lumi.up Data\", \"marker\": {\"color\": \"hsl(348.846153846, 71.8461538462%, 47.9230769231%)\", \"symbol\": \"star\", \"line\": {\"color\": \"black\", \"width\": 0.8}, \"size\": 20}, \"mode\": \"markers\", \"hoverinfo\": \"text\", \"y\": [0.00573217], \"x\": [0.00331081], \"type\": \"scatter\"}, {\"name\": \"mc.sideband.comb\", \"text\": [\"(-0.0002,0.0007)<br>True: (0.0000,0.0000)<br>mc.sideband.comb\", \"(0.0018,0.0015)<br>True: (0.0100,0.0000)<br>mc.sideband.comb\", \"(0.0052,0.0026)<br>True: (0.0200,0.0000)<br>mc.sideband.comb\", \"(0.0117,0.0034)<br>True: (0.0300,0.0000)<br>mc.sideband.comb\", \"(0.0197,0.0040)<br>True: (0.0400,0.0000)<br>mc.sideband.comb\", \"(0.0008,0.0018)<br>True: (0.0000,0.0050)<br>mc.sideband.comb\", \"(0.0030,0.0028)<br>True: (0.0100,0.0050)<br>mc.sideband.comb\", \"(0.0081,0.0041)<br>True: (0.0200,0.0050)<br>mc.sideband.comb\", \"(0.0143,0.0058)<br>True: (0.0300,0.0050)<br>mc.sideband.comb\", \"(0.0219,0.0066)<br>True: (0.0400,0.0050)<br>mc.sideband.comb\"], \"marker\": {\"color\": \"hsl(75.6153846154, 76.3076923077%, 76.6923076923%)\", \"line\": {\"color\": \"black\", \"width\": 0.8}}, \"mode\": \"markers\", \"hoverinfo\": \"text\", \"y\": [0.00071477375, 0.0015298712499999998, 0.0025863695000000004, 0.0034314607499999995, 0.00401240575, 0.0018063952500000004, 0.00280050975, 0.0041274745000000005, 0.0058169385, 0.0066346159999999986], \"x\": [-0.00015332375000000003, 0.0017655912500000003, 0.005178663499999998, 0.011741390749999997, 0.019699201000000003, 0.0008035410000000002, 0.00302240275, 0.008125616499999998, 0.014276684499999998, 0.0219012995], \"type\": \"scatter\"}, {\"name\": \"mc.sideband.comb Data\", \"text\": \"(0.0025,0.0010)<br>mc.sideband.comb Data\", \"marker\": {\"color\": \"hsl(75.6153846154, 76.3076923077%, 76.6923076923%)\", \"symbol\": \"star\", \"line\": {\"color\": \"black\", \"width\": 0.8}, \"size\": 20}, \"mode\": \"markers\", \"hoverinfo\": \"text\", \"y\": [0.00096591], \"x\": [0.00254552], \"type\": \"scatter\"}], {\"hovermode\": \"closest\", \"xaxis\": {\"range\": [-0.01, 0.03], \"title\": \"$\\\\text{Extracted } D\\\\tau \\\\text{ Proportion}$\"}, \"yaxis\": {\"range\": [-0.005, 0.025], \"title\": \"$\\\\text{Extracted } D^*\\\\tau \\\\text{ Proportion}$\"}}, {\"linkText\": \"Export to plot.ly\", \"showLink\": true})});</script>"
      ]
     },
     "metadata": {},
     "output_type": "display_data"
    }
   ],
   "source": [
    "# Traces\n",
    "traces = []\n",
    "\n",
    "colors = cl.interp(cl.scales['11']['div']['Spectral'], len(bias_table_dict.keys()))\n",
    "np.random.seed(3)\n",
    "random_idx = np.random.permutation(range(len(bias_table_dict.keys())))\n",
    "for i, (k, v) in enumerate(sorted(bias_table_dict.iteritems())):\n",
    "    if k == 'central':\n",
    "        color = 'black'\n",
    "    else:\n",
    "        color = colors[random_idx[i]]\n",
    "    text = ['({:.4f},{:.4f})<br>'\n",
    "            'True: ({:.4f},{:.4f})<br>'\n",
    "            '{}'.format(w + y, x + z, w, x, k) for w, x, y, z in zip(v[:,0], v[:,1], v[:,2], v[:,3])]\n",
    "    traces.append(go.Scatter(x = v[:,0]+v[:,2], \n",
    "                             y = v[:,1]+v[:,3], \n",
    "                             mode = 'markers', \n",
    "                             name = k,\n",
    "                             marker = {'color': color,\n",
    "                                       'line': go.Line(color = 'black', width = 0.8)},\n",
    "                             text = text,\n",
    "                             hoverinfo = 'text'))\n",
    "    traces.append(go.Scatter(x = [data_proportions_dict[k][0]],\n",
    "                             y = [data_proportions_dict[k][1]],\n",
    "                             mode = 'markers',\n",
    "                             name = '{} Data'.format(k),\n",
    "                             marker = {'symbol': 'star', 'size': 20, 'color': color,\n",
    "                                       'line': go.Line(color = 'black', width = 0.8)},\n",
    "                             text = '({:.4f},{:.4f})<br>{} Data'.format(data_proportions_dict[k][0],\n",
    "                                                                        data_proportions_dict[k][1],\n",
    "                                                                        k),\n",
    "                             hoverinfo = 'text'))\n",
    "    \n",
    "# traces.append(go.Scatter(x = [central_data_extracted_proportions[0]],\n",
    "#                          y = [central_data_extracted_proportions[1]],\n",
    "#                          mode = 'markers',\n",
    "#                          name = 'Central Data',\n",
    "#                          marker = {'symbol': 'star', 'size': 20, 'color': 'blue'}))\n",
    "\n",
    "# Layout\n",
    "layout = go.Layout(\n",
    "    xaxis = {'title': '$\\\\text{Extracted } D\\\\tau \\\\text{ Proportion}$',\n",
    "             'range': [-0.01, 0.03]},\n",
    "    yaxis = {'title': '$\\\\text{Extracted } D^*\\\\tau \\\\text{ Proportion}$',\n",
    "             'range': [-0.005, 0.025]},\n",
    "    hovermode = 'closest'\n",
    ")\n",
    "\n",
    "# Plot\n",
    "fig = go.Figure(data=traces, layout=layout)\n",
    "py.iplot(fig)"
   ]
  },
  {
   "cell_type": "markdown",
   "metadata": {},
   "source": [
    "# Single-click entries in the legend to show/hide from chart\n",
    "# Double-click any entry to hide-all/show-all"
   ]
  }
 ],
 "metadata": {
  "kernelspec": {
   "display_name": "Python 2",
   "language": "python",
   "name": "python2"
  },
  "language_info": {
   "codemirror_mode": {
    "name": "ipython",
    "version": 2
   },
   "file_extension": ".py",
   "mimetype": "text/x-python",
   "name": "python",
   "nbconvert_exporter": "python",
   "pygments_lexer": "ipython2",
   "version": "2.7.12"
  }
 },
 "nbformat": 4,
 "nbformat_minor": 0
}
